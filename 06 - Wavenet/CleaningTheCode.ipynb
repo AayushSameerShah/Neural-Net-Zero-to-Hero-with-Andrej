{
 "cells": [
  {
   "cell_type": "markdown",
   "id": "02726bf1-ed67-4354-9fa2-fb9012b9ebd9",
   "metadata": {},
   "source": [
    "# 🧹  Before WaveNet, a bit of cleaning \n",
    "We have finally made through the backprop! Congrats! Now, we are continuing our **ride** to reach at the GPT. And on this step, we will be making a *bit more complex* model, which will let us get more control over the dynamics of the learning.\n",
    "\n",
    " 🧼 **But first** we will clean the code a bit more... let's do that now, without being lazy <br>\n",
    " Let's do it.\n",
    " \n",
    "\n",
    " *PS: I will stasy with the single special token as Andrej uses, to keep track of the losses, so instead of `<` and `>`, we will use only `.`*"
   ]
  },
  {
   "cell_type": "code",
   "execution_count": 1,
   "id": "cb7fabc6-8ab0-4366-b722-61226b8d9724",
   "metadata": {},
   "outputs": [],
   "source": [
    "import os    \n",
    "os.environ['KMP_DUPLICATE_LIB_OK'] = 'True'"
   ]
  },
  {
   "cell_type": "markdown",
   "id": "3e793dcf-b3fb-42ed-9508-2185410fc6e0",
   "metadata": {},
   "source": [
    "# 1️⃣ Loading & creating the dataset"
   ]
  },
  {
   "cell_type": "code",
   "execution_count": 1,
   "id": "33401c75-be2d-485b-a1bb-b39001581825",
   "metadata": {},
   "outputs": [],
   "source": [
    "import torch\n",
    "import numpy as np\n",
    "import matplotlib.pyplot as plt\n",
    "\n",
    "# loading the dataset\n",
    "with open(\"./names.txt\", \"r\") as file:\n",
    "    names = file.read().splitlines()\n",
    "\n",
    "# total unique characters\n",
    "characters = sorted(list(set(''.join(names))))\n",
    "\n",
    "# Builind index-to-char and char-to-index\n",
    "number_to_chr = {k:v for k, v in enumerate([\".\"] + characters)}\n",
    "chr_to_number = {v:k for k, v in enumerate([\".\"] + characters)}"
   ]
  },
  {
   "cell_type": "markdown",
   "id": "847adf3e-7c7f-4974-87f3-26bd52c2f321",
   "metadata": {},
   "source": [
    "👉 Dataset creation"
   ]
  },
  {
   "cell_type": "code",
   "execution_count": 2,
   "id": "8133fb0f-8a42-4505-a71a-c13082697cda",
   "metadata": {},
   "outputs": [],
   "source": [
    "# This function will build the dataset and return the X, Y\n",
    "# Used when we have multiple splits :)\n",
    "block_size = 3\n",
    "def build_dataset(shuffled_names):\n",
    "    sot = chr_to_number[\".\"]\n",
    "\n",
    "    X = []\n",
    "    y = []\n",
    "\n",
    "    for name in shuffled_names: #FOR ALL NAMES\n",
    "        window_chars = [sot] * block_size\n",
    "        name = name + \".\"\n",
    "\n",
    "        for ch in name:\n",
    "            _3chars = ''.join(\n",
    "                list(\n",
    "                    map(lambda x:number_to_chr[x], window_chars)\n",
    "                )) \n",
    "            ch_index = chr_to_number[ch]\n",
    "\n",
    "            X.append(window_chars)\n",
    "            y.append(ch_index)\n",
    "            window_chars = window_chars[1:] + [ch_index]\n",
    "\n",
    "    X = torch.tensor(X)\n",
    "    y = torch.tensor(y)\n",
    "    return X, y"
   ]
  },
  {
   "cell_type": "code",
   "execution_count": 3,
   "id": "07f4f781-0d36-41c7-bece-7552e8f6ffd3",
   "metadata": {},
   "outputs": [
    {
     "name": "stdout",
     "output_type": "stream",
     "text": [
      "* Xtrain.shape = torch.Size([182625, 3])\n",
      "* Xval.shape = torch.Size([22655, 3])\n",
      "* Xtest.shape = torch.Size([22866, 3])\n"
     ]
    }
   ],
   "source": [
    "import random\n",
    "random.seed(42)\n",
    "random.shuffle(names) # In-place shuffling. No longer first word will be \"emma\"\n",
    "\n",
    "\n",
    "train_idx = int(0.8 * len(names)) # 80%\n",
    "val_idx = int(0.9 * len(names)) # 90% - 80% = 10%\n",
    "\n",
    "Xtrain, ytrain = build_dataset(names[:train_idx])\n",
    "Xval, yval = build_dataset(names[train_idx:val_idx])\n",
    "Xtest, ytest = build_dataset(names[val_idx:])\n",
    "\n",
    "print(f\"* {Xtrain.shape = }\\n* {Xval.shape = }\\n* {Xtest.shape = }\")"
   ]
  },
  {
   "cell_type": "markdown",
   "id": "147e9f24-0630-4938-939e-4371357bb181",
   "metadata": {},
   "source": [
    "👉 What is in the training?"
   ]
  },
  {
   "cell_type": "code",
   "execution_count": 4,
   "id": "25363140-e4f4-493a-8730-ed29e62abf84",
   "metadata": {},
   "outputs": [
    {
     "name": "stdout",
     "output_type": "stream",
     "text": [
      "... → y\n",
      "..y → u\n",
      ".yu → h\n",
      "yuh → e\n",
      "uhe → n\n",
      "hen → g\n",
      "eng → .\n",
      "\n",
      "... → d\n",
      "..d → i\n",
      ".di → o\n",
      "dio → n\n",
      "ion → d\n",
      "ond → r\n",
      "ndr → e\n",
      "dre → .\n",
      "\n",
      "... → x\n",
      "..x → a\n",
      ".xa → v\n",
      "xav → i\n",
      "avi → e\n"
     ]
    }
   ],
   "source": [
    "for x, y in zip(Xtrain[:20], ytrain[:20]):\n",
    "    print(''.join(number_to_chr[ix.item()] for ix in x), \"→\", number_to_chr[y.item()])\n",
    "    if y.item() == 0: print()"
   ]
  },
  {
   "cell_type": "markdown",
   "id": "0b2931b1-9519-45fb-a8e7-142882716173",
   "metadata": {},
   "source": [
    "# 2️⃣ We \"pytorchified\" the code, remember?"
   ]
  },
  {
   "cell_type": "markdown",
   "id": "642d42b4-26f5-466a-a4fa-9db2bc2b956f",
   "metadata": {
    "tags": []
   },
   "source": [
    "## Creating a linear class "
   ]
  },
  {
   "cell_type": "code",
   "execution_count": 6,
   "id": "e4f4bf3e-846f-44db-b2ee-29e9e1f96050",
   "metadata": {},
   "outputs": [],
   "source": [
    "class Linear:\n",
    "    \"\"\"\n",
    "    This will be used to create a Linear Layer of `n_ins` and `n_outs`\n",
    "    and also performs the matrix multiplication\n",
    "    \n",
    "    - Possible to enable/disable the bias\n",
    "    - Automatically set the weights and initialize them with Kaiming\n",
    "    \"\"\"\n",
    "    \n",
    "    def __init__(self, n_ins, n_outs, bias=True):\n",
    "        self.weight = torch.randn(n_ins, n_outs) / n_ins**0.5\n",
    "        self.bias = torch.zeros(n_outs) if bias else None\n",
    "        \n",
    "    def __call__(self, x):\n",
    "        self.out = x @ self.weight\n",
    "        if self.bias is not None:\n",
    "            self.out += self.bias\n",
    "        return self.out\n",
    "    \n",
    "    def parameters(self):\n",
    "        return [self.weight] + ([] if self.bias is None else [self.bias])"
   ]
  },
  {
   "cell_type": "markdown",
   "id": "66e7d664-c64b-43db-8509-1d8fe32ff488",
   "metadata": {
    "tags": []
   },
   "source": [
    "## Creating a BatchNorm class "
   ]
  },
  {
   "cell_type": "code",
   "execution_count": 7,
   "id": "27b3a1fa-d8e0-4455-93e9-08708f88b3ba",
   "metadata": {
    "tags": []
   },
   "outputs": [],
   "source": [
    "class BatchNorm1d:\n",
    "    \"\"\"\n",
    "    This will implement the whole batchnorm stuff that can later be added \n",
    "    with the linear layer.\n",
    "    \n",
    "    - Perform normalization\n",
    "    - Keep track of the statistics of the batch \"while\" training \"and while\" evaluation\n",
    "    - Distinction between training and evaluation/inference\n",
    "    \"\"\"\n",
    "    \n",
    "    def __init__(self, dim, eps=1e-5, momentum=0.1):\n",
    "        \"\"\"\n",
    "        `eps`: Adds a small number in the denomenator while standardizing to\n",
    "            avoid division by zero error\n",
    "            \n",
    "        `momentum`: Used in the calculation of the statistics while training\n",
    "            to set the effect of how much of the std and mean to keep from the\n",
    "            current batch. High momentum means learn more and visaversa.\n",
    "        \"\"\"\n",
    "        \n",
    "        self.dim = dim\n",
    "        self.eps = eps\n",
    "        self.momentum = momentum\n",
    "        self.training = True # Will be explained later in a bit below.\n",
    "        \n",
    "        ### For scaling & shifting\n",
    "        # Sacler will be called `gamma`\n",
    "        # Shifter will be called `beta`\n",
    "        self.gamma = torch.ones(dim)\n",
    "        self.beta = torch.zeros(dim)\n",
    "        \n",
    "        ### Keep track of running mean and variance for the inference!\n",
    "        self.running_mean = torch.zeros(dim)\n",
    "        self.running_var = torch.ones(dim)\n",
    "        \n",
    "        \n",
    "    def __call__(self, x):   \n",
    "        ### If `training` then calculate the mean and var \n",
    "        if self.training:\n",
    "            xmean = x.mean(0, keepdims=True)\n",
    "            xvar = x.var(0, keepdims=True)\n",
    "        ### If `not training` then use the running mean and var\n",
    "        else:\n",
    "            xmean = self.running_mean\n",
    "            xvar = self.running_var\n",
    "            \n",
    "        ### Normalize!\n",
    "        xhat = (x - xmean) / torch.sqrt(xvar + self.eps)\n",
    "        self.out = self.gamma * xhat + self.beta\n",
    "        \n",
    "        ### Calculate the running mean and variance\n",
    "        if self.training:\n",
    "            with torch.no_grad():\n",
    "                self.running_mean = (1 - self.momentum) * self.running_mean + self.momentum * xmean\n",
    "                self.running_var = (1 - self.momentum) * self.running_var + self.momentum * xvar\n",
    "        return self.out\n",
    "    \n",
    "    def parameters(self):\n",
    "        return [self.gamma, self.beta]"
   ]
  },
  {
   "cell_type": "markdown",
   "id": "0722f61d-1ab3-4b36-ab47-a527a31943a7",
   "metadata": {},
   "source": [
    "This code:\n",
    "```python\n",
    "if self.training:\n",
    "            with torch.no_grad():\n",
    "                self.running_mean = (1 - self.momentum) * running_mean + self.momentum * xmean\n",
    "                self.running_var = (1 - self.momentum) * running_var + self.momentum * xvar\n",
    "        return self.out\n",
    "```\n",
    "\n",
    "If it is not clear, don't worry. \n",
    "- Here we are simply calculating the mean and variance from the training and saving them so that later **while the inference** it can be used\n",
    "- The way it is learnt is called \"exponential smoothing average\" or \"EWMA\". \n",
    "\n",
    "> 🤗 <br>I have made a comprehensive guide on exponential smoothing (EWMA) in my [time-series repository](https://github.com/AayushSameerShah/TimeSeries-Forecasting/blob/main/2.%20Exponential%20Smoothing%20and%20ETS/3.%20EWMA.ipynb) *(direct link to that topic)*."
   ]
  },
  {
   "cell_type": "markdown",
   "id": "70779d23-5230-45da-ba3e-2b02959d41d5",
   "metadata": {
    "tags": []
   },
   "source": [
    "## Creating a Tanh class "
   ]
  },
  {
   "cell_type": "code",
   "execution_count": 8,
   "id": "ed9f510d-a27d-4460-8990-9be84878e81e",
   "metadata": {},
   "outputs": [],
   "source": [
    "class Tanh:\n",
    "    \"\"\"\n",
    "    Just to calculate the `tanh`\n",
    "    \"\"\"\n",
    "    \n",
    "    def __call__(self, x):\n",
    "        self.out = torch.tanh(x)\n",
    "        return self.out\n",
    "    \n",
    "    def parameters(self):\n",
    "        return []"
   ]
  },
  {
   "cell_type": "code",
   "execution_count": 9,
   "id": "ec9a8a6e-bfe9-4cdd-8d1b-2ce693fb1150",
   "metadata": {},
   "outputs": [],
   "source": [
    "torch.manual_seed(42);"
   ]
  },
  {
   "cell_type": "markdown",
   "id": "257ecca8-abe6-47cc-ad18-a2c94a7281c8",
   "metadata": {
    "tags": []
   },
   "source": [
    "## 3️⃣ Creating a network (OLD WAY)"
   ]
  },
  {
   "cell_type": "code",
   "execution_count": 10,
   "id": "9940d8ee-3594-44f5-9cf8-05f8180c1baa",
   "metadata": {},
   "outputs": [],
   "source": [
    "n_embd = 10\n",
    "n_neurons = 200\n",
    "vocab_size = len(number_to_chr) # 28\n",
    "\n",
    "embeddings = torch.randn(vocab_size, n_embd)\n",
    "layers = [\n",
    "    Linear(n_embd * block_size, n_neurons), \n",
    "    BatchNorm1d(n_neurons),\n",
    "    Tanh(),\n",
    "    Linear(n_neurons, vocab_size), \n",
    "]"
   ]
  },
  {
   "cell_type": "code",
   "execution_count": 11,
   "id": "5bb0fc35-62bf-4ce5-a0d5-96a689424865",
   "metadata": {},
   "outputs": [
    {
     "name": "stdout",
     "output_type": "stream",
     "text": [
      "12297\n"
     ]
    }
   ],
   "source": [
    "with torch.no_grad():\n",
    "    # Scrutinizing - 1 effect: Make the outputs less confident\n",
    "    layers[-1].weight *= 0.1 # the magic number ;)\n",
    "\n",
    "parameters = [embeddings]\n",
    "for layer in layers:\n",
    "    for p in layer.parameters():\n",
    "        parameters.append(p)\n",
    "\n",
    "print(sum(p.nelement() for p in parameters))\n",
    "for p in parameters:\n",
    "    p.requires_grad = True"
   ]
  },
  {
   "cell_type": "markdown",
   "id": "cec168f6-7d8d-402a-a9f6-fcde8b828bf8",
   "metadata": {
    "tags": []
   },
   "source": [
    "## Train!"
   ]
  },
  {
   "cell_type": "code",
   "execution_count": 12,
   "id": "884e80ff-0e9d-478a-8f0f-60621b7a8a5b",
   "metadata": {},
   "outputs": [],
   "source": [
    "import torch.nn.functional as F"
   ]
  },
  {
   "cell_type": "code",
   "execution_count": 13,
   "id": "2705ce0c-433f-4964-b1fe-2476b5ca3579",
   "metadata": {},
   "outputs": [
    {
     "name": "stdout",
     "output_type": "stream",
     "text": [
      "      0/ 100000: 3.2966\n",
      "  10000/ 100000: 2.2322\n",
      "  20000/ 100000: 2.3166\n",
      "  30000/ 100000: 2.1226\n",
      "  40000/ 100000: 2.2524\n",
      "  50000/ 100000: 2.3476\n",
      "  60000/ 100000: 1.8864\n",
      "  70000/ 100000: 1.9446\n",
      "  80000/ 100000: 2.6730\n",
      "  90000/ 100000: 2.1364\n"
     ]
    }
   ],
   "source": [
    "epochs = 1_00_000\n",
    "batch_size = 32\n",
    "losses = []\n",
    "\n",
    "for i in range(epochs):\n",
    "    sample_idx = torch.randint(0, Xtrain.shape[0], (batch_size,))\n",
    "    Xb, Yb = Xtrain[sample_idx], ytrain[sample_idx]\n",
    "    \n",
    "    # 1️⃣ Forward pass\n",
    "    emb = embeddings[Xb] \n",
    "    x = emb.view(-1, block_size * n_embd)\n",
    "    for layer in layers:\n",
    "        x = layer(x)\n",
    "    loss = F.cross_entropy(x, Yb) \n",
    "    \n",
    "    # 2️⃣ Backward\n",
    "    for p in parameters:\n",
    "        p.grad = None\n",
    "    loss.backward()\n",
    "    \n",
    "    # 3️⃣ Update - with decay\n",
    "    learning_rate = 0.1 if i < 10_000 else 0.01\n",
    "    for p in parameters:\n",
    "        p.data += -learning_rate * p.grad\n",
    "        \n",
    "    if i % 10000 == 0:\n",
    "        print(f'{i:7d}/{epochs:7d}: {loss.item():.4f}')\n",
    "    losses.append(loss.log10().item()) # for better visualization "
   ]
  },
  {
   "cell_type": "code",
   "execution_count": 14,
   "id": "f452f84c-1470-41b2-9231-53919a359230",
   "metadata": {},
   "outputs": [
    {
     "data": {
      "text/plain": [
       "[<matplotlib.lines.Line2D at 0x21b1c946a90>]"
      ]
     },
     "execution_count": 14,
     "metadata": {},
     "output_type": "execute_result"
    },
    {
     "data": {
      "image/png": "[encoded data removed]",
      "text/plain": [
       "<Figure size 432x288 with 1 Axes>"
      ]
     },
     "metadata": {
      "needs_background": "light"
     },
     "output_type": "display_data"
    }
   ],
   "source": [
    "plt.plot(losses)"
   ]
  },
  {
   "cell_type": "markdown",
   "id": "c5105bff-2203-4f18-8aa3-ab48fd627d10",
   "metadata": {
    "tags": []
   },
   "source": [
    "## Evaluate"
   ]
  },
  {
   "cell_type": "code",
   "execution_count": 15,
   "id": "6d39cabc-69bb-4c8b-980e-0266c1d0c614",
   "metadata": {},
   "outputs": [],
   "source": [
    "for layer in layers:\n",
    "    layer.training = False"
   ]
  },
  {
   "cell_type": "code",
   "execution_count": 16,
   "id": "c1a54d59-9102-4234-b3ec-dc6b7cf53ae4",
   "metadata": {},
   "outputs": [],
   "source": [
    "@torch.no_grad() # NEW - Will disable the gradient tracking temproarily - for performance sake\n",
    "def split_loss(split: str):\n",
    "    x, y = {\n",
    "        'train': (Xtrain, ytrain),\n",
    "        'test': (Xtest, ytest),\n",
    "        'val': (Xval, yval)\n",
    "    }[split]\n",
    "    \n",
    "    emb = embeddings[x]\n",
    "    x = emb.view(-1, block_size * n_embd)\n",
    "    for layer in layers:\n",
    "        x = layer(x)\n",
    "    final_loss = F.cross_entropy(x, y)\n",
    "    print(split.title(), \":\\t\", round(final_loss.item(), 5))"
   ]
  },
  {
   "cell_type": "code",
   "execution_count": 17,
   "id": "a7c419f7-3349-42ae-b9d7-98a2b6963363",
   "metadata": {},
   "outputs": [
    {
     "name": "stdout",
     "output_type": "stream",
     "text": [
      "Train :\t 2.12655\n",
      "Val :\t 2.15261\n",
      "Test :\t 2.15053\n"
     ]
    }
   ],
   "source": [
    "split_loss('train')\n",
    "split_loss('val')\n",
    "split_loss('test')"
   ]
  },
  {
   "cell_type": "markdown",
   "id": "bb56a84c-24da-4df0-a984-a01d1cf20193",
   "metadata": {
    "tags": []
   },
   "source": [
    "## Take inference"
   ]
  },
  {
   "cell_type": "code",
   "execution_count": 18,
   "id": "7ca387cf-293c-4691-8313-f2776a12ba62",
   "metadata": {},
   "outputs": [
    {
     "name": "stdout",
     "output_type": "stream",
     "text": [
      "jamelaxsuela.\n",
      "reemethneliwiie.\n",
      "merakiza.\n",
      "ahyan.\n",
      "fyja.\n",
      "jayeshuylah.\n",
      "eaj.\n",
      "aton.\n",
      "vajaia.\n",
      "yidonna.\n",
      "lareicarleise.\n",
      "ilon.\n",
      "imi.\n",
      "eddel.\n",
      "aajaevianai.\n",
      "fenzeeya.\n",
      "ikaisey.\n",
      "tal.\n",
      "abdaellarshia.\n",
      "alimiamareemido.\n"
     ]
    }
   ],
   "source": [
    "for _ in range(20):\n",
    "    out = []\n",
    "    context = [0] * block_size\n",
    "    \n",
    "    while True:\n",
    "        emb = embeddings[torch.tensor([context])]\n",
    "        x = emb.view(-1, block_size * n_embd)\n",
    "        for layer in layers:\n",
    "            x = layer(x)\n",
    "        logits = x\n",
    "        \n",
    "        probs = F.softmax(logits, dim=1)\n",
    "        ix = torch.multinomial(probs, num_samples=1).item()\n",
    "        context = context[1:] + [ix]\n",
    "        out.append(ix)\n",
    "        \n",
    "        if ix == 0:\n",
    "            break\n",
    "            \n",
    "    print(''.join(number_to_chr[i] for i in out))"
   ]
  },
  {
   "cell_type": "markdown",
   "id": "a2079613-08e3-4f67-aa14-abb931eee96f",
   "metadata": {
    "tags": []
   },
   "source": [
    "## 4️⃣ Creating a network (NEW WAY)\n",
    "Some little fixes, a more modular code."
   ]
  },
  {
   "cell_type": "markdown",
   "id": "950f86bb-88c7-47ca-a26e-a47761b36c17",
   "metadata": {},
   "source": [
    "### `1.` Fixing the chart \n",
    "A little fix, but notable."
   ]
  },
  {
   "cell_type": "code",
   "execution_count": 19,
   "id": "4b28302f-3069-4448-9d3b-5f7b523c3993",
   "metadata": {},
   "outputs": [
    {
     "data": {
      "image/png": "[encoded data removed]",
      "text/plain": [
       "<Figure size 432x288 with 1 Axes>"
      ]
     },
     "metadata": {
      "needs_background": "light"
     },
     "output_type": "display_data"
    }
   ],
   "source": [
    "plt.plot(torch.tensor(losses).view(-1, 1000).mean(1));"
   ]
  },
  {
   "cell_type": "markdown",
   "id": "02f105c7-9838-4e88-a049-c0ffbf9b782d",
   "metadata": {},
   "source": [
    "### `2.` Modulizing the Embedding\n",
    "\n",
    "We have been working with these lines:\n",
    "```python\n",
    "n_embd = 10\n",
    "n_neurons = 200\n",
    "vocab_size = len(number_to_chr) # 28\n",
    "\n",
    "embeddings = torch.randn(vocab_size, n_embd)\n",
    "layers = [\n",
    "    Linear(n_embd * block_size, n_neurons), \n",
    "    BatchNorm1d(n_neurons),\n",
    "    Tanh(),\n",
    "    Linear(n_neurons, vocab_size), \n",
    "]\n",
    "```\n",
    "\n",
    "**See**, we are progressively making our code more like the \"lego\" pieces which can be arranged together and can be used to build a higher structure, so all pieces should be *Manageable*."
   ]
  },
  {
   "cell_type": "markdown",
   "id": "2023d7e3-6b95-4051-8d70-be03ab31c4a0",
   "metadata": {},
   "source": [
    "We have the `embedding` layer, which is dangling differently, we need to modulize it."
   ]
  },
  {
   "cell_type": "code",
   "execution_count": 20,
   "id": "1413be47-c1f2-4f9f-acd8-881a14c0bfbe",
   "metadata": {},
   "outputs": [],
   "source": [
    "class Embedding:\n",
    "    \"\"\"\n",
    "    1. It will initialize the weights\n",
    "    2. It is able to call the weights based on their index\n",
    "    \"\"\"\n",
    "    def __init__(self, vocab_size, n_embd):\n",
    "        self.weights = torch.randn(vocab_size, n_embd)\n",
    "        \n",
    "    def __call__(self, IX):\n",
    "        self.out = self.weights[IX]\n",
    "        return self.out\n",
    "    \n",
    "    def parameters(self):\n",
    "        return [self.weights]"
   ]
  },
  {
   "cell_type": "code",
   "execution_count": 21,
   "id": "87f98fb0-c7ee-43bb-a3a9-a928fe0660fc",
   "metadata": {},
   "outputs": [],
   "source": [
    "## This is an amazing BUT simple layer!\n",
    "\n",
    "class Flatten:\n",
    "    \"\"\"\n",
    "    It will act as a \"concatenator\" of the received embeddings\n",
    "    of the sample characters.\n",
    "    \n",
    "    You know, `e, m, m` selected, and we want to use emb.view()?\n",
    "    This line does that exactly!\n",
    "    \"\"\"\n",
    "    def __call__(self, x):\n",
    "        self.out = x.view(x.shape[0], -1)\n",
    "        return self.out\n",
    "    \n",
    "    def parameters(self):\n",
    "        return []"
   ]
  },
  {
   "cell_type": "markdown",
   "id": "e83362f4-d000-4b80-b35a-f6da6c78f01d",
   "metadata": {},
   "source": [
    "#### 👨‍💻 Modifying the code "
   ]
  },
  {
   "cell_type": "code",
   "execution_count": 95,
   "id": "af02eb1a-78a8-4e46-8524-ed9469b83f84",
   "metadata": {},
   "outputs": [],
   "source": [
    "n_embd = 10\n",
    "n_neurons = 200\n",
    "vocab_size = len(number_to_chr) # 27\n",
    "\n",
    "# [- DEL] embeddings = torch.randn(vocab_size, n_embd)\n",
    "layers = [\n",
    "    Embedding(vocab_size, n_embd), # [+ ADD]\n",
    "    Flatten(),                     # [+ ADD]\n",
    "    Linear(n_embd * block_size, n_neurons), \n",
    "    BatchNorm1d(n_neurons),\n",
    "    Tanh(),\n",
    "    Linear(n_neurons, vocab_size), \n",
    "]"
   ]
  },
  {
   "cell_type": "code",
   "execution_count": 96,
   "id": "27aebe4a-6d45-4bb0-a357-7aa9111f6c4f",
   "metadata": {},
   "outputs": [],
   "source": [
    "for layer in layers:\n",
    "    layer.training = False"
   ]
  },
  {
   "cell_type": "code",
   "execution_count": 97,
   "id": "85974720-5197-49d5-bd91-0dda9761bce8",
   "metadata": {},
   "outputs": [
    {
     "name": "stdout",
     "output_type": "stream",
     "text": [
      "12297\n"
     ]
    }
   ],
   "source": [
    "with torch.no_grad():\n",
    "    layers[-1].weight *= 0.1\n",
    "\n",
    "# parameters = [embeddings]   # [- DEL] \n",
    "parameters = []\n",
    "for layer in layers:\n",
    "    for p in layer.parameters():\n",
    "        parameters.append(p)\n",
    "\n",
    "print(sum(p.nelement() for p in parameters))\n",
    "for p in parameters:\n",
    "    p.requires_grad = True"
   ]
  },
  {
   "cell_type": "code",
   "execution_count": 98,
   "id": "a46a91fd-acd4-4c95-b35f-1af265c3c4db",
   "metadata": {},
   "outputs": [
    {
     "name": "stdout",
     "output_type": "stream",
     "text": [
      "      0/ 200000: 3.2974\n",
      "  10000/ 200000: 2.4611\n",
      "  20000/ 200000: 2.0884\n",
      "  30000/ 200000: 2.0797\n",
      "  40000/ 200000: 2.2941\n",
      "  50000/ 200000: 2.3382\n",
      "  60000/ 200000: 2.1325\n",
      "  70000/ 200000: 2.1268\n",
      "  80000/ 200000: 1.9920\n",
      "  90000/ 200000: 2.1597\n",
      " 100000/ 200000: 1.6820\n",
      " 110000/ 200000: 2.2291\n",
      " 120000/ 200000: 2.0857\n",
      " 130000/ 200000: 2.1686\n",
      " 140000/ 200000: 2.3218\n",
      " 150000/ 200000: 2.2013\n",
      " 160000/ 200000: 1.8858\n",
      " 170000/ 200000: 1.7480\n",
      " 180000/ 200000: 2.3042\n",
      " 190000/ 200000: 2.3578\n"
     ]
    }
   ],
   "source": [
    "epochs = 10_000\n",
    "batch_size = 32\n",
    "losses = []\n",
    "\n",
    "for i in range(epochs):\n",
    "    sample_idx = torch.randint(0, Xtrain.shape[0], (batch_size,))\n",
    "    Xb, Yb = Xtrain[sample_idx], ytrain[sample_idx]\n",
    "    \n",
    "    # 1️⃣ Forward pass\n",
    "    # emb = embeddings[Xb]                  # [- DEL] \n",
    "    # x = emb.view(-1, block_size * n_embd) # [- DEL] \n",
    "    x = Xb                  # [+ ADD]\n",
    "    for layer in layers:\n",
    "        x = layer(x)\n",
    "    loss = F.cross_entropy(x, Yb) \n",
    "    \n",
    "    # 2️⃣ Backward\n",
    "    for p in parameters:\n",
    "        p.grad = None\n",
    "    loss.backward()\n",
    "    \n",
    "    # 3️⃣ Update - with decay\n",
    "    learning_rate = 0.1 if i < 10_000 else 0.01\n",
    "    for p in parameters:\n",
    "        p.data += -learning_rate * p.grad\n",
    "        \n",
    "    if i % 10000 == 0:\n",
    "        print(f'{i:7d}/{epochs:7d}: {loss.item():.4f}')\n",
    "    losses.append(loss.log10().item()) # for better visualization "
   ]
  },
  {
   "cell_type": "code",
   "execution_count": 99,
   "id": "f72a1a83-9af8-4d88-afe6-76071d640567",
   "metadata": {},
   "outputs": [
    {
     "data": {
      "image/png": "[encoded data removed]",
      "text/plain": [
       "<Figure size 432x288 with 1 Axes>"
      ]
     },
     "metadata": {
      "needs_background": "light"
     },
     "output_type": "display_data"
    }
   ],
   "source": [
    "plt.plot(torch.tensor(losses).view(-1, 1000).mean(1));"
   ]
  },
  {
   "cell_type": "code",
   "execution_count": 100,
   "id": "56aeebff-c5bd-48a1-b47c-28e2a7d65885",
   "metadata": {},
   "outputs": [],
   "source": [
    "@torch.no_grad() # NEW - Will disable the gradient tracking temproarily - for performance sake\n",
    "def split_loss(split: str):\n",
    "    x, y = {\n",
    "        'train': (Xtrain, ytrain),\n",
    "        'test': (Xtest, ytest),\n",
    "        'val': (Xval, yval)\n",
    "    }[split]\n",
    "    \n",
    "    for layer in layers:\n",
    "        x = layer(x)\n",
    "    final_loss = F.cross_entropy(x, y)\n",
    "    print(split.title(), \":\\t\", round(final_loss.item(), 5))"
   ]
  },
  {
   "cell_type": "code",
   "execution_count": 101,
   "id": "2540d898-6dd9-49f5-b221-a9c2dcd98e46",
   "metadata": {},
   "outputs": [
    {
     "name": "stdout",
     "output_type": "stream",
     "text": [
      "Train :\t 2.07861\n",
      "Val :\t 2.12486\n",
      "Test :\t 2.12907\n"
     ]
    }
   ],
   "source": [
    "split_loss('train')\n",
    "split_loss('val')\n",
    "split_loss('test')"
   ]
  },
  {
   "cell_type": "code",
   "execution_count": 102,
   "id": "e9542125-25e9-47d8-8681-d060cad0b6f4",
   "metadata": {},
   "outputs": [],
   "source": [
    "for layer in layers:\n",
    "    layer.training = False"
   ]
  },
  {
   "cell_type": "code",
   "execution_count": 103,
   "id": "ec3b755d-8594-4d84-b0c8-91fe65511cea",
   "metadata": {},
   "outputs": [
    {
     "name": "stdout",
     "output_type": "stream",
     "text": [
      "kem.\n",
      "den.\n",
      "nachrine.\n",
      "win.\n",
      "damone.\n",
      "tegs.\n",
      "delizani.\n",
      "zehl.\n",
      "sal.\n",
      "mayen.\n",
      "elziee.\n",
      "malayvonni.\n",
      "zhanani.\n",
      "zikoselynn.\n",
      "divia.\n",
      "siro.\n",
      "makriella.\n",
      "bazlee.\n",
      "maddope.\n",
      "lakyleah.\n"
     ]
    }
   ],
   "source": [
    "for _ in range(20):\n",
    "    out = []\n",
    "    context = [0] * block_size\n",
    "    \n",
    "    while True:\n",
    "        x = torch.tensor([context])\n",
    "        for layer in layers:\n",
    "            x = layer(x)\n",
    "        logits = x\n",
    "        \n",
    "        probs = F.softmax(logits, dim=1)\n",
    "        ix = torch.multinomial(probs, num_samples=1).item()\n",
    "        context = context[1:] + [ix]\n",
    "        out.append(ix)\n",
    "        \n",
    "        if ix == 0:\n",
    "            break\n",
    "            \n",
    "    print(''.join(number_to_chr[i] for i in out))"
   ]
  },
  {
   "cell_type": "markdown",
   "id": "00205046-e26e-48a2-bf64-79dc2e554690",
   "metadata": {},
   "source": [
    "# 🚢 Containers! \n",
    "Alright, enough training and old code reshaping. Now we are **getting serious**. We will use some serious things that you will see in the actual world. Let's see how."
   ]
  },
  {
   "cell_type": "markdown",
   "id": "04f231ee-bab7-4089-899f-ac417df0bcf0",
   "metadata": {},
   "source": [
    "- The container, **contains** or **stores** a bunch of layers, and the ***style*** to store these layers, is based on the type of the container. \n",
    "- Here we are using the `list` as the \"so called container\" but that is so open (in the `layers` variable).\n",
    "- Since we are modulizing things, there should also be **a way** to do the same with these layers organization.\n",
    "\n",
    "> 🏆 Mostly used container is **`sequential`** . Which does the linear, dense matrix multiplication as we did, and stores the layer in the \"sequential\"  fashion, *layers one-by-one*. "
   ]
  },
  {
   "cell_type": "code",
   "execution_count": 106,
   "id": "78a603f9-6221-4752-a6f6-017aa3c15122",
   "metadata": {},
   "outputs": [],
   "source": [
    "class Sequential:\n",
    "    \"\"\"\n",
    "    We will simply replace the explicit LIST keeping\n",
    "    and FOR LOOPING for the forward pass, in this\n",
    "    single class.\n",
    "    \n",
    "    This is very very neat thing to be done.\n",
    "    \"\"\"\n",
    "    \n",
    "    def __init__(self, layers):\n",
    "        self.layers = layers\n",
    "        \n",
    "    def __call__(self, x):\n",
    "        for layer in layers:\n",
    "            x = layer(x)\n",
    "        self.out = x\n",
    "        return self.out\n",
    "    \n",
    "    def parameters(self):\n",
    "        parameters = []\n",
    "        for layer in self.layers:\n",
    "            for p in layer.parameters():\n",
    "                parameters.append(p)\n",
    "        return parameters"
   ]
  },
  {
   "cell_type": "markdown",
   "id": "ab9cab32-a881-4291-a9c8-10736aaef5c3",
   "metadata": {},
   "source": [
    "## Updated code..."
   ]
  },
  {
   "cell_type": "code",
   "execution_count": 112,
   "id": "89bc23a1-ab6c-4e70-8d4a-277b2855c53b",
   "metadata": {},
   "outputs": [],
   "source": [
    "n_embd = 10\n",
    "n_neurons = 200\n",
    "vocab_size = len(number_to_chr) # 27\n",
    "\n",
    "layers = [\n",
    "    Embedding(vocab_size, n_embd), \n",
    "    Flatten(),                     \n",
    "    Linear(n_embd * block_size, n_neurons), \n",
    "    BatchNorm1d(n_neurons),\n",
    "    Tanh(),\n",
    "    Linear(n_neurons, vocab_size), \n",
    "]\n",
    "\n",
    "model = Sequential(layers) ### WE WILL CALL `MODEL` ✨"
   ]
  },
  {
   "cell_type": "code",
   "execution_count": 113,
   "id": "ae11679f-061f-4cc4-8fd6-299890157f46",
   "metadata": {},
   "outputs": [
    {
     "name": "stdout",
     "output_type": "stream",
     "text": [
      "12297\n"
     ]
    }
   ],
   "source": [
    "with torch.no_grad():\n",
    "    # layers[-1].weight *= 0.1     # [- DEL] \n",
    "    model.layers[-1].weight *= 0.1 # [+ ADD]\n",
    "\n",
    "# parameters = []                 # [- DEL] \n",
    "# for layer in layers:            # [- DEL] \n",
    "#    for p in layer.parameters(): # [- DEL] \n",
    "#        parameters.append(p)     # [- DEL] \n",
    "parameters = model.parameters()   # [+ ADD]\n",
    "\n",
    "print(sum(p.nelement() for p in parameters))\n",
    "for p in parameters:\n",
    "    p.requires_grad = True"
   ]
  },
  {
   "cell_type": "code",
   "execution_count": 114,
   "id": "b6e57eb5-55f1-40d6-81e0-effb19f7d759",
   "metadata": {},
   "outputs": [
    {
     "name": "stdout",
     "output_type": "stream",
     "text": [
      "      0/  10000: 3.2977\n"
     ]
    }
   ],
   "source": [
    "epochs = 10_000\n",
    "batch_size = 32\n",
    "losses = []\n",
    "\n",
    "for i in range(epochs):\n",
    "    sample_idx = torch.randint(0, Xtrain.shape[0], (batch_size,))\n",
    "    Xb, Yb = Xtrain[sample_idx], ytrain[sample_idx]\n",
    "    \n",
    "    # 1️⃣ Forward pass\n",
    "    # [- DEL] x = Xb\n",
    "    # [- DEL] for layer in layers:\n",
    "    #            x = layer(x)\n",
    "    logits = model(Xb) # [+ ADD]\n",
    "    loss = F.cross_entropy(logits, Yb) \n",
    "    \n",
    "    # 2️⃣ Backward\n",
    "    for p in parameters:\n",
    "        p.grad = None\n",
    "    loss.backward()\n",
    "    \n",
    "    # 3️⃣ Update - with decay\n",
    "    learning_rate = 0.1 if i < 10_000 else 0.01\n",
    "    for p in parameters:\n",
    "        p.data += -learning_rate * p.grad\n",
    "        \n",
    "    if i % 10000 == 0:\n",
    "        print(f'{i:7d}/{epochs:7d}: {loss.item():.4f}')\n",
    "    losses.append(loss.log10().item()) # for better visualization "
   ]
  },
  {
   "cell_type": "code",
   "execution_count": 115,
   "id": "a219fda7-c095-4447-a6b6-b3a1e1f70dfe",
   "metadata": {},
   "outputs": [
    {
     "data": {
      "image/png": "[encoded data removed]",
      "text/plain": [
       "<Figure size 432x288 with 1 Axes>"
      ]
     },
     "metadata": {
      "needs_background": "light"
     },
     "output_type": "display_data"
    }
   ],
   "source": [
    "plt.plot(torch.tensor(losses).view(-1, 1000).mean(1));"
   ]
  },
  {
   "cell_type": "code",
   "execution_count": 118,
   "id": "fd51ab6f-7b70-4a09-9eef-42b9e33414a2",
   "metadata": {},
   "outputs": [],
   "source": [
    "@torch.no_grad() # NEW - Will disable the gradient tracking temproarily - for performance sake\n",
    "def split_loss(split: str):\n",
    "    x, y = {\n",
    "        'train': (Xtrain, ytrain),\n",
    "        'test': (Xtest, ytest),\n",
    "        'val': (Xval, yval)\n",
    "    }[split]\n",
    "    \n",
    "    logits = model(x)\n",
    "    final_loss = F.cross_entropy(logits, y)\n",
    "    print(split.title(), \":\\t\", round(final_loss.item(), 5))"
   ]
  },
  {
   "cell_type": "code",
   "execution_count": 119,
   "id": "60cf7d05-8567-4c69-bcda-f60e8903992e",
   "metadata": {},
   "outputs": [
    {
     "name": "stdout",
     "output_type": "stream",
     "text": [
      "Train :\t 2.27653\n",
      "Val :\t 2.28524\n",
      "Test :\t 2.28415\n"
     ]
    }
   ],
   "source": [
    "split_loss('train')\n",
    "split_loss('val')\n",
    "split_loss('test')"
   ]
  },
  {
   "cell_type": "markdown",
   "id": "151304ff-d51f-457a-af23-5ef525bba06a",
   "metadata": {},
   "source": [
    "> NOTE: We have only trained the model for 10,000 epochs... just to test whether the code's working."
   ]
  },
  {
   "cell_type": "code",
   "execution_count": 120,
   "id": "0d63d308-0e6d-48b7-9cb4-6ed4438ed26c",
   "metadata": {},
   "outputs": [],
   "source": [
    "# for layer in layers:     # [- DEL]\n",
    "for layer in model.layers: # [+ ADD]\n",
    "    layer.training = False"
   ]
  },
  {
   "cell_type": "code",
   "execution_count": 121,
   "id": "c31aa989-7ebc-421a-a61e-199d4da0340a",
   "metadata": {},
   "outputs": [
    {
     "name": "stdout",
     "output_type": "stream",
     "text": [
      "anrian.\n",
      "aal.\n",
      "aswlynnal.\n",
      "katyliutiel.\n",
      "sza.\n",
      "abosaemizo.\n",
      "anvi.\n",
      "auliat.\n",
      "kaivvuer.\n",
      "anni.\n",
      "aadfenahnika.\n",
      "ner.\n",
      "nuy.\n",
      "gardnee.\n",
      "gere.\n",
      "annasero.\n",
      "sharzira.\n",
      "xmel.\n",
      "tree.\n",
      "nynle.\n"
     ]
    }
   ],
   "source": [
    "for _ in range(20):\n",
    "    out = []\n",
    "    context = [0] * block_size\n",
    "    \n",
    "    while True:\n",
    "        x = torch.tensor([context])\n",
    "        logits = model(x)\n",
    "        \n",
    "        probs = F.softmax(logits, dim=1)\n",
    "        ix = torch.multinomial(probs, num_samples=1).item()\n",
    "        context = context[1:] + [ix]\n",
    "        out.append(ix)\n",
    "        \n",
    "        if ix == 0:\n",
    "            break\n",
    "            \n",
    "    print(''.join(number_to_chr[i] for i in out))"
   ]
  },
  {
   "cell_type": "markdown",
   "id": "de036a47-6687-4e87-8d92-ad05e3439743",
   "metadata": {},
   "source": [
    "Yo! 🔥"
   ]
  },
  {
   "cell_type": "markdown",
   "id": "06890750-affd-49d5-97e2-d636d3fc100d",
   "metadata": {},
   "source": [
    "# 🌊 WaveNet! \n",
    "Yo! We will take a look at this beast, later in the next book 😊 <br>\n",
    "I would like to keep the code \"modulized\" so... but worry not, we will use the same classes used here, in the next book.\n",
    "\n",
    "See you there in a bit!"
   ]
  }
 ],
 "metadata": {
  "kernelspec": {
   "display_name": "Python 3 (ipykernel)",
   "language": "python",
   "name": "python3"
  },
  "language_info": {
   "codemirror_mode": {
    "name": "ipython",
    "version": 3
   },
   "file_extension": ".py",
   "mimetype": "text/x-python",
   "name": "python",
   "nbconvert_exporter": "python",
   "pygments_lexer": "ipython3",
   "version": "3.11.3"
  }
 },
 "nbformat": 4,
 "nbformat_minor": 5
}
