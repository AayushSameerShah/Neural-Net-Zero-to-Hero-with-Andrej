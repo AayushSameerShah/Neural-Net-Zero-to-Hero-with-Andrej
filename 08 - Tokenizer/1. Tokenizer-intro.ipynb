{
 "cells": [
  {
   "cell_type": "markdown",
   "id": "042dfc2e-a417-4a2b-87a7-21dd0e856158",
   "metadata": {},
   "source": [
    "# 🔤 A medium to communicate with the LLMs.\n",
    "\n",
    "### 📜 A simple back story\n",
    "Till now we have been working with the **character level** tokenizer which was very *naive* and actually worked pretty well! But in the real world the story of tokenzer is a little different.\n",
    "\n",
    "So, as a recap:\n",
    "1. Gather all characters (letters, numbers, special characters).\n",
    "2. Assign each a unique index.\n",
    "3. Convert characters to indices.\n",
    "4. Form a lookup table (embeddings).\n",
    "5. The table has `n` rows and `m` columns (where `m` may equal `n` for simple lookup).\n",
    "6. Train the model.\n",
    "8. **Pluck out the corresponding row** from the lookup table for a token.\n",
    "9. Done!\n",
    "\n",
    "### ⌚ Now\n",
    "Now, we are going to create the **chunk-level** tokenizer. And the most common algorithm is **Byte-pair encoding algorithm** *(which is very simple, indeed 😉)*."
   ]
  },
  {
   "cell_type": "markdown",
   "id": "69dff687-c671-4660-8b18-0e313fc339df",
   "metadata": {},
   "source": [
    "# 🤪 Some tokenizer weirdo\n",
    "There is a lot going on with tokenizers. As Andrej shares in his notebook, I will share some of my exploration as well. But first, let's just copy-paste his list of weirdos.\n",
    "\n",
    "Tokenization is at the heart of much weirdness of LLMs. Do not brush it off.\n",
    "\n",
    "- **Can't LLM spell** words? \n",
    "- **Can't LLM do super simple string processing** tasks like reversing a string?.\n",
    "    - Ex: Reverse the string \"lollipop\"\n",
    "- Why is LLM **worse at non-English** languages (e.g. Japanese)?\n",
    "- Why is LLM **bad at simple arithmetic**?\n",
    "- GPT-2 have **more** than necessary **trouble** coding in Python?\n",
    "- Why did my LLM **abruptly halt** when it sees the string `<|endoftext|>`?\n",
    "- What is this weird warning I get about a \"trailing whitespace\"? **Tokenization**.\n",
    "- Why the LLM break if I ask it about `SolidGoldMagikarp`?\n",
    "- Why should I prefer to use YAML over JSON with LLMs?\n",
    "- Why is LLM not actually end-to-end language modeling?\n",
    "- What is the real root of suffering? **Tokenization**."
   ]
  },
  {
   "cell_type": "markdown",
   "id": "b66edfd2-d7a9-495c-9523-5582c350a5e0",
   "metadata": {},
   "source": [
    "Well, the `SolidGoldMagikrap` was amazing to look at. Please watch the [video here](https://youtu.be/WO2X3oZEJOA).\n",
    "\n",
    "📝 But the summary is:\n",
    "- `SolidGoldMagikrap` is a whole token.\n",
    "- That doesn't mean anything on its own.\n",
    "- That **is actually a username** of the redditer.\n",
    "- It was so repetative, that the LLM got more count than necessary that became **a whole** token to the model.\n",
    "- When telling the earlier versions of the LLM to say `SolidGoldMagikrap`, the LLM used to give very different answer. Very very weird answer.\n",
    "\n",
    "All because of the **tokenization**."
   ]
  },
  {
   "cell_type": "markdown",
   "id": "ece730ef-5660-4d33-9de7-c45ff2f7ea59",
   "metadata": {},
   "source": [
    "### 🪀 Some tokenizers to play around\n",
    "1. https://tiktokenizer.vercel.app/\n",
    "2. https://platform.openai.com/tokenizer"
   ]
  },
  {
   "cell_type": "markdown",
   "id": "132a74da-e475-49f0-8eeb-c4580d7c12c4",
   "metadata": {},
   "source": [
    "### 👍🏻 Advantages of \"longer tokens\"\n",
    "- Saves space in the context window.\n",
    "- Less time for the model to learn basic connection/meaning of tokens (as now whole token represents something instead of its atomic terms)\n",
    "- Can fit more information in the same context window than its conterpart.\n",
    "\n",
    "### 👎🏻 Disadvantages\n",
    "- Need to keep track of all combinations (not all, but most of).\n",
    "- Increases vocab size.\n",
    "\n",
    "> *Still making the vocab size infinitely larger is not a good choice, as it will impact the softmax function and the prediction of the next token may not be optimal - unless you have a very very large training dataset*."
   ]
  },
  {
   "cell_type": "markdown",
   "id": "f5aa2ae1-9e1b-401a-8e4a-99568e20c788",
   "metadata": {},
   "source": [
    "# 🌌 The Unicode-verse\n",
    "Now, let's talk about the \"translation\" from from the ABC into 1, 2, 3 (the numerical representation).\n",
    "\n",
    "- What we did previously was to tokenize the vocabulary and give them individual index **manually**.\n",
    "- Python natively has *vocabulary support*.\n",
    "- So, if you endup using the `ord()` function, it will return you the *character level* index.\n",
    "\n",
    "For an example `ord(\"A\")` is `65` and `ord(\"👍\")` is `128077`.\n",
    "___\n",
    "\n",
    "### 🚫 But we can't use that.\n",
    "The unicode mapping keep changing over time, and we don't know if today's `65` become `223` tomorrow! And this will f** up the model's understanding.\n",
    "\n",
    "### 🔢 Something about the UTF-8, 16, and 32\n",
    "📃 In the spare time, do read: https://www.reedbeta.com/blog/programmers-intro-to-unicode/#the-unicode-codespace\n",
    "\n",
    "The hitline is:\n",
    "> UTF-8, 16 and 32 are just the **representations** and not the storages. They all store all characters of unicode. They just tell *how* the bytes are represented.\n",
    "\n",
    "**Example:**\n",
    "- Say for an example `a` has the number `97`. So, when we encode that with:\n",
    "```python\n",
    ">>>list(\"a\".encode(\"utf-16\"))\n",
    "[97]\n",
    "\n",
    ">>> list(\"a\".encode(\"utf-16\"))\n",
    "[255, 254, 97, 0, 98, 0]\n",
    "\n",
    ">>> list(\"a\".encode(\"utf-32\"))\n",
    "[255, 254, 0, 0, 97, 0, 0, 0]\n",
    "```\n",
    "\n",
    "What happens is: All characters are already in the unicode database, but when you want to **represent** them, you select some sort of encoding, and that represents the stuff as needed.\n",
    "\n",
    "> 💬\n",
    ">\n",
    "> **A single byte can only store upto `256` individual characters**. The game is representing the stuff with the combinations of these bytes.\n",
    ">\n",
    "> — Aayush\n",
    "\n",
    "In the case of `a`, it was in the range of 256 so utf-8 could represent that with the single byte (8bits == 1 byte, and 32bits == 4bytes okay?).\n",
    "\n",
    "But with the utf-16 and utf-32 respectively, they want to add the additional zeros `0` to **support their structure.**\n",
    "\n",
    "Since `97` can be represented with a single byte, no need other bytes. And thus, utf-16 gave `[255, 254, 97, 0]` where `254, 97` are 2 bytes (16bits) and with utf-32 `[255, 254, 0, 0, 97, 0, 0, 0]` where `254, 0, 0, 97` are 4 bytes (32bits).\n",
    "\n",
    "The `254` and `255` represented the starting of the string characters. That is the structure, and also the remaining `0, 0, 0` represent the ending. Which are required for its internal representation.\n",
    "\n",
    "___\n",
    "\n",
    "Once we go beyond the `256` limit, we will be able to see the difference.\n",
    "\n",
    "___\n",
    "\n",
    "### Whtever, \n",
    "The point here is, **when we will use encoding, depending on the combinations *(even utf-8 will make the combinations when the character is out of its reach)* we will have a large byte stream to process**.\n",
    "\n",
    "> 💬\n",
    "> \n",
    "> *But we don't want to use the **raw** bytes of the utf-8 encoding, we want to be able to support larger vocabulary size that we can tune as a hyperparameter (like making larger or smaller vocab) **but also** we want to stick with the utf-8 encoding.*\n",
    ">\n",
    "> — Andrej\n"
   ]
  },
  {
   "cell_type": "markdown",
   "id": "1a898043-0e65-4657-8c00-6767a9abdc90",
   "metadata": {},
   "source": [
    "# 1️⃣0️⃣0️⃣1️⃣ BPE: Byte Pair Encoding\n",
    "\n",
    "It is:\n",
    "> *To iteratively find the pair of tokens that occur most frequently*.\n",
    "\n",
    "👉🏻 Here is a quick explanation from the [Wikipedia](https://en.wikipedia.org/wiki/Byte_pair_encoding):\n",
    "\n",
    "![BPE-Intro](./images/bpe-intro.png)"
   ]
  },
  {
   "cell_type": "markdown",
   "id": "4f80bed4-dbd3-4a3d-835a-7c72ff716c4c",
   "metadata": {},
   "source": [
    "**Quick takeaways:**\n",
    "- To build the vocab, we will need to run multiplepasses over the whole datasets\n",
    "- There, we will need to get the \"most common pair\".\n",
    "- Where **pair** means just two tokens together. Just the single-single.\n",
    "- Doing that iteratively will create a whole vocab.\n",
    "\n",
    "🔗 Andrej explains that easily in [this clip](https://youtube.com/clip/UgkxSxfurF6u8ju67A6ZJ8mxVd6V_A_ljUBL?si=hP9Ku8SXyxIExdsm)."
   ]
  },
  {
   "cell_type": "markdown",
   "id": "afb9f4f2-9af8-42d5-a2a1-58e8995774cb",
   "metadata": {},
   "source": [
    "# 🔥 Starting the BPE"
   ]
  },
  {
   "cell_type": "code",
   "execution_count": 1,
   "id": "c14190fc-8e3a-4a9f-b99a-34c2124a4e4c",
   "metadata": {},
   "outputs": [
    {
     "name": "stdout",
     "output_type": "stream",
     "text": [
      "Ｕｎｉｃｏｄｅ! 🅤🅝🅘🅒🅞🅓🅔‽ 🇺‌🇳‌🇮‌🇨‌🇴‌🇩‌🇪! 😄 The very name strikes fear and awe into the hearts of programmers worldwide. We all know we ought to “support Unicode” in our software (whatever that means—like using wchar_t for all the strings, right?). But Unicode can be abstruse, and diving into the thousand-page Unicode Standard plus its dozens of supplementary annexes, reports, and notes can be more than a little intimidating. I don’t blame programmers for still finding the whole thing mysterious, even 30 years after Unicode’s inception.\n",
      "👉🏻 LENGTH: 533\n",
      "---\n",
      "[239, 188, 181, 239, 189, 142, 239, 189, 137, 239, 189, 131, 239, 189, 143, 239, 189, 132, 239, 189, 133, 33, 32, 240, 159, 133, 164, 240, 159, 133, 157, 240, 159, 133, 152, 240, 159, 133, 146, 240, 159, 133, 158, 240, 159, 133, 147, 240, 159, 133, 148, 226, 128, 189, 32, 240, 159, 135, 186, 226, 128, 140, 240, 159, 135, 179, 226, 128, 140, 240, 159, 135, 174, 226, 128, 140, 240, 159, 135, 168, 226, 128, 140, 240, 159, 135, 180, 226, 128, 140, 240, 159, 135, 169, 226, 128, 140, 240, 159, 135, 170, 33, 32, 240, 159, 152, 132, 32, 84, 104, 101, 32, 118, 101, 114, 121, 32, 110, 97, 109, 101, 32, 115, 116, 114, 105, 107, 101, 115, 32, 102, 101, 97, 114, 32, 97, 110, 100, 32, 97, 119, 101, 32, 105, 110, 116, 111, 32, 116, 104, 101, 32, 104, 101, 97, 114, 116, 115, 32, 111, 102, 32, 112, 114, 111, 103, 114, 97, 109, 109, 101, 114, 115, 32, 119, 111, 114, 108, 100, 119, 105, 100, 101, 46, 32, 87, 101, 32, 97, 108, 108, 32, 107, 110, 111, 119, 32, 119, 101, 32, 111, 117, 103, 104, 116, 32, 116, 111, 32, 226, 128, 156, 115, 117, 112, 112, 111, 114, 116, 32, 85, 110, 105, 99, 111, 100, 101, 226, 128, 157, 32, 105, 110, 32, 111, 117, 114, 32, 115, 111, 102, 116, 119, 97, 114, 101, 32, 40, 119, 104, 97, 116, 101, 118, 101, 114, 32, 116, 104, 97, 116, 32, 109, 101, 97, 110, 115, 226, 128, 148, 108, 105, 107, 101, 32, 117, 115, 105, 110, 103, 32, 119, 99, 104, 97, 114, 95, 116, 32, 102, 111, 114, 32, 97, 108, 108, 32, 116, 104, 101, 32, 115, 116, 114, 105, 110, 103, 115, 44, 32, 114, 105, 103, 104, 116, 63, 41, 46, 32, 66, 117, 116, 32, 85, 110, 105, 99, 111, 100, 101, 32, 99, 97, 110, 32, 98, 101, 32, 97, 98, 115, 116, 114, 117, 115, 101, 44, 32, 97, 110, 100, 32, 100, 105, 118, 105, 110, 103, 32, 105, 110, 116, 111, 32, 116, 104, 101, 32, 116, 104, 111, 117, 115, 97, 110, 100, 45, 112, 97, 103, 101, 32, 85, 110, 105, 99, 111, 100, 101, 32, 83, 116, 97, 110, 100, 97, 114, 100, 32, 112, 108, 117, 115, 32, 105, 116, 115, 32, 100, 111, 122, 101, 110, 115, 32, 111, 102, 32, 115, 117, 112, 112, 108, 101, 109, 101, 110, 116, 97, 114, 121, 32, 97, 110, 110, 101, 120, 101, 115, 44, 32, 114, 101, 112, 111, 114, 116, 115, 44, 32, 97, 110, 100, 32, 110, 111, 116, 101, 115, 32, 99, 97, 110, 32, 98, 101, 32, 109, 111, 114, 101, 32, 116, 104, 97, 110, 32, 97, 32, 108, 105, 116, 116, 108, 101, 32, 105, 110, 116, 105, 109, 105, 100, 97, 116, 105, 110, 103, 46, 32, 73, 32, 100, 111, 110, 226, 128, 153, 116, 32, 98, 108, 97, 109, 101, 32, 112, 114, 111, 103, 114, 97, 109, 109, 101, 114, 115, 32, 102, 111, 114, 32, 115, 116, 105, 108, 108, 32, 102, 105, 110, 100, 105, 110, 103, 32, 116, 104, 101, 32, 119, 104, 111, 108, 101, 32, 116, 104, 105, 110, 103, 32, 109, 121, 115, 116, 101, 114, 105, 111, 117, 115, 44, 32, 101, 118, 101, 110, 32, 51, 48, 32, 121, 101, 97, 114, 115, 32, 97, 102, 116, 101, 114, 32, 85, 110, 105, 99, 111, 100, 101, 226, 128, 153, 115, 32, 105, 110, 99, 101, 112, 116, 105, 111, 110, 46]\n",
      "👉🏻 LENGTH: 616\n"
     ]
    }
   ],
   "source": [
    "# Let's see the example text in action\n",
    "text = \"Ｕｎｉｃｏｄｅ! 🅤🅝🅘🅒🅞🅓🅔‽ 🇺‌🇳‌🇮‌🇨‌🇴‌🇩‌🇪! 😄 The very name strikes fear and awe into the hearts of programmers worldwide. We all know we ought to “support Unicode” in our software (whatever that means—like using wchar_t for all the strings, right?). But Unicode can be abstruse, and diving into the thousand-page Unicode Standard plus its dozens of supplementary annexes, reports, and notes can be more than a little intimidating. I don’t blame programmers for still finding the whole thing mysterious, even 30 years after Unicode’s inception.\"\n",
    "\n",
    "tokens = text.encode(\"utf-8\") # raw bytes\n",
    "tokens = list(map(int, tokens)) # convert to a list of integers in range 0..255 for convenience\n",
    "print(text)\n",
    "print(\"👉🏻 LENGTH:\", len(text))\n",
    "print('---')\n",
    "print(tokens)\n",
    "print(\"👉🏻 LENGTH:\", len(tokens))"
   ]
  },
  {
   "cell_type": "markdown",
   "id": "669969cc-075a-497e-937a-971ca8d6df5e",
   "metadata": {},
   "source": [
    "**The length** of the **encoded** string is now increased. And that is because of how the UTF-8 encodes the stuff. Right. Now, let's start working on the algorithm."
   ]
  },
  {
   "cell_type": "code",
   "execution_count": 2,
   "id": "32d2b1c4-91d7-4224-93e5-bbb763bdd91e",
   "metadata": {},
   "outputs": [],
   "source": [
    "from collections import defaultdict"
   ]
  },
  {
   "cell_type": "markdown",
   "id": "3ef2380f-ff6d-4d68-bb06-1e657a4b1a86",
   "metadata": {},
   "source": [
    "### 1️⃣ Step: Count"
   ]
  },
  {
   "cell_type": "code",
   "execution_count": 3,
   "id": "b13d85a5-7cb9-43b6-823d-e5523439f452",
   "metadata": {},
   "outputs": [],
   "source": [
    "def get_max_occuring_pair_and_stats(tokens):\n",
    "    counter = defaultdict(int)\n",
    "    for pair in zip(tokens, tokens[1:]):\n",
    "        counter[pair] += 1\n",
    "    \n",
    "    max_pair = max(counter, key=counter.get) # will use te get function for all keys and give the max count pair\n",
    "    return max_pair, counter[max_pair], counter"
   ]
  },
  {
   "cell_type": "code",
   "execution_count": 4,
   "id": "74272ab3-e892-47e6-9a4f-d9d752a2a2e0",
   "metadata": {},
   "outputs": [],
   "source": [
    "pair, count, stats = get_max_occuring_pair_and_stats(tokens)"
   ]
  },
  {
   "cell_type": "code",
   "execution_count": 5,
   "id": "7beb70bb-17c5-475d-8abc-c53a38d088be",
   "metadata": {
    "tags": []
   },
   "outputs": [
    {
     "data": {
      "text/plain": [
       "(101, 32)"
      ]
     },
     "execution_count": 5,
     "metadata": {},
     "output_type": "execute_result"
    }
   ],
   "source": [
    "pair"
   ]
  },
  {
   "cell_type": "code",
   "execution_count": 6,
   "id": "414504bc-d452-4c9c-90e6-42d0f12d6d13",
   "metadata": {
    "tags": []
   },
   "outputs": [
    {
     "data": {
      "text/plain": [
       "20"
      ]
     },
     "execution_count": 6,
     "metadata": {},
     "output_type": "execute_result"
    }
   ],
   "source": [
    "count"
   ]
  },
  {
   "cell_type": "markdown",
   "id": "8ecf3383-1e7f-4a71-aae2-c3cec52f77e1",
   "metadata": {},
   "source": [
    "This is correct! As the currently the tokens has `101 32` as the most occuring pair. Which correspond to:"
   ]
  },
  {
   "cell_type": "code",
   "execution_count": 7,
   "id": "e97c07c3-08f8-41b1-bbba-b6726b40ebac",
   "metadata": {},
   "outputs": [
    {
     "data": {
      "text/plain": [
       "('e', ' ')"
      ]
     },
     "execution_count": 7,
     "metadata": {},
     "output_type": "execute_result"
    }
   ],
   "source": [
    "chr(101), chr(32)"
   ]
  },
  {
   "cell_type": "markdown",
   "id": "6a2c0004-8af7-4daa-94b2-81ab761e9c79",
   "metadata": {},
   "source": [
    "### 2️⃣ Step: Replace"
   ]
  },
  {
   "cell_type": "code",
   "execution_count": 8,
   "id": "7f51b601-4cc4-4c3a-ba84-13d88d98488d",
   "metadata": {},
   "outputs": [],
   "source": [
    "def replace(tokens, pair, new_id):\n",
    "    '''\n",
    "    tokens: The list of tokens to update\n",
    "    pair: the pair to replace\n",
    "    new_id: the id to replace the pair with\n",
    "\n",
    "    See, there will be **multiple locations** of the pair that can exist \n",
    "    in the span. So, we will need to iterate over the list of these indexes\n",
    "    and then where found, just hit replace.\n",
    "    '''\n",
    "\n",
    "    # the new place for the updated tokens\n",
    "    new_tokens = []\n",
    "    i = 0\n",
    "    while i < len(tokens):\n",
    "        # the current position has the matching pair -> replace\n",
    "        if (i < len(tokens) - 1) and (tokens[i] == pair[0]) and (tokens[i+1] == pair[1]):\n",
    "            new_tokens.append(new_id)\n",
    "            i += 2 # incrementing i by 2 because we have replace 2 tokens!\n",
    "\n",
    "        # means, we have non matching token with the pair\n",
    "        else:\n",
    "            new_tokens.append(tokens[i])\n",
    "            i += 1 # increament by 1 only as no replacement has been made\n",
    "    return new_tokens"
   ]
  },
  {
   "cell_type": "code",
   "execution_count": 9,
   "id": "4abe2c7e-6f68-41fe-9793-d974a7e43faf",
   "metadata": {},
   "outputs": [
    {
     "data": {
      "text/plain": [
       "[1, 33, 455, 422, 5, 422]"
      ]
     },
     "execution_count": 9,
     "metadata": {},
     "output_type": "execute_result"
    }
   ],
   "source": [
    "# A toy example\n",
    "replace(tokens = [1, 33,455, 4, 22, 5, 4, 22], \n",
    "        pair = (4, 22), \n",
    "        new_id = 422)"
   ]
  },
  {
   "cell_type": "markdown",
   "id": "8c9dac92-9599-4a35-b410-c2d0e749a37c",
   "metadata": {},
   "source": [
    "### 3️⃣ Step: Iteratively work"
   ]
  },
  {
   "cell_type": "code",
   "execution_count": 10,
   "id": "1a2cc34e-f8e0-42a1-88e1-96f726fa5156",
   "metadata": {},
   "outputs": [],
   "source": [
    "def apply_bpe(tokens):\n",
    "    tokens_to_compress = tokens.copy()\n",
    "    new_id = 255\n",
    "    new_tokens_mapping = {}\n",
    "    while True:\n",
    "        max_pair, count, _ = get_max_occuring_pair_and_stats(tokens=tokens_to_compress)\n",
    "        if count != 1:\n",
    "            new_id += 1\n",
    "            tokens_to_compress = replace(tokens=tokens_to_compress, pair=max_pair, new_id=new_id)\n",
    "            new_tokens_mapping[max_pair] = new_id\n",
    "        else:\n",
    "            return tokens_to_compress, new_tokens_mapping"
   ]
  },
  {
   "cell_type": "code",
   "execution_count": 11,
   "id": "40074edb-b0c2-4170-8430-0b0706452b05",
   "metadata": {},
   "outputs": [],
   "source": [
    "new_tokens, mapping = apply_bpe(tokens)"
   ]
  },
  {
   "cell_type": "code",
   "execution_count": 12,
   "id": "49dc06bb-3a1d-4c87-a185-d96083989354",
   "metadata": {},
   "outputs": [
    {
     "data": {
      "text/plain": [
       "300"
      ]
     },
     "execution_count": 12,
     "metadata": {},
     "output_type": "execute_result"
    }
   ],
   "source": [
    "len(new_tokens)"
   ]
  },
  {
   "cell_type": "code",
   "execution_count": 13,
   "id": "be85f1cb-5dda-41cd-a88b-6222870d8815",
   "metadata": {},
   "outputs": [
    {
     "data": {
      "text/plain": [
       "{(101, 32): 256,\n",
       " (240, 159): 257,\n",
       " (226, 128): 258,\n",
       " (105, 110): 259,\n",
       " (115, 32): 260,\n",
       " (97, 110): 261,\n",
       " (116, 104): 262,\n",
       " (257, 133): 263,\n",
       " (257, 135): 264,\n",
       " (97, 114): 265,\n",
       " (239, 189): 266,\n",
       " (258, 140): 267,\n",
       " (267, 264): 268,\n",
       " (101, 114): 269,\n",
       " (111, 114): 270,\n",
       " (116, 32): 271,\n",
       " (259, 103): 272,\n",
       " (115, 116): 273,\n",
       " (261, 100): 274,\n",
       " (32, 262): 275,\n",
       " (44, 32): 276,\n",
       " (97, 109): 277,\n",
       " (275, 256): 278,\n",
       " (111, 117): 279,\n",
       " (85, 110): 280,\n",
       " (280, 105): 281,\n",
       " (281, 99): 282,\n",
       " (282, 111): 283,\n",
       " (283, 100): 284,\n",
       " (115, 276): 285,\n",
       " (273, 114): 286,\n",
       " (101, 265): 287,\n",
       " (274, 32): 288,\n",
       " (259, 116): 289,\n",
       " (111, 102): 290,\n",
       " (46, 32): 291,\n",
       " (108, 108): 292,\n",
       " (272, 32): 293,\n",
       " (261, 32): 294,\n",
       " (101, 110): 295,\n",
       " (33, 32): 296,\n",
       " (118, 269): 297,\n",
       " (121, 32): 298,\n",
       " (277, 256): 299,\n",
       " (105, 107): 300,\n",
       " (101, 260): 301,\n",
       " (119, 256): 302,\n",
       " (289, 111): 303,\n",
       " (303, 278): 304,\n",
       " (116, 260): 305,\n",
       " (290, 32): 306,\n",
       " (112, 114): 307,\n",
       " (307, 111): 308,\n",
       " (308, 103): 309,\n",
       " (309, 114): 310,\n",
       " (310, 277): 311,\n",
       " (311, 109): 312,\n",
       " (312, 269): 313,\n",
       " (313, 260): 314,\n",
       " (105, 100): 315,\n",
       " (256, 97): 316,\n",
       " (292, 32): 317,\n",
       " (110, 111): 318,\n",
       " (103, 104): 319,\n",
       " (115, 117): 320,\n",
       " (320, 112): 321,\n",
       " (321, 112): 322,\n",
       " (271, 284): 323,\n",
       " (101, 258): 324,\n",
       " (119, 104): 325,\n",
       " (97, 116): 326,\n",
       " (117, 115): 327,\n",
       " (102, 270): 328,\n",
       " (328, 32): 329,\n",
       " (285, 114): 330,\n",
       " (99, 294): 331,\n",
       " (331, 98): 332,\n",
       " (100, 111): 333,\n",
       " (101, 112): 334,\n",
       " (256, 262): 335}"
      ]
     },
     "execution_count": 13,
     "metadata": {},
     "output_type": "execute_result"
    }
   ],
   "source": [
    "mapping"
   ]
  },
  {
   "cell_type": "markdown",
   "id": "f4036bdf-3eb9-49ee-9035-7dbc259638e3",
   "metadata": {},
   "source": [
    "### 4️⃣ Step: Define the vocab size"
   ]
  },
  {
   "cell_type": "markdown",
   "id": "77df5e32-ba5e-4f31-b850-b2fe861f3bdb",
   "metadata": {},
   "source": [
    "Now, the current setting will create all possible pairs, but **at the cost of** very large vocab size."
   ]
  },
  {
   "cell_type": "code",
   "execution_count": 14,
   "id": "41e2a957-89e5-4071-8d37-15ec7de23256",
   "metadata": {},
   "outputs": [],
   "source": [
    "vocab_size = 276\n",
    "num_merges = vocab_size - 256 # total 20 merges will happen\n",
    "\n",
    "def apply_bpe(tokens):\n",
    "    tokens_to_compress = tokens.copy()\n",
    "    new_id = 255\n",
    "    new_tokens_mapping = {}\n",
    "    for i in range(num_merges):\n",
    "        max_pair, count, _ = get_max_occuring_pair_and_stats(tokens=tokens_to_compress)\n",
    "        new_id += 1\n",
    "        tokens_to_compress = replace(tokens=tokens_to_compress, pair=max_pair, new_id=new_id)\n",
    "        new_tokens_mapping[max_pair] = new_id    \n",
    "    return tokens_to_compress, new_tokens_mapping"
   ]
  },
  {
   "cell_type": "code",
   "execution_count": 15,
   "id": "e77e9ff0-6e62-414c-a897-1d1aeb32b9e8",
   "metadata": {},
   "outputs": [],
   "source": [
    "new_tokens, mapping = apply_bpe(tokens)"
   ]
  },
  {
   "cell_type": "code",
   "execution_count": 16,
   "id": "c31573b0-49df-4a37-9e5b-43401a322bfb",
   "metadata": {},
   "outputs": [
    {
     "data": {
      "text/plain": [
       "451"
      ]
     },
     "execution_count": 16,
     "metadata": {},
     "output_type": "execute_result"
    }
   ],
   "source": [
    "len(new_tokens)"
   ]
  },
  {
   "cell_type": "code",
   "execution_count": 17,
   "id": "cd0a3bb4-dda6-45ec-81e4-0b0b86f79b07",
   "metadata": {},
   "outputs": [
    {
     "data": {
      "text/plain": [
       "20"
      ]
     },
     "execution_count": 17,
     "metadata": {},
     "output_type": "execute_result"
    }
   ],
   "source": [
    "len(mapping.keys())"
   ]
  },
  {
   "cell_type": "markdown",
   "id": "77076a0f-12aa-4c95-8290-873a22d94072",
   "metadata": {},
   "source": [
    "Cool! 🔥\n",
    "\n",
    "Now, we have limited the number of new tokens that can be added. Here, only `20` new additions were made."
   ]
  },
  {
   "cell_type": "markdown",
   "id": "cd69c042-712a-4928-a559-c7d3918ca560",
   "metadata": {},
   "source": [
    "###  5️⃣ Step: On whole article!"
   ]
  },
  {
   "cell_type": "code",
   "execution_count": 18,
   "id": "cad4b1e1-1761-41c7-b813-82999dfb1f6b",
   "metadata": {},
   "outputs": [],
   "source": [
    "# making the training text longer to have more representative token statistics\n",
    "# text from https://www.reedbeta.com/blog/programmers-intro-to-unicode/\n",
    "text = \"\"\"A Programmer’s Introduction to Unicode March 3, 2017 · Coding · 22 Comments  Ｕｎｉｃｏｄｅ! 🅤🅝🅘🅒🅞🅓🅔‽ 🇺\\u200c🇳\\u200c🇮\\u200c🇨\\u200c🇴\\u200c🇩\\u200c🇪! 😄 The very name strikes fear and awe into the hearts of programmers worldwide. We all know we ought to “support Unicode” in our software (whatever that means—like using wchar_t for all the strings, right?). But Unicode can be abstruse, and diving into the thousand-page Unicode Standard plus its dozens of supplementary annexes, reports, and notes can be more than a little intimidating. I don’t blame programmers for still finding the whole thing mysterious, even 30 years after Unicode’s inception.  A few months ago, I got interested in Unicode and decided to spend some time learning more about it in detail. In this article, I’ll give an introduction to it from a programmer’s point of view.  I’m going to focus on the character set and what’s involved in working with strings and files of Unicode text. However, in this article I’m not going to talk about fonts, text layout/shaping/rendering, or localization in detail—those are separate issues, beyond my scope (and knowledge) here.  Diversity and Inherent Complexity The Unicode Codespace Codespace Allocation Scripts Usage Frequency Encodings UTF-8 UTF-16 Combining Marks Canonical Equivalence Normalization Forms Grapheme Clusters And More… Diversity and Inherent Complexity As soon as you start to study Unicode, it becomes clear that it represents a large jump in complexity over character sets like ASCII that you may be more familiar with. It’s not just that Unicode contains a much larger number of characters, although that’s part of it. Unicode also has a great deal of internal structure, features, and special cases, making it much more than what one might expect a mere “character set” to be. We’ll see some of that later in this article.  When confronting all this complexity, especially as an engineer, it’s hard not to find oneself asking, “Why do we need all this? Is this really necessary? Couldn’t it be simplified?”  However, Unicode aims to faithfully represent the entire world’s writing systems. The Unicode Consortium’s stated goal is “enabling people around the world to use computers in any language”. And as you might imagine, the diversity of written languages is immense! To date, Unicode supports 135 different scripts, covering some 1100 languages, and there’s still a long tail of over 100 unsupported scripts, both modern and historical, which people are still working to add.  Given this enormous diversity, it’s inevitable that representing it is a complicated project. Unicode embraces that diversity, and accepts the complexity inherent in its mission to include all human writing systems. It doesn’t make a lot of trade-offs in the name of simplification, and it makes exceptions to its own rules where necessary to further its mission.  Moreover, Unicode is committed not just to supporting texts in any single language, but also to letting multiple languages coexist within one text—which introduces even more complexity.  Most programming languages have libraries available to handle the gory low-level details of text manipulation, but as a programmer, you’ll still need to know about certain Unicode features in order to know when and how to apply them. It may take some time to wrap your head around it all, but don’t be discouraged—think about the billions of people for whom your software will be more accessible through supporting text in their language. Embrace the complexity!  The Unicode Codespace Let’s start with some general orientation. The basic elements of Unicode—its “characters”, although that term isn’t quite right—are called code points. Code points are identified by number, customarily written in hexadecimal with the prefix “U+”, such as U+0041 “A” latin capital letter a or U+03B8 “θ” greek small letter theta. Each code point also has a short name, and quite a few other properties, specified in the Unicode Character Database.  The set of all possible code points is called the codespace. The Unicode codespace consists of 1,114,112 code points. However, only 128,237 of them—about 12% of the codespace—are actually assigned, to date. There’s plenty of room for growth! Unicode also reserves an additional 137,468 code points as “private use” areas, which have no standardized meaning and are available for individual applications to define for their own purposes.  Codespace Allocation To get a feel for how the codespace is laid out, it’s helpful to visualize it. Below is a map of the entire codespace, with one pixel per code point. It’s arranged in tiles for visual coherence; each small square is 16×16 = 256 code points, and each large square is a “plane” of 65,536 code points. There are 17 planes altogether.  Map of the Unicode codespace (click to zoom)  White represents unassigned space. Blue is assigned code points, green is private-use areas, and the small red area is surrogates (more about those later). As you can see, the assigned code points are distributed somewhat sparsely, but concentrated in the first three planes.  Plane 0 is also known as the “Basic Multilingual Plane”, or BMP. The BMP contains essentially all the characters needed for modern text in any script, including Latin, Cyrillic, Greek, Han (Chinese), Japanese, Korean, Arabic, Hebrew, Devanagari (Indian), and many more.  (In the past, the codespace was just the BMP and no more—Unicode was originally conceived as a straightforward 16-bit encoding, with only 65,536 code points. It was expanded to its current size in 1996. However, the vast majority of code points in modern text belong to the BMP.)  Plane 1 contains historical scripts, such as Sumerian cuneiform and Egyptian hieroglyphs, as well as emoji and various other symbols. Plane 2 contains a large block of less-common and historical Han characters. The remaining planes are empty, except for a small number of rarely-used formatting characters in Plane 14; planes 15–16 are reserved entirely for private use.  Scripts Let’s zoom in on the first three planes, since that’s where the action is:  Map of scripts in Unicode planes 0–2 (click to zoom)  This map color-codes the 135 different scripts in Unicode. You can see how Han () and Korean () take up most of the range of the BMP (the left large square). By contrast, all of the European, Middle Eastern, and South Asian scripts fit into the first row of the BMP in this diagram.  Many areas of the codespace are adapted or copied from earlier encodings. For example, the first 128 code points of Unicode are just a copy of ASCII. This has clear benefits for compatibility—it’s easy to losslessly convert texts from smaller encodings into Unicode (and the other direction too, as long as no characters outside the smaller encoding are used).  Usage Frequency One more interesting way to visualize the codespace is to look at the distribution of usage—in other words, how often each code point is actually used in real-world texts. Below is a heat map of planes 0–2 based on a large sample of text from Wikipedia and Twitter (all languages). Frequency increases from black (never seen) through red and yellow to white.  Heat map of code point usage frequency in Unicode planes 0–2 (click to zoom)  You can see that the vast majority of this text sample lies in the BMP, with only scattered usage of code points from planes 1–2. The biggest exception is emoji, which show up here as the several bright squares in the bottom row of plane 1.  Encodings We’ve seen that Unicode code points are abstractly identified by their index in the codespace, ranging from U+0000 to U+10FFFF. But how do code points get represented as bytes, in memory or in a file?  The most convenient, computer-friendliest (and programmer-friendliest) thing to do would be to just store the code point index as a 32-bit integer. This works, but it consumes 4 bytes per code point, which is sort of a lot. Using 32-bit ints for Unicode will cost you a bunch of extra storage, memory, and performance in bandwidth-bound scenarios, if you work with a lot of text.  Consequently, there are several more-compact encodings for Unicode. The 32-bit integer encoding is officially called UTF-32 (UTF = “Unicode Transformation Format”), but it’s rarely used for storage. At most, it comes up sometimes as a temporary internal representation, for examining or operating on the code points in a string.  Much more commonly, you’ll see Unicode text encoded as either UTF-8 or UTF-16. These are both variable-length encodings, made up of 8-bit or 16-bit units, respectively. In these schemes, code points with smaller index values take up fewer bytes, which saves a lot of memory for typical texts. The trade-off is that processing UTF-8/16 texts is more programmatically involved, and likely slower.  UTF-8 In UTF-8, each code point is stored using 1 to 4 bytes, based on its index value.  UTF-8 uses a system of binary prefixes, in which the high bits of each byte mark whether it’s a single byte, the beginning of a multi-byte sequence, or a continuation byte; the remaining bits, concatenated, give the code point index. This table shows how it works:  UTF-8 (binary)\\tCode point (binary)\\tRange 0xxxxxxx\\txxxxxxx\\tU+0000–U+007F 110xxxxx 10yyyyyy\\txxxxxyyyyyy\\tU+0080–U+07FF 1110xxxx 10yyyyyy 10zzzzzz\\txxxxyyyyyyzzzzzz\\tU+0800–U+FFFF 11110xxx 10yyyyyy 10zzzzzz 10wwwwww\\txxxyyyyyyzzzzzzwwwwww\\tU+10000–U+10FFFF A handy property of UTF-8 is that code points below 128 (ASCII characters) are encoded as single bytes, and all non-ASCII code points are encoded using sequences of bytes 128–255. This has a couple of nice consequences. First, any strings or files out there that are already in ASCII can also be interpreted as UTF-8 without any conversion. Second, lots of widely-used string programming idioms—such as null termination, or delimiters (newlines, tabs, commas, slashes, etc.)—will just work on UTF-8 strings. ASCII bytes never occur inside the encoding of non-ASCII code points, so searching byte-wise for a null terminator or a delimiter will do the right thing.  Thanks to this convenience, it’s relatively simple to extend legacy ASCII programs and APIs to handle UTF-8 strings. UTF-8 is very widely used in the Unix/Linux and Web worlds, and many programmers argue UTF-8 should be the default encoding everywhere.  However, UTF-8 isn’t a drop-in replacement for ASCII strings in all respects. For instance, code that iterates over the “characters” in a string will need to decode UTF-8 and iterate over code points (or maybe grapheme clusters—more about those later), not bytes. When you measure the “length” of a string, you’ll need to think about whether you want the length in bytes, the length in code points, the width of the text when rendered, or something else.  UTF-16 The other encoding that you’re likely to encounter is UTF-16. It uses 16-bit words, with each code point stored as either 1 or 2 words.  Like UTF-8, we can express the UTF-16 encoding rules in the form of binary prefixes:  UTF-16 (binary)\\tCode point (binary)\\tRange xxxxxxxxxxxxxxxx\\txxxxxxxxxxxxxxxx\\tU+0000–U+FFFF 110110xxxxxxxxxx 110111yyyyyyyyyy\\txxxxxxxxxxyyyyyyyyyy + 0x10000\\tU+10000–U+10FFFF A more common way that people talk about UTF-16 encoding, though, is in terms of code points called “surrogates”. All the code points in the range U+D800–U+DFFF—or in other words, the code points that match the binary prefixes 110110 and 110111 in the table above—are reserved specifically for UTF-16 encoding, and don’t represent any valid characters on their own. They’re only meant to occur in the 2-word encoding pattern above, which is called a “surrogate pair”. Surrogate code points are illegal in any other context! They’re not allowed in UTF-8 or UTF-32 at all.  Historically, UTF-16 is a descendant of the original, pre-1996 versions of Unicode, in which there were only 65,536 code points. The original intention was that there would be no different “encodings”; Unicode was supposed to be a straightforward 16-bit character set. Later, the codespace was expanded to make room for a long tail of less-common (but still important) Han characters, which the Unicode designers didn’t originally plan for. Surrogates were then introduced, as—to put it bluntly—a kludge, allowing 16-bit encodings to access the new code points.  Today, Javascript uses UTF-16 as its standard string representation: if you ask for the length of a string, or iterate over it, etc., the result will be in UTF-16 words, with any code points outside the BMP expressed as surrogate pairs. UTF-16 is also used by the Microsoft Win32 APIs; though Win32 supports either 8-bit or 16-bit strings, the 8-bit version unaccountably still doesn’t support UTF-8—only legacy code-page encodings, like ANSI. This leaves UTF-16 as the only way to get proper Unicode support in Windows. (Update: in Win10 version 1903, they finally added UTF-8 support to the 8-bit APIs! 😊)  By the way, UTF-16’s words can be stored either little-endian or big-endian. Unicode has no opinion on that issue, though it does encourage the convention of putting U+FEFF zero width no-break space at the top of a UTF-16 file as a byte-order mark, to disambiguate the endianness. (If the file doesn’t match the system’s endianness, the BOM will be decoded as U+FFFE, which isn’t a valid code point.)  Combining Marks In the story so far, we’ve been focusing on code points. But in Unicode, a “character” can be more complicated than just an individual code point!  Unicode includes a system for dynamically composing characters, by combining multiple code points together. This is used in various ways to gain flexibility without causing a huge combinatorial explosion in the number of code points.  In European languages, for example, this shows up in the application of diacritics to letters. Unicode supports a wide range of diacritics, including acute and grave accents, umlauts, cedillas, and many more. All these diacritics can be applied to any letter of any alphabet—and in fact, multiple diacritics can be used on a single letter.  If Unicode tried to assign a distinct code point to every possible combination of letter and diacritics, things would rapidly get out of hand. Instead, the dynamic composition system enables you to construct the character you want, by starting with a base code point (the letter) and appending additional code points, called “combining marks”, to specify the diacritics. When a text renderer sees a sequence like this in a string, it automatically stacks the diacritics over or under the base letter to create a composed character.  For example, the accented character “Á” can be expressed as a string of two code points: U+0041 “A” latin capital letter a plus U+0301 “◌́” combining acute accent. This string automatically gets rendered as a single character: “Á”.  Now, Unicode does also include many “precomposed” code points, each representing a letter with some combination of diacritics already applied, such as U+00C1 “Á” latin capital letter a with acute or U+1EC7 “ệ” latin small letter e with circumflex and dot below. I suspect these are mostly inherited from older encodings that were assimilated into Unicode, and kept around for compatibility. In practice, there are precomposed code points for most of the common letter-with-diacritic combinations in European-script languages, so they don’t use dynamic composition that much in typical text.  Still, the system of combining marks does allow for an arbitrary number of diacritics to be stacked on any base character. The reductio-ad-absurdum of this is Zalgo text, which works by ͖͟ͅr͞aṋ̫̠̖͈̗d͖̻̹óm̪͙͕̗̝ļ͇̰͓̳̫ý͓̥̟͍ ̕s̫t̫̱͕̗̰̼̘͜a̼̩͖͇̠͈̣͝c̙͍k̖̱̹͍͘i̢n̨̺̝͇͇̟͙ģ̫̮͎̻̟ͅ ̕n̼̺͈͞u̮͙m̺̭̟̗͞e̞͓̰̤͓̫r̵o̖ṷs҉̪͍̭̬̝̤ ̮͉̝̞̗̟͠d̴̟̜̱͕͚i͇̫̼̯̭̜͡ḁ͙̻̼c̲̲̹r̨̠̹̣̰̦i̱t̤̻̤͍͙̘̕i̵̜̭̤̱͎c̵s ͘o̱̲͈̙͖͇̲͢n͘ ̜͈e̬̲̠̩ac͕̺̠͉h̷̪ ̺̣͖̱ḻ̫̬̝̹ḙ̙̺͙̭͓̲t̞̞͇̲͉͍t̷͔̪͉̲̻̠͙e̦̻͈͉͇r͇̭̭̬͖,̖́ ̜͙͓̣̭s̘̘͈o̱̰̤̲ͅ ̛̬̜̙t̼̦͕̱̹͕̥h̳̲͈͝ͅa̦t̻̲ ̻̟̭̦̖t̛̰̩h̠͕̳̝̫͕e͈̤̘͖̞͘y҉̝͙ ̷͉͔̰̠o̞̰v͈͈̳̘͜er̶f̰͈͔ḻ͕̘̫̺̲o̲̭͙͠ͅw̱̳̺ ͜t̸h͇̭͕̳͍e̖̯̟̠ ͍̞̜͔̩̪͜ļ͎̪̲͚i̝̲̹̙̩̹n̨̦̩̖ḙ̼̲̼͢ͅ ̬͝s̼͚̘̞͝p͙̘̻a̙c҉͉̜̤͈̯̖i̥͡n̦̠̱͟g̸̗̻̦̭̮̟ͅ ̳̪̠͖̳̯̕a̫͜n͝d͡ ̣̦̙ͅc̪̗r̴͙̮̦̹̳e͇͚̞͔̹̫͟a̙̺̙ț͔͎̘̹ͅe̥̩͍ a͖̪̜̮͙̹n̢͉̝ ͇͉͓̦̼́a̳͖̪̤̱p̖͔͔̟͇͎͠p̱͍̺ę̲͎͈̰̲̤̫a̯͜r̨̮̫̣̘a̩̯͖n̹̦̰͎̣̞̞c̨̦̱͔͎͍͖e̬͓͘ ̤̰̩͙̤̬͙o̵̼̻̬̻͇̮̪f̴ ̡̙̭͓͖̪̤“̸͙̠̼c̳̗͜o͏̼͙͔̮r̞̫̺̞̥̬ru̺̻̯͉̭̻̯p̰̥͓̣̫̙̤͢t̳͍̳̖ͅi̶͈̝͙̼̙̹o̡͔n̙̺̹̖̩͝ͅ”̨̗͖͚̩.̯͓  A few other places where dynamic character composition shows up in Unicode:  Vowel-pointing notation in Arabic and Hebrew. In these languages, words are normally spelled with some of their vowels left out. They then have diacritic notation to indicate the vowels (used in dictionaries, language-teaching materials, children’s books, and such). These diacritics are expressed with combining marks.  A Hebrew example, with niqqud:\\tאֶת דַלְתִּי הֵזִיז הֵנִיעַ, קֶטֶב לִשְׁכַּתִּי יָשׁוֹד Normal writing (no niqqud):\\tאת דלתי הזיז הניע, קטב לשכתי ישוד Devanagari, the script used to write Hindi, Sanskrit, and many other South Asian languages, expresses certain vowels as combining marks attached to consonant letters. For example, “ह” + “\\u200bि” = “हि” (“h” + “i” = “hi”). Korean characters stand for syllables, but they are composed of letters called jamo that stand for the vowels and consonants in the syllable. While there are code points for precomposed Korean syllables, it’s also possible to dynamically compose them by concatenating their jamo. For example, “ᄒ” + “ᅡ” + “ᆫ” = “한” (“h” + “a” + “n” = “han”). Canonical Equivalence In Unicode, precomposed characters exist alongside the dynamic composition system. A consequence of this is that there are multiple ways to express “the same” string—different sequences of code points that result in the same user-perceived characters. For example, as we saw earlier, we can express the character “Á” either as the single code point U+00C1, or as the string of two code points U+0041 U+0301.  Another source of ambiguity is the ordering of multiple diacritics in a single character. Diacritic order matters visually when two diacritics apply to the same side of the base character, e.g. both above: “ǡ” (dot, then macron) is different from “ā̇” (macron, then dot). However, when diacritics apply to different sides of the character, e.g. one above and one below, then the order doesn’t affect rendering. Moreover, a character with multiple diacritics might have one of the diacritics precomposed and others expressed as combining marks.  For example, the Vietnamese letter “ệ” can be expressed in five different ways:  Fully precomposed: U+1EC7 “ệ” Partially precomposed: U+1EB9 “ẹ” + U+0302 “◌̂” Partially precomposed: U+00EA “ê” + U+0323 “◌̣” Fully decomposed: U+0065 “e” + U+0323 “◌̣” + U+0302 “◌̂” Fully decomposed: U+0065 “e” + U+0302 “◌̂” + U+0323 “◌̣” Unicode refers to set of strings like this as “canonically equivalent”. Canonically equivalent strings are supposed to be treated as identical for purposes of searching, sorting, rendering, text selection, and so on. This has implications for how you implement operations on text. For example, if an app has a “find in file” operation and the user searches for “ệ”, it should, by default, find occurrences of any of the five versions of “ệ” above!  Normalization Forms To address the problem of “how to handle canonically equivalent strings”, Unicode defines several normalization forms: ways of converting strings into a canonical form so that they can be compared code-point-by-code-point (or byte-by-byte).  The “NFD” normalization form fully decomposes every character down to its component base and combining marks, taking apart any precomposed code points in the string. It also sorts the combining marks in each character according to their rendered position, so e.g. diacritics that go below the character come before the ones that go above the character. (It doesn’t reorder diacritics in the same rendered position, since their order matters visually, as previously mentioned.)  The “NFC” form, conversely, puts things back together into precomposed code points as much as possible. If an unusual combination of diacritics is called for, there may not be any precomposed code point for it, in which case NFC still precomposes what it can and leaves any remaining combining marks in place (again ordered by rendered position, as in NFD).  There are also forms called NFKD and NFKC. The “K” here refers to compatibility decompositions, which cover characters that are “similar” in some sense but not visually identical. However, I’m not going to cover that here.  Grapheme Clusters As we’ve seen, Unicode contains various cases where a thing that a user thinks of as a single “character” might actually be made up of multiple code points under the hood. Unicode formalizes this using the notion of a grapheme cluster: a string of one or more code points that constitute a single “user-perceived character”.  UAX #29 defines the rules for what, precisely, qualifies as a grapheme cluster. It’s approximately “a base code point followed by any number of combining marks”, but the actual definition is a bit more complicated; it accounts for things like Korean jamo, and emoji ZWJ sequences.  The main thing grapheme clusters are used for is text editing: they’re often the most sensible unit for cursor placement and text selection boundaries. Using grapheme clusters for these purposes ensures that you can’t accidentally chop off some diacritics when you copy-and-paste text, that left/right arrow keys always move the cursor by one visible character, and so on.  Another place where grapheme clusters are useful is in enforcing a string length limit—say, on a database field. While the true, underlying limit might be something like the byte length of the string in UTF-8, you wouldn’t want to enforce that by just truncating bytes. At a minimum, you’d want to “round down” to the nearest code point boundary; but even better, round down to the nearest grapheme cluster boundary. Otherwise, you might be corrupting the last character by cutting off a diacritic, or interrupting a jamo sequence or ZWJ sequence.  And More… There’s much more that could be said about Unicode from a programmer’s perspective! I haven’t gotten into such fun topics as case mapping, collation, compatibility decompositions and confusables, Unicode-aware regexes, or bidirectional text. Nor have I said anything yet about implementation issues—how to efficiently store and look-up data about the sparsely-assigned code points, or how to optimize UTF-8 decoding, string comparison, or NFC normalization. Perhaps I’ll return to some of those things in future posts.  Unicode is a fascinating and complex system. It has a many-to-one mapping between bytes and code points, and on top of that a many-to-one (or, under some circumstances, many-to-many) mapping between code points and “characters”. It has oddball special cases in every corner. But no one ever claimed that representing all written languages was going to be easy, and it’s clear that we’re never going back to the bad old days of a patchwork of incompatible encodings.  Further reading:  The Unicode Standard UTF-8 Everywhere Manifesto Dark corners of Unicode by Eevee ICU (International Components for Unicode)—C/C++/Java libraries implementing many Unicode algorithms and related things Python 3 Unicode Howto Google Noto Fonts—set of fonts intended to cover all assigned code points\"\"\"\n",
    "tokens = text.encode(\"utf-8\") # raw bytes\n",
    "tokens = list(map(int, tokens)) # convert to a list of integers in range 0..255 for convenience"
   ]
  },
  {
   "cell_type": "code",
   "execution_count": 19,
   "id": "0c33c0b5-a341-4cbd-9bd2-57db335188e6",
   "metadata": {},
   "outputs": [],
   "source": [
    "new_tokens, mapping = apply_bpe(tokens)"
   ]
  },
  {
   "cell_type": "code",
   "execution_count": 20,
   "id": "4e59ebc1-1e38-41af-a80d-c39dc8f94286",
   "metadata": {},
   "outputs": [
    {
     "data": {
      "text/plain": [
       "(24597, 19438)"
      ]
     },
     "execution_count": 20,
     "metadata": {},
     "output_type": "execute_result"
    }
   ],
   "source": [
    "# Before, After\n",
    "len(tokens), len(new_tokens)"
   ]
  },
  {
   "cell_type": "code",
   "execution_count": 21,
   "id": "9502bd8e-8ced-4c3d-b99a-97deba3f7923",
   "metadata": {},
   "outputs": [
    {
     "data": {
      "text/plain": [
       "{(101, 32): 256,\n",
       " (105, 110): 257,\n",
       " (115, 32): 258,\n",
       " (116, 104): 259,\n",
       " (101, 114): 260,\n",
       " (99, 111): 261,\n",
       " (116, 32): 262,\n",
       " (226, 128): 263,\n",
       " (44, 32): 264,\n",
       " (97, 110): 265,\n",
       " (111, 114): 266,\n",
       " (100, 32): 267,\n",
       " (97, 114): 268,\n",
       " (101, 110): 269,\n",
       " (257, 103): 270,\n",
       " (261, 100): 271,\n",
       " (121, 32): 272,\n",
       " (46, 32): 273,\n",
       " (97, 108): 274,\n",
       " (259, 256): 275}"
      ]
     },
     "execution_count": 21,
     "metadata": {},
     "output_type": "execute_result"
    }
   ],
   "source": [
    "mapping"
   ]
  },
  {
   "cell_type": "code",
   "execution_count": 22,
   "id": "9bbe02a9-df11-4886-ab33-4a44dc2d259a",
   "metadata": {},
   "outputs": [],
   "source": [
    "def get_compression_ratio(old, new):\n",
    "    print(\"Old-Tokens length:\", len(old))\n",
    "    print(\"New-Tokens length:\", len(new))\n",
    "    print(f\"Compression ratio: {len(old) / len(new):.2f}x\")"
   ]
  },
  {
   "cell_type": "code",
   "execution_count": 23,
   "id": "7b2178fa-189c-46f3-b99a-15298164dd1d",
   "metadata": {},
   "outputs": [
    {
     "name": "stdout",
     "output_type": "stream",
     "text": [
      "Old-Tokens length: 24597\n",
      "New-Tokens length: 19438\n",
      "Compression ratio: 1.27x\n"
     ]
    }
   ],
   "source": [
    "get_compression_ratio(tokens, new_tokens)"
   ]
  },
  {
   "cell_type": "markdown",
   "id": "8b4e1dfd-2965-4adc-8f4d-ba0b2456f4d2",
   "metadata": {},
   "source": [
    "**Interpretation**: After performing merges 20 times, we have achieved 1.27x compression.\n"
   ]
  },
  {
   "cell_type": "markdown",
   "id": "0dcc4e60-a9f0-4c04-ad23-3bb69adf0b44",
   "metadata": {},
   "source": [
    "> # 🔥\n",
    ">\n",
    "> *That was the **training** of the tokenizer!*"
   ]
  },
  {
   "cell_type": "markdown",
   "id": "be430f4b-c037-44bd-93fb-e1a76af017d4",
   "metadata": {},
   "source": [
    "# 🔤🔄🔤 Encoder Decoder \n",
    "Let's start working on the encoder and decoder as that should work with the merges etc"
   ]
  },
  {
   "cell_type": "markdown",
   "id": "68605dff-aafa-4c57-b4b2-36d7356e8b0b",
   "metadata": {},
   "source": [
    "## 1️⃣2️⃣3️⃣👉🏻🔤 Decoder"
   ]
  },
  {
   "cell_type": "markdown",
   "id": "52ece2a3-54db-445f-8535-3ed6d1b8144d",
   "metadata": {},
   "source": [
    "### 1️⃣ Step: Create a base vocab"
   ]
  },
  {
   "cell_type": "code",
   "execution_count": 24,
   "id": "305bc71c-15f3-4b2f-b275-bd96f56ec771",
   "metadata": {
    "tags": []
   },
   "outputs": [],
   "source": [
    "# this will create the basic vocab for all **atomic** characters (available in the 256 range)\n",
    "vocab = {idx:bytes([idx]) for idx in range(256)}"
   ]
  },
  {
   "cell_type": "markdown",
   "id": "470b95b6-c756-4f89-98c0-30d07408caba",
   "metadata": {},
   "source": [
    "> ## 🟢\n",
    "> \n",
    "> **NOTE**: These are the *default* characters that can be stored within single byte.\n",
    "Luckily that covers all english characters and common special characters, and other \"specially special characters\" which used in combination can create any letter. So that's what we need.\n",
    "\n",
    "Let me illustrate that to you."
   ]
  },
  {
   "cell_type": "code",
   "execution_count": 25,
   "id": "c515d699-bb73-4744-bf2a-08f2130370be",
   "metadata": {
    "tags": []
   },
   "outputs": [
    {
     "data": {
      "text/plain": [
       "b'L'"
      ]
     },
     "execution_count": 25,
     "metadata": {},
     "output_type": "execute_result"
    }
   ],
   "source": [
    "# This is the simple byte character\n",
    "vocab[76]"
   ]
  },
  {
   "cell_type": "code",
   "execution_count": 26,
   "id": "15c4376c-a18f-4209-89a7-4a5f8d67810e",
   "metadata": {
    "tags": []
   },
   "outputs": [
    {
     "data": {
      "text/plain": [
       "'L'"
      ]
     },
     "execution_count": 26,
     "metadata": {},
     "output_type": "execute_result"
    }
   ],
   "source": [
    "# Converting that will give\n",
    "vocab[76].decode(\"utf-8\")"
   ]
  },
  {
   "cell_type": "code",
   "execution_count": 27,
   "id": "7be53f66-ff93-4ddc-b855-bfa6ca45760d",
   "metadata": {
    "tags": []
   },
   "outputs": [
    {
     "data": {
      "text/plain": [
       "b'\\xe0'"
      ]
     },
     "execution_count": 27,
     "metadata": {},
     "output_type": "execute_result"
    }
   ],
   "source": [
    "# This is the \"special character\" with its combination, we can create any letter\n",
    "vocab[224]"
   ]
  },
  {
   "cell_type": "code",
   "execution_count": 28,
   "id": "ccb1b2e8-6a76-48b3-bf92-18d9708c6d8b",
   "metadata": {
    "tags": []
   },
   "outputs": [
    {
     "name": "stdout",
     "output_type": "stream",
     "text": [
      ">>> 'utf-8' codec can't decode byte 0xe0 in position 0: unexpected end of data\n"
     ]
    }
   ],
   "source": [
    "# If we try to decode it (WILL GIVE ERROR)\n",
    "try:\n",
    "    vocab[224].decode(\"utf-8\")\n",
    "except Exception as e:\n",
    "    print(\">>>\", e)"
   ]
  },
  {
   "cell_type": "markdown",
   "id": "ece28e00-5de4-4e43-b31e-55d0e6d79a51",
   "metadata": {},
   "source": [
    "👆🏻 Why? Because it **can't be used solely** we need to use it in combination."
   ]
  },
  {
   "cell_type": "code",
   "execution_count": 29,
   "id": "b5197029-3f9d-4bdc-8fd0-0f6bae03628e",
   "metadata": {
    "tags": []
   },
   "outputs": [
    {
     "data": {
      "text/plain": [
       "'આ'"
      ]
     },
     "execution_count": 29,
     "metadata": {},
     "output_type": "execute_result"
    }
   ],
   "source": [
    "# This is the \"special character\" with its combination, we can create any letter\n",
    "(vocab[224] + vocab[170] + vocab[134]).decode(\"utf-8\")"
   ]
  },
  {
   "cell_type": "code",
   "execution_count": 30,
   "id": "3c614167-b34a-4efa-ac0f-3175b9d5d153",
   "metadata": {
    "tags": []
   },
   "outputs": [
    {
     "data": {
      "text/plain": [
       "[224, 170, 134, 224, 170, 175, 224, 171, 129, 224, 170, 183]"
      ]
     },
     "execution_count": 30,
     "metadata": {},
     "output_type": "execute_result"
    }
   ],
   "source": [
    "# I got that by the following 👇🏻\n",
    "list(\"આયુષ\".encode(\"utf-8\"))"
   ]
  },
  {
   "cell_type": "markdown",
   "id": "e761a03b-9607-415d-a1cb-2d3a992b5bea",
   "metadata": {},
   "source": [
    "**Where:**\n",
    "\n",
    "- \"આ\" = 224, 170, 134\n",
    "- \"ય\" = 224, 170, 175\n",
    "- 'ુ' = 224, 171, 129\n",
    "- \"ષ\" = 224, 170, 183\n",
    "\n",
    "> Because \"utf-8\" is just a representation of bytes, it can take 1 to 4 bytes per character! 😉"
   ]
  },
  {
   "cell_type": "code",
   "execution_count": 31,
   "id": "e9e4961f-0ad3-48e1-8814-45d81b179acb",
   "metadata": {
    "tags": []
   },
   "outputs": [
    {
     "data": {
      "text/plain": [
       "{0: b'\\x00',\n",
       " 1: b'\\x01',\n",
       " 2: b'\\x02',\n",
       " 3: b'\\x03',\n",
       " 4: b'\\x04',\n",
       " 5: b'\\x05',\n",
       " 6: b'\\x06',\n",
       " 7: b'\\x07',\n",
       " 8: b'\\x08',\n",
       " 9: b'\\t',\n",
       " 10: b'\\n',\n",
       " 11: b'\\x0b',\n",
       " 12: b'\\x0c',\n",
       " 13: b'\\r',\n",
       " 14: b'\\x0e',\n",
       " 15: b'\\x0f',\n",
       " 16: b'\\x10',\n",
       " 17: b'\\x11',\n",
       " 18: b'\\x12',\n",
       " 19: b'\\x13',\n",
       " 20: b'\\x14',\n",
       " 21: b'\\x15',\n",
       " 22: b'\\x16',\n",
       " 23: b'\\x17',\n",
       " 24: b'\\x18',\n",
       " 25: b'\\x19',\n",
       " 26: b'\\x1a',\n",
       " 27: b'\\x1b',\n",
       " 28: b'\\x1c',\n",
       " 29: b'\\x1d',\n",
       " 30: b'\\x1e',\n",
       " 31: b'\\x1f',\n",
       " 32: b' ',\n",
       " 33: b'!',\n",
       " 34: b'\"',\n",
       " 35: b'#',\n",
       " 36: b'$',\n",
       " 37: b'%',\n",
       " 38: b'&',\n",
       " 39: b\"'\",\n",
       " 40: b'(',\n",
       " 41: b')',\n",
       " 42: b'*',\n",
       " 43: b'+',\n",
       " 44: b',',\n",
       " 45: b'-',\n",
       " 46: b'.',\n",
       " 47: b'/',\n",
       " 48: b'0',\n",
       " 49: b'1',\n",
       " 50: b'2',\n",
       " 51: b'3',\n",
       " 52: b'4',\n",
       " 53: b'5',\n",
       " 54: b'6',\n",
       " 55: b'7',\n",
       " 56: b'8',\n",
       " 57: b'9',\n",
       " 58: b':',\n",
       " 59: b';',\n",
       " 60: b'<',\n",
       " 61: b'=',\n",
       " 62: b'>',\n",
       " 63: b'?',\n",
       " 64: b'@',\n",
       " 65: b'A',\n",
       " 66: b'B',\n",
       " 67: b'C',\n",
       " 68: b'D',\n",
       " 69: b'E',\n",
       " 70: b'F',\n",
       " 71: b'G',\n",
       " 72: b'H',\n",
       " 73: b'I',\n",
       " 74: b'J',\n",
       " 75: b'K',\n",
       " 76: b'L',\n",
       " 77: b'M',\n",
       " 78: b'N',\n",
       " 79: b'O',\n",
       " 80: b'P',\n",
       " 81: b'Q',\n",
       " 82: b'R',\n",
       " 83: b'S',\n",
       " 84: b'T',\n",
       " 85: b'U',\n",
       " 86: b'V',\n",
       " 87: b'W',\n",
       " 88: b'X',\n",
       " 89: b'Y',\n",
       " 90: b'Z',\n",
       " 91: b'[',\n",
       " 92: b'\\\\',\n",
       " 93: b']',\n",
       " 94: b'^',\n",
       " 95: b'_',\n",
       " 96: b'`',\n",
       " 97: b'a',\n",
       " 98: b'b',\n",
       " 99: b'c',\n",
       " 100: b'd',\n",
       " 101: b'e',\n",
       " 102: b'f',\n",
       " 103: b'g',\n",
       " 104: b'h',\n",
       " 105: b'i',\n",
       " 106: b'j',\n",
       " 107: b'k',\n",
       " 108: b'l',\n",
       " 109: b'm',\n",
       " 110: b'n',\n",
       " 111: b'o',\n",
       " 112: b'p',\n",
       " 113: b'q',\n",
       " 114: b'r',\n",
       " 115: b's',\n",
       " 116: b't',\n",
       " 117: b'u',\n",
       " 118: b'v',\n",
       " 119: b'w',\n",
       " 120: b'x',\n",
       " 121: b'y',\n",
       " 122: b'z',\n",
       " 123: b'{',\n",
       " 124: b'|',\n",
       " 125: b'}',\n",
       " 126: b'~',\n",
       " 127: b'\\x7f',\n",
       " 128: b'\\x80',\n",
       " 129: b'\\x81',\n",
       " 130: b'\\x82',\n",
       " 131: b'\\x83',\n",
       " 132: b'\\x84',\n",
       " 133: b'\\x85',\n",
       " 134: b'\\x86',\n",
       " 135: b'\\x87',\n",
       " 136: b'\\x88',\n",
       " 137: b'\\x89',\n",
       " 138: b'\\x8a',\n",
       " 139: b'\\x8b',\n",
       " 140: b'\\x8c',\n",
       " 141: b'\\x8d',\n",
       " 142: b'\\x8e',\n",
       " 143: b'\\x8f',\n",
       " 144: b'\\x90',\n",
       " 145: b'\\x91',\n",
       " 146: b'\\x92',\n",
       " 147: b'\\x93',\n",
       " 148: b'\\x94',\n",
       " 149: b'\\x95',\n",
       " 150: b'\\x96',\n",
       " 151: b'\\x97',\n",
       " 152: b'\\x98',\n",
       " 153: b'\\x99',\n",
       " 154: b'\\x9a',\n",
       " 155: b'\\x9b',\n",
       " 156: b'\\x9c',\n",
       " 157: b'\\x9d',\n",
       " 158: b'\\x9e',\n",
       " 159: b'\\x9f',\n",
       " 160: b'\\xa0',\n",
       " 161: b'\\xa1',\n",
       " 162: b'\\xa2',\n",
       " 163: b'\\xa3',\n",
       " 164: b'\\xa4',\n",
       " 165: b'\\xa5',\n",
       " 166: b'\\xa6',\n",
       " 167: b'\\xa7',\n",
       " 168: b'\\xa8',\n",
       " 169: b'\\xa9',\n",
       " 170: b'\\xaa',\n",
       " 171: b'\\xab',\n",
       " 172: b'\\xac',\n",
       " 173: b'\\xad',\n",
       " 174: b'\\xae',\n",
       " 175: b'\\xaf',\n",
       " 176: b'\\xb0',\n",
       " 177: b'\\xb1',\n",
       " 178: b'\\xb2',\n",
       " 179: b'\\xb3',\n",
       " 180: b'\\xb4',\n",
       " 181: b'\\xb5',\n",
       " 182: b'\\xb6',\n",
       " 183: b'\\xb7',\n",
       " 184: b'\\xb8',\n",
       " 185: b'\\xb9',\n",
       " 186: b'\\xba',\n",
       " 187: b'\\xbb',\n",
       " 188: b'\\xbc',\n",
       " 189: b'\\xbd',\n",
       " 190: b'\\xbe',\n",
       " 191: b'\\xbf',\n",
       " 192: b'\\xc0',\n",
       " 193: b'\\xc1',\n",
       " 194: b'\\xc2',\n",
       " 195: b'\\xc3',\n",
       " 196: b'\\xc4',\n",
       " 197: b'\\xc5',\n",
       " 198: b'\\xc6',\n",
       " 199: b'\\xc7',\n",
       " 200: b'\\xc8',\n",
       " 201: b'\\xc9',\n",
       " 202: b'\\xca',\n",
       " 203: b'\\xcb',\n",
       " 204: b'\\xcc',\n",
       " 205: b'\\xcd',\n",
       " 206: b'\\xce',\n",
       " 207: b'\\xcf',\n",
       " 208: b'\\xd0',\n",
       " 209: b'\\xd1',\n",
       " 210: b'\\xd2',\n",
       " 211: b'\\xd3',\n",
       " 212: b'\\xd4',\n",
       " 213: b'\\xd5',\n",
       " 214: b'\\xd6',\n",
       " 215: b'\\xd7',\n",
       " 216: b'\\xd8',\n",
       " 217: b'\\xd9',\n",
       " 218: b'\\xda',\n",
       " 219: b'\\xdb',\n",
       " 220: b'\\xdc',\n",
       " 221: b'\\xdd',\n",
       " 222: b'\\xde',\n",
       " 223: b'\\xdf',\n",
       " 224: b'\\xe0',\n",
       " 225: b'\\xe1',\n",
       " 226: b'\\xe2',\n",
       " 227: b'\\xe3',\n",
       " 228: b'\\xe4',\n",
       " 229: b'\\xe5',\n",
       " 230: b'\\xe6',\n",
       " 231: b'\\xe7',\n",
       " 232: b'\\xe8',\n",
       " 233: b'\\xe9',\n",
       " 234: b'\\xea',\n",
       " 235: b'\\xeb',\n",
       " 236: b'\\xec',\n",
       " 237: b'\\xed',\n",
       " 238: b'\\xee',\n",
       " 239: b'\\xef',\n",
       " 240: b'\\xf0',\n",
       " 241: b'\\xf1',\n",
       " 242: b'\\xf2',\n",
       " 243: b'\\xf3',\n",
       " 244: b'\\xf4',\n",
       " 245: b'\\xf5',\n",
       " 246: b'\\xf6',\n",
       " 247: b'\\xf7',\n",
       " 248: b'\\xf8',\n",
       " 249: b'\\xf9',\n",
       " 250: b'\\xfa',\n",
       " 251: b'\\xfb',\n",
       " 252: b'\\xfc',\n",
       " 253: b'\\xfd',\n",
       " 254: b'\\xfe',\n",
       " 255: b'\\xff'}"
      ]
     },
     "execution_count": 31,
     "metadata": {},
     "output_type": "execute_result"
    }
   ],
   "source": [
    "vocab"
   ]
  },
  {
   "cell_type": "markdown",
   "id": "5dffa81a-ccce-4e48-bf06-f2b1d55b0f3b",
   "metadata": {},
   "source": [
    "### 2️⃣ Step: Extend the vocab with new tokens"
   ]
  },
  {
   "cell_type": "markdown",
   "id": "f4d8dff8-726d-418c-b168-7ca4b1123cf5",
   "metadata": {
    "tags": []
   },
   "source": [
    "👉🏻 Now we will add the **memrged** or new created characters in the vocab. \n",
    "\n",
    "The vocab has the following structure:\n",
    "```\n",
    "{\n",
    "    byte_index : byte_representation\n",
    "}\n",
    "```\n",
    "\n",
    "Till now, we have the byte index from `0` to `255`. And, the following code will add new merged characters."
   ]
  },
  {
   "cell_type": "code",
   "execution_count": 32,
   "id": "1739ecaf-29e2-4d0b-af96-1314f572f888",
   "metadata": {
    "tags": []
   },
   "outputs": [],
   "source": [
    "for (left, right), idx in mapping.items():\n",
    "    vocab[idx] = vocab[left] + vocab[right]"
   ]
  },
  {
   "cell_type": "code",
   "execution_count": 33,
   "id": "78d44b3a-3ae7-40a0-b75c-016d84c900d2",
   "metadata": {
    "tags": []
   },
   "outputs": [
    {
     "name": "stdout",
     "output_type": "stream",
     "text": [
      "{\n",
      "(0, b'\\x00')\n",
      "(1, b'\\x01')\n",
      "(2, b'\\x02')\n",
      "(3, b'\\x03')\n",
      "(4, b'\\x04')\n",
      "}\n",
      "\n",
      "...\n",
      "\n",
      "{\n",
      "(256, b'e ')\n",
      "(257, b'in')\n",
      "(258, b's ')\n",
      "(259, b'th')\n",
      "(260, b'er')\n",
      "}\n"
     ]
    }
   ],
   "source": [
    "# The old and new... all in the single vocab\n",
    "\n",
    "print(\"{\", *[(idx, b) for idx, b in vocab.items() if idx <= 4], \"}\", sep=\"\\n\")\n",
    "print(\"\\n...\\n\")\n",
    "print(\"{\", *[(idx, b) for idx, b in vocab.items() if idx >= 256 and idx <= 260], \"}\", sep=\"\\n\")"
   ]
  },
  {
   "cell_type": "markdown",
   "id": "db588b26-da16-4c7e-b73e-ea3d2bb8dc70",
   "metadata": {
    "tags": []
   },
   "source": [
    "**Note** that the `bytes([256])` won't work. Doing that will give an error like below:\n",
    "\n",
    "```python\n",
    ">>> byte([256])\n",
    "ValueError: bytes must be in range(0, 256)\n",
    "```"
   ]
  },
  {
   "cell_type": "code",
   "execution_count": 34,
   "id": "c4a6cfac-9b80-4adf-80a7-e8551b884df7",
   "metadata": {
    "tags": []
   },
   "outputs": [
    {
     "data": {
      "text/plain": [
       "{0: b'\\x00',\n",
       " 1: b'\\x01',\n",
       " 2: b'\\x02',\n",
       " 3: b'\\x03',\n",
       " 4: b'\\x04',\n",
       " 5: b'\\x05',\n",
       " 6: b'\\x06',\n",
       " 7: b'\\x07',\n",
       " 8: b'\\x08',\n",
       " 9: b'\\t',\n",
       " 10: b'\\n',\n",
       " 11: b'\\x0b',\n",
       " 12: b'\\x0c',\n",
       " 13: b'\\r',\n",
       " 14: b'\\x0e',\n",
       " 15: b'\\x0f',\n",
       " 16: b'\\x10',\n",
       " 17: b'\\x11',\n",
       " 18: b'\\x12',\n",
       " 19: b'\\x13',\n",
       " 20: b'\\x14',\n",
       " 21: b'\\x15',\n",
       " 22: b'\\x16',\n",
       " 23: b'\\x17',\n",
       " 24: b'\\x18',\n",
       " 25: b'\\x19',\n",
       " 26: b'\\x1a',\n",
       " 27: b'\\x1b',\n",
       " 28: b'\\x1c',\n",
       " 29: b'\\x1d',\n",
       " 30: b'\\x1e',\n",
       " 31: b'\\x1f',\n",
       " 32: b' ',\n",
       " 33: b'!',\n",
       " 34: b'\"',\n",
       " 35: b'#',\n",
       " 36: b'$',\n",
       " 37: b'%',\n",
       " 38: b'&',\n",
       " 39: b\"'\",\n",
       " 40: b'(',\n",
       " 41: b')',\n",
       " 42: b'*',\n",
       " 43: b'+',\n",
       " 44: b',',\n",
       " 45: b'-',\n",
       " 46: b'.',\n",
       " 47: b'/',\n",
       " 48: b'0',\n",
       " 49: b'1',\n",
       " 50: b'2',\n",
       " 51: b'3',\n",
       " 52: b'4',\n",
       " 53: b'5',\n",
       " 54: b'6',\n",
       " 55: b'7',\n",
       " 56: b'8',\n",
       " 57: b'9',\n",
       " 58: b':',\n",
       " 59: b';',\n",
       " 60: b'<',\n",
       " 61: b'=',\n",
       " 62: b'>',\n",
       " 63: b'?',\n",
       " 64: b'@',\n",
       " 65: b'A',\n",
       " 66: b'B',\n",
       " 67: b'C',\n",
       " 68: b'D',\n",
       " 69: b'E',\n",
       " 70: b'F',\n",
       " 71: b'G',\n",
       " 72: b'H',\n",
       " 73: b'I',\n",
       " 74: b'J',\n",
       " 75: b'K',\n",
       " 76: b'L',\n",
       " 77: b'M',\n",
       " 78: b'N',\n",
       " 79: b'O',\n",
       " 80: b'P',\n",
       " 81: b'Q',\n",
       " 82: b'R',\n",
       " 83: b'S',\n",
       " 84: b'T',\n",
       " 85: b'U',\n",
       " 86: b'V',\n",
       " 87: b'W',\n",
       " 88: b'X',\n",
       " 89: b'Y',\n",
       " 90: b'Z',\n",
       " 91: b'[',\n",
       " 92: b'\\\\',\n",
       " 93: b']',\n",
       " 94: b'^',\n",
       " 95: b'_',\n",
       " 96: b'`',\n",
       " 97: b'a',\n",
       " 98: b'b',\n",
       " 99: b'c',\n",
       " 100: b'd',\n",
       " 101: b'e',\n",
       " 102: b'f',\n",
       " 103: b'g',\n",
       " 104: b'h',\n",
       " 105: b'i',\n",
       " 106: b'j',\n",
       " 107: b'k',\n",
       " 108: b'l',\n",
       " 109: b'm',\n",
       " 110: b'n',\n",
       " 111: b'o',\n",
       " 112: b'p',\n",
       " 113: b'q',\n",
       " 114: b'r',\n",
       " 115: b's',\n",
       " 116: b't',\n",
       " 117: b'u',\n",
       " 118: b'v',\n",
       " 119: b'w',\n",
       " 120: b'x',\n",
       " 121: b'y',\n",
       " 122: b'z',\n",
       " 123: b'{',\n",
       " 124: b'|',\n",
       " 125: b'}',\n",
       " 126: b'~',\n",
       " 127: b'\\x7f',\n",
       " 128: b'\\x80',\n",
       " 129: b'\\x81',\n",
       " 130: b'\\x82',\n",
       " 131: b'\\x83',\n",
       " 132: b'\\x84',\n",
       " 133: b'\\x85',\n",
       " 134: b'\\x86',\n",
       " 135: b'\\x87',\n",
       " 136: b'\\x88',\n",
       " 137: b'\\x89',\n",
       " 138: b'\\x8a',\n",
       " 139: b'\\x8b',\n",
       " 140: b'\\x8c',\n",
       " 141: b'\\x8d',\n",
       " 142: b'\\x8e',\n",
       " 143: b'\\x8f',\n",
       " 144: b'\\x90',\n",
       " 145: b'\\x91',\n",
       " 146: b'\\x92',\n",
       " 147: b'\\x93',\n",
       " 148: b'\\x94',\n",
       " 149: b'\\x95',\n",
       " 150: b'\\x96',\n",
       " 151: b'\\x97',\n",
       " 152: b'\\x98',\n",
       " 153: b'\\x99',\n",
       " 154: b'\\x9a',\n",
       " 155: b'\\x9b',\n",
       " 156: b'\\x9c',\n",
       " 157: b'\\x9d',\n",
       " 158: b'\\x9e',\n",
       " 159: b'\\x9f',\n",
       " 160: b'\\xa0',\n",
       " 161: b'\\xa1',\n",
       " 162: b'\\xa2',\n",
       " 163: b'\\xa3',\n",
       " 164: b'\\xa4',\n",
       " 165: b'\\xa5',\n",
       " 166: b'\\xa6',\n",
       " 167: b'\\xa7',\n",
       " 168: b'\\xa8',\n",
       " 169: b'\\xa9',\n",
       " 170: b'\\xaa',\n",
       " 171: b'\\xab',\n",
       " 172: b'\\xac',\n",
       " 173: b'\\xad',\n",
       " 174: b'\\xae',\n",
       " 175: b'\\xaf',\n",
       " 176: b'\\xb0',\n",
       " 177: b'\\xb1',\n",
       " 178: b'\\xb2',\n",
       " 179: b'\\xb3',\n",
       " 180: b'\\xb4',\n",
       " 181: b'\\xb5',\n",
       " 182: b'\\xb6',\n",
       " 183: b'\\xb7',\n",
       " 184: b'\\xb8',\n",
       " 185: b'\\xb9',\n",
       " 186: b'\\xba',\n",
       " 187: b'\\xbb',\n",
       " 188: b'\\xbc',\n",
       " 189: b'\\xbd',\n",
       " 190: b'\\xbe',\n",
       " 191: b'\\xbf',\n",
       " 192: b'\\xc0',\n",
       " 193: b'\\xc1',\n",
       " 194: b'\\xc2',\n",
       " 195: b'\\xc3',\n",
       " 196: b'\\xc4',\n",
       " 197: b'\\xc5',\n",
       " 198: b'\\xc6',\n",
       " 199: b'\\xc7',\n",
       " 200: b'\\xc8',\n",
       " 201: b'\\xc9',\n",
       " 202: b'\\xca',\n",
       " 203: b'\\xcb',\n",
       " 204: b'\\xcc',\n",
       " 205: b'\\xcd',\n",
       " 206: b'\\xce',\n",
       " 207: b'\\xcf',\n",
       " 208: b'\\xd0',\n",
       " 209: b'\\xd1',\n",
       " 210: b'\\xd2',\n",
       " 211: b'\\xd3',\n",
       " 212: b'\\xd4',\n",
       " 213: b'\\xd5',\n",
       " 214: b'\\xd6',\n",
       " 215: b'\\xd7',\n",
       " 216: b'\\xd8',\n",
       " 217: b'\\xd9',\n",
       " 218: b'\\xda',\n",
       " 219: b'\\xdb',\n",
       " 220: b'\\xdc',\n",
       " 221: b'\\xdd',\n",
       " 222: b'\\xde',\n",
       " 223: b'\\xdf',\n",
       " 224: b'\\xe0',\n",
       " 225: b'\\xe1',\n",
       " 226: b'\\xe2',\n",
       " 227: b'\\xe3',\n",
       " 228: b'\\xe4',\n",
       " 229: b'\\xe5',\n",
       " 230: b'\\xe6',\n",
       " 231: b'\\xe7',\n",
       " 232: b'\\xe8',\n",
       " 233: b'\\xe9',\n",
       " 234: b'\\xea',\n",
       " 235: b'\\xeb',\n",
       " 236: b'\\xec',\n",
       " 237: b'\\xed',\n",
       " 238: b'\\xee',\n",
       " 239: b'\\xef',\n",
       " 240: b'\\xf0',\n",
       " 241: b'\\xf1',\n",
       " 242: b'\\xf2',\n",
       " 243: b'\\xf3',\n",
       " 244: b'\\xf4',\n",
       " 245: b'\\xf5',\n",
       " 246: b'\\xf6',\n",
       " 247: b'\\xf7',\n",
       " 248: b'\\xf8',\n",
       " 249: b'\\xf9',\n",
       " 250: b'\\xfa',\n",
       " 251: b'\\xfb',\n",
       " 252: b'\\xfc',\n",
       " 253: b'\\xfd',\n",
       " 254: b'\\xfe',\n",
       " 255: b'\\xff',\n",
       " 256: b'e ',\n",
       " 257: b'in',\n",
       " 258: b's ',\n",
       " 259: b'th',\n",
       " 260: b'er',\n",
       " 261: b'co',\n",
       " 262: b't ',\n",
       " 263: b'\\xe2\\x80',\n",
       " 264: b', ',\n",
       " 265: b'an',\n",
       " 266: b'or',\n",
       " 267: b'd ',\n",
       " 268: b'ar',\n",
       " 269: b'en',\n",
       " 270: b'ing',\n",
       " 271: b'cod',\n",
       " 272: b'y ',\n",
       " 273: b'. ',\n",
       " 274: b'al',\n",
       " 275: b'the '}"
      ]
     },
     "execution_count": 34,
     "metadata": {},
     "output_type": "execute_result"
    }
   ],
   "source": [
    "vocab"
   ]
  },
  {
   "cell_type": "markdown",
   "id": "27650b56-60d9-48ad-b05e-e86907b60297",
   "metadata": {},
   "source": [
    "### 3️⃣ Step: Decode the incoming tokens"
   ]
  },
  {
   "cell_type": "code",
   "execution_count": 35,
   "id": "68607115-7eb6-4b35-a4f4-2a02d213b0dc",
   "metadata": {
    "tags": []
   },
   "outputs": [],
   "source": [
    "def decode(ids):\n",
    "    # get byte representation from the vocab\n",
    "    bytes_to_decode = [vocab[idx] for idx in ids]\n",
    "    \n",
    "    # merge them into a single byte stream\n",
    "    bytes_to_decode = b\"\".join(bytes_to_decode)\n",
    "    \n",
    "    # decode them in the utf-8\n",
    "    return bytes_to_decode.decode(\"utf-8\")"
   ]
  },
  {
   "cell_type": "code",
   "execution_count": 36,
   "id": "b5558dc9-8f4f-4976-bb6b-0db9f9bfa33f",
   "metadata": {
    "tags": []
   },
   "outputs": [
    {
     "name": "stdout",
     "output_type": "stream",
     "text": [
      "a\n",
      "aayush\n"
     ]
    }
   ],
   "source": [
    "# Example\n",
    "print(decode([97]))\n",
    "print(decode([97, 97, 121, 117, 115, 104]))"
   ]
  },
  {
   "cell_type": "code",
   "execution_count": 37,
   "id": "fd930a47-3165-45ac-a9a3-90f3e81549cb",
   "metadata": {
    "tags": []
   },
   "outputs": [
    {
     "name": "stdout",
     "output_type": "stream",
     "text": [
      ">>> 'utf-8' codec can't decode byte 0x80 in position 0: invalid start byte <<<\n"
     ]
    }
   ],
   "source": [
    "# but it fails here\n",
    "try: \n",
    "    decode([128])\n",
    "except Exception as e:\n",
    "    print(\">>>\", e, \"<<<\")"
   ]
  },
  {
   "cell_type": "markdown",
   "id": "f511cb50-bec5-4cc8-b9db-1d1a6edab65e",
   "metadata": {},
   "source": [
    "As `bytes_stream.decode(\"utf-8\")` expects the UTF-8 standard stream, but 128 doesn't specify that. For more information, the following is the response from **ChatGPT**:\n",
    "\n",
    "---\n",
    "1. **Encoding:** The `bytes([250])` operation creates a bytes object with a single byte value of 250, which is within the valid range of 0 to 255.\n",
    "\n",
    "2. **Decoding:** When attempting to decode the bytes using `byte_encoded.decode(\"utf-8\")`, Python encounters the byte `0xFA`, which doesn't form a valid UTF-8 character sequence due to its most significant bit being set. This leads to the `UnicodeDecodeError`.\n",
    "\n",
    "To avoid this error, you can decode bytes using an encoding like `'latin-1'` or `'ISO-8859-1'`, which maps each byte value to the corresponding Unicode code point. For example:\n",
    "\n",
    "```python\n",
    "byte_encoded = bytes([250])\n",
    "decoded_string = byte_encoded.decode(\"latin-1\")\n",
    "```\n",
    "\n",
    "This way, each byte value is treated independently, preventing decoding errors for byte values above 127.\n",
    "\n",
    "---\n",
    "\n",
    "This is how it works 🤷🏻‍♂️"
   ]
  },
  {
   "cell_type": "markdown",
   "id": "e3dc11b3-e863-4e77-95b1-3df9fae0bc7d",
   "metadata": {},
   "source": [
    "### 3️⃣ Step: Decode the incoming tokens (revised)"
   ]
  },
  {
   "cell_type": "code",
   "execution_count": 38,
   "id": "8e695e51-a453-4530-b397-873b1bccdda2",
   "metadata": {
    "tags": []
   },
   "outputs": [],
   "source": [
    "def decode(ids):\n",
    "    # get byte representation from the vocab\n",
    "    bytes_to_decode = [vocab[idx] for idx in ids]\n",
    "    \n",
    "    # merge them into a single byte stream\n",
    "    bytes_to_decode = b\"\".join(bytes_to_decode)\n",
    "    \n",
    "    # decode them in the utf-8\n",
    "    return bytes_to_decode.decode(\"utf-8\", errors=\"replace\") # replace with the unkown token"
   ]
  },
  {
   "cell_type": "code",
   "execution_count": 39,
   "id": "5bc7da4e-5456-4f67-8179-50ab7633dde2",
   "metadata": {
    "tags": []
   },
   "outputs": [
    {
     "name": "stdout",
     "output_type": "stream",
     "text": [
      "a\n",
      "aayush\n",
      "�\n"
     ]
    }
   ],
   "source": [
    "# Example\n",
    "print(decode([97]))\n",
    "print(decode([97, 97, 121, 117, 115, 104]))\n",
    "print(decode([128]))"
   ]
  },
  {
   "cell_type": "markdown",
   "id": "4e9ba685-e5bc-4f09-812e-83b657370253",
   "metadata": {},
   "source": [
    "#### ❓ Why and when can it happen?\n",
    "- The utf-8 represenation is the multi-byte representation.\n",
    "- When the ids are wrongly placed, then the byte representation will be flawed.\n",
    "- It happens when the model that we have trained, produces bad ids, which can't be decoded.\n",
    "- That case, we will need this kind of replacement.\n"
   ]
  },
  {
   "cell_type": "markdown",
   "id": "8e58dc6c-28b8-4451-8797-7b20b1b3f716",
   "metadata": {},
   "source": [
    "### Decoder All Together"
   ]
  },
  {
   "cell_type": "code",
   "execution_count": 40,
   "id": "338c4036-11bc-4844-b589-92c307967a15",
   "metadata": {
    "tags": []
   },
   "outputs": [],
   "source": [
    "# Training\n",
    "vocab = {idx:bytes([idx]) for idx in range(256)}\n",
    "for (left, right), idx in mapping.items():\n",
    "    vocab[idx] = vocab[left] + vocab[right]\n",
    "    \n",
    "# Applying\n",
    "def decode(ids):\n",
    "    # get byte representation from the vocab\n",
    "    bytes_to_decode = [vocab[idx] for idx in ids]\n",
    "    \n",
    "    # merge them into a single byte stream\n",
    "    bytes_to_decode = b\"\".join(bytes_to_decode)\n",
    "    \n",
    "    # decode them in the utf-8\n",
    "    return bytes_to_decode.decode(\"utf-8\", errors=\"replace\") # replace with the unkown token"
   ]
  },
  {
   "cell_type": "markdown",
   "id": "9fd89b75-5458-4117-b95e-385d64c15f73",
   "metadata": {},
   "source": [
    "## 🔤👉🏻1️⃣2️⃣3️⃣ Encoder "
   ]
  },
  {
   "cell_type": "code",
   "execution_count": 41,
   "id": "72d5272c-e888-49cd-9ddb-74e2592e61fe",
   "metadata": {
    "tags": []
   },
   "outputs": [],
   "source": [
    "def encode(text):\n",
    "    # now we have the initial raw tokens (un-merged)\n",
    "    tokens = list(text.encode(\"utf-8\"))\n",
    "    \n",
    "    # we will need to merge them based on the understanding of previous merge (mappings)\n",
    "    # the mapping **works top-down** so, first we will replace the first and then other\n",
    "    while len(tokens) >= 2: # need to have at least 2 tokens\n",
    "        _, _, stats = get_max_occuring_pair_and_stats(tokens)\n",
    "    \n",
    "        # now we have all the possible pairs and their counts in the `stats` variable\n",
    "        # THIS LINE IS DEMYSTIFIED IN THE FOLLOWING CELLS\n",
    "        pair = min(stats, key=lambda p: mapping.get(p, float(\"inf\")))\n",
    "        \n",
    "        if pair not in mapping:\n",
    "            break\n",
    "        # Now we have a pair that can be replaced in the raw_tokens\n",
    "        idx = mapping[pair]\n",
    "        tokens = replace(tokens, pair, idx)\n",
    "    \n",
    "    return tokens"
   ]
  },
  {
   "cell_type": "code",
   "execution_count": 42,
   "id": "22b3d709-74d0-4b70-9cd2-b76932f8d6cd",
   "metadata": {
    "tags": []
   },
   "outputs": [
    {
     "data": {
      "text/plain": [
       "[84, 104, 105, 258, 105, 258, 109, 256, 110, 111, 119, 33]"
      ]
     },
     "execution_count": 42,
     "metadata": {},
     "output_type": "execute_result"
    }
   ],
   "source": [
    "encode(\"This is me now!\")"
   ]
  },
  {
   "cell_type": "markdown",
   "id": "8d27f436-bd6e-4833-895a-c4fe4d4ce7f2",
   "metadata": {},
   "source": [
    "## Demystifying the Encoder\n",
    "\n",
    "<img src=\"./images/encoder-demystify\">"
   ]
  },
  {
   "cell_type": "code",
   "execution_count": 43,
   "id": "c886148f-2edb-4a8b-b078-3b7210cb5cf1",
   "metadata": {
    "tags": []
   },
   "outputs": [
    {
     "data": {
      "text/plain": [
       "'This is me now!'"
      ]
     },
     "execution_count": 43,
     "metadata": {},
     "output_type": "execute_result"
    }
   ],
   "source": [
    "# Ohh, it worked!\n",
    "decode(encode(\"This is me now!\"))"
   ]
  },
  {
   "cell_type": "code",
   "execution_count": 44,
   "id": "e3e74662-c011-43a6-9daa-8d68bc1fb872",
   "metadata": {
    "tags": []
   },
   "outputs": [
    {
     "data": {
      "text/plain": [
       "'Ｕｎｉｃｏｄｅ! 🅤🅝🅘🅒🅞🅓🅔‽'"
      ]
     },
     "execution_count": 44,
     "metadata": {},
     "output_type": "execute_result"
    }
   ],
   "source": [
    "# Ohh, it worked!\n",
    "decode(encode(\"Ｕｎｉｃｏｄｅ! 🅤🅝🅘🅒🅞🅓🅔‽\"))"
   ]
  },
  {
   "cell_type": "markdown",
   "id": "86d641a3-42af-4ea3-9579-2cba64aa166b",
   "metadata": {},
   "source": [
    "# ❕❗The Dog Issue.\n",
    "\n",
    "Andrej explains this [in this clip](https://youtube.com/clip/Ugkx_AxtO-E1iQOzoIPEiirwqi5FpUMfEQyu?si=rNtzvKAmEi8ek2MI) ✂️"
   ]
  },
  {
   "cell_type": "markdown",
   "id": "3b7fa865-9576-4ad9-a5b6-09cf7089ea31",
   "metadata": {},
   "source": [
    "**In short**:\n",
    "- The problem arises when \"the combination of unnecessary words become too frequent that they endup being a single token\". \n",
    "- Doing this, can cause the model to learn different sementic meaning of them.\n",
    "\n",
    "For an example:\n",
    "- The word `hey!!!`, `hey!!`, `hey??!` are just the same *(they may provide different weight - but for the sake of this explanation, continue reading)*. \n",
    "- Having enough repetations of them can make them appear as a single token and the model has to learn its meaning.\n",
    "\n",
    "So at the EOD, the model will have `hey`, `hey!!`, `hey!!!`, `hey??!`, `!!`, `!`, `?` as seperate tokens. While they **should not be**.\n",
    "\n",
    "This is the problem and in the upcoming cells we wil try to solve this *(as GPT-2 researchers did while creating the GPT-2)*."
   ]
  },
  {
   "cell_type": "markdown",
   "id": "65776122-3d8b-4cd9-9573-dcc2f58eef16",
   "metadata": {},
   "source": [
    "## 📏 Creating a regex to *seperate* these occurances\n",
    "Let's take the regex from the notebook.\n",
    "\n",
    "✂️ Andrej interprets the regex: [in this clip](https://youtube.com/clip/Ugkxlr-k4i1Sv2mcQrj82JiXqQw6zvi6JgHe?si=iKeegcRYG4CeHMpq)."
   ]
  },
  {
   "cell_type": "code",
   "execution_count": 45,
   "id": "3d70799f-8784-4db0-9295-2eddc257468f",
   "metadata": {
    "tags": []
   },
   "outputs": [],
   "source": [
    "import regex as re"
   ]
  },
  {
   "cell_type": "code",
   "execution_count": 46,
   "id": "48829fef-f13d-4c97-a05d-e1903b84a5ff",
   "metadata": {
    "tags": []
   },
   "outputs": [
    {
     "name": "stdout",
     "output_type": "stream",
     "text": [
      "['Hello', \"'ve\", ' world', '123', ' how', \"'s\", ' are', ' you', '!!!?']\n"
     ]
    }
   ],
   "source": [
    "gpt2pat = re.compile(r\"\"\"'s|'t|'re|'ve|'m|'ll|'d| ?\\p{L}+| ?\\p{N}+| ?[^\\s\\p{L}\\p{N}]+|\\s+(?!\\S)|\\s+\"\"\")\n",
    "\n",
    "print(re.findall(gpt2pat, \"Hello've world123 how's are you!!!?\"))"
   ]
  },
  {
   "cell_type": "markdown",
   "id": "3547274c-2dca-425c-a7dc-0c35e384e253",
   "metadata": {},
   "source": [
    "See? This is cool. It will make the seperate words where it finds the things are not moving properly.\n",
    "\n",
    "Let's take the `hey` example."
   ]
  },
  {
   "cell_type": "code",
   "execution_count": 47,
   "id": "e8482c99-775c-49a4-8548-17f242cab186",
   "metadata": {
    "tags": []
   },
   "outputs": [
    {
     "name": "stdout",
     "output_type": "stream",
     "text": [
      "['Hey', ' there', '!', ' How', ' is', ' it', ' goin', \"'!!!?\"]\n"
     ]
    }
   ],
   "source": [
    "print(re.findall(gpt2pat, \"Hey there! How is it goin'!!!?\"))"
   ]
  },
  {
   "cell_type": "markdown",
   "id": "58d2cac8-910d-4d0b-b7c2-cdbce6846015",
   "metadata": {},
   "source": [
    "✨ Looks neat!"
   ]
  },
  {
   "cell_type": "markdown",
   "id": "a9d75d78-384b-4743-84cc-9bccae056299",
   "metadata": {},
   "source": [
    "### 🤔 Then?\n",
    "\n",
    "> *It first splits the sentence into individual words (which are cleaned) and then they and all these elements of this list are processed **independently** by the tokenizer and all the results of the process, are concatenated.*\n",
    ">\n",
    "> — Andrej\n",
    "\n"
   ]
  },
  {
   "cell_type": "markdown",
   "id": "6722133c-6801-490b-b8c2-e100f20fde6c",
   "metadata": {},
   "source": [
    "### 👍🏻 The benefit?\n",
    "You will only find the pairs, in the individual words so the **hey!!!** phenomenon will never occur!"
   ]
  },
  {
   "cell_type": "markdown",
   "id": "662bbaa5-6a8e-4ba2-a897-d9df5c2111d7",
   "metadata": {},
   "source": [
    "# Playing around with GPT-2/4 tokenizers\n",
    "✂️ [This clip](https://youtube.com/clip/UgkxjQUZrGHpqeW8cOWxyV0t7koZtI8zzNDN?si=6A0R2qVvm2GBhdxj) again, I am sorry for sharing the clips than explaining them, but these things are better well explained in the video by Andrej, than me repeating that same process here.\n",
    "\n",
    "So please have a look at that clip and then we will start from the following cells."
   ]
  },
  {
   "cell_type": "code",
   "execution_count": 57,
   "id": "785de138-869c-48ed-b271-8dfee4391816",
   "metadata": {
    "tags": []
   },
   "outputs": [],
   "source": [
    "# !wget https://openaipublic.blob.core.windows.net/gpt-2/models/1558M/vocab.bpe\n",
    "# !wget https://openaipublic.blob.core.windows.net/gpt-2/models/1558M/encoder.json"
   ]
  },
  {
   "cell_type": "code",
   "execution_count": 58,
   "id": "99a58332-b66d-42ba-b944-90f1ea093396",
   "metadata": {
    "tags": []
   },
   "outputs": [],
   "source": [
    "import os, json\n",
    "\n",
    "with open('./data/encoder.json', 'r') as f:\n",
    "    encoder = json.load(f) # <--- ~equivalent to our \"vocab\"\n",
    "\n",
    "with open('./data/vocab.bpe', 'r', encoding=\"utf-8\") as f:\n",
    "    bpe_data = f.read()\n",
    "bpe_merges = [tuple(merge_str.split()) for merge_str in bpe_data.split('\\n')[1:-1]]\n",
    "# ^---- ~equivalent to our \"merges\""
   ]
  },
  {
   "cell_type": "code",
   "execution_count": 61,
   "id": "3fe01552-f353-43c7-b689-1595e306ebd2",
   "metadata": {
    "tags": []
   },
   "outputs": [
    {
     "data": {
      "text/plain": [
       "50257"
      ]
     },
     "execution_count": 61,
     "metadata": {},
     "output_type": "execute_result"
    }
   ],
   "source": [
    "len(encoder.keys())"
   ]
  },
  {
   "cell_type": "markdown",
   "id": "ebed27b3-6466-49d0-b160-08a9fb835636",
   "metadata": {},
   "source": [
    "🔥🔥 Highly recommend: [this is where I got a great realization](https://youtube.com/clip/UgkxY1FGyip3akDBANOrkZwuKDqkZYZYkmB1?si=9WfMVBcp0sZaZSLZ). \n",
    "\n",
    "Here, Andrej explains the story behind the number `50257`. It is very easy!!"
   ]
  },
  {
   "cell_type": "markdown",
   "id": "20af93cc-ed3e-4ac9-bace-f4c0a7483544",
   "metadata": {},
   "source": [
    "# 🫡 Alright then!\n",
    "Let's meet in the next book where we will try to train the tokenizer on the TS. Yeah, my swiftie mode will be activated *(and can get pretty wild 🐯)*."
   ]
  },
  {
   "cell_type": "markdown",
   "id": "f4f84298-d1bf-4edd-bad0-e642ed1f7773",
   "metadata": {},
   "source": [
    "# 😉 Coming from the notebook `2. Swiftie Exercise`?\n",
    "Let's wrap up the lecture with the highlevel points."
   ]
  },
  {
   "cell_type": "markdown",
   "id": "8f723283-2338-4d5e-b122-0c2635e2ff77",
   "metadata": {},
   "source": [
    "### Sentencepiece\n",
    "- Andrej explains how the sentencepiece works. \n",
    "- The library unlike tiktoken, allows to train on the new text.\n",
    "- There are so many hyperparameters that we need to know about while using that library.\n",
    "- Used by LLAMA and Mistral and other models."
   ]
  },
  {
   "cell_type": "markdown",
   "id": "5846ee73-f90c-4019-8e85-a79cb6f33e7c",
   "metadata": {},
   "source": [
    "### What should be the ideal vocab size?\n",
    "- It should not be too high, because the rate token embedding vector will be undertrained.\n",
    "- The models generally use 100k as an upper bound.\n",
    "- High number of tokens will also make the longer tokens, encapsulating multiple tokens into the single one and hence, a lot of the information can be compressed and the model will have less time to learn the connections.\n",
    "- Adding new custom tokens to the pretrained model is possible and is fairly simple."
   ]
  },
  {
   "cell_type": "markdown",
   "id": "003fd3f6-b845-4b6c-b82a-31261f9974f1",
   "metadata": {},
   "source": [
    "### Gist Tokens\n",
    "- Suppose working in a project which requires very long prompts.\n",
    "- The prompt, most of the time is frozen.\n",
    "- It uses a lot of context length.\n",
    "- So, here **introduce the new tokens** and these represent the original prompt.\n",
    "- Then the model training happens and now, model understand the indstructions and everything within these new tokens.\n",
    "\n",
    "These are the gist tokens.\n",
    "\n",
    "📃 [Learning to compress prompts with Gist tokens](https://arxiv.org/abs/2304.08467)"
   ]
  },
  {
   "cell_type": "markdown",
   "id": "ec0afdf7-f1bd-4d0c-8712-9091ea7257b6",
   "metadata": {},
   "source": [
    "### Why tokenizers behave weird?\n",
    "From [here ✂️](https://youtube.com/clip/UgkxqKy5g8yZ0xPDQZPT3BvIxW7ooTu0aNEE?si=opA3gmQuxzTAudYH) Andrej starts testing the issues with tokenizers. It is recommend to watch the stuff there. \n",
    "\n"
   ]
  }
 ],
 "metadata": {
  "kernelspec": {
   "display_name": "Python 3 (ipykernel)",
   "language": "python",
   "name": "python3"
  },
  "language_info": {
   "codemirror_mode": {
    "name": "ipython",
    "version": 3
   },
   "file_extension": ".py",
   "mimetype": "text/x-python",
   "name": "python",
   "nbconvert_exporter": "python",
   "pygments_lexer": "ipython3",
   "version": "3.11.7"
  }
 },
 "nbformat": 4,
 "nbformat_minor": 5
}
