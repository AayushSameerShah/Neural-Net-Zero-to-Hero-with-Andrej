{
 "cells": [
  {
   "cell_type": "markdown",
   "id": "43479575-3193-4b1e-93bd-6659ca6fd750",
   "metadata": {},
   "source": [
    "# We have done...\n",
    "✅ Generating names with **Bigram** setting (manually) <br>\n",
    "✅ Trained a small NN to **learn** the bigram combinations <br>\n",
    "✅ Went wild with MLP, added more leayers and instead of just previous character, **generated using past 3** characters. <br>\n",
    "⬜ Making MLP **mature**. <br>"
   ]
  },
  {
   "cell_type": "markdown",
   "id": "e972b486-0d4e-4f24-bd5e-a6b15408f864",
   "metadata": {},
   "source": [
    "## 🗺 Here...\n",
    "We will see how we can **initialize** the model correctly that, the learning becomes **more robust** and **consistant**. There will be many **terms** explained down the road:\n",
    "\n",
    "- We will see *how the `tanh`* may introduce to the \"dead neurons\"\n",
    "- How to **visualize the weights** of the model so to spot the dead neurons\n",
    "- Visualize the **distribution** of the weights for different activation functions\n",
    "\n",
    "...and a ton of other information!"
   ]
  },
  {
   "cell_type": "code",
   "execution_count": 1,
   "id": "0c9ef860-b193-4f62-bdbd-cfea2024469d",
   "metadata": {},
   "outputs": [],
   "source": [
    "import os    \n",
    "os.environ['KMP_DUPLICATE_LIB_OK'] = 'True'"
   ]
  },
  {
   "cell_type": "markdown",
   "id": "708a8287-c0e2-4e27-8f60-20d6825f0bc8",
   "metadata": {},
   "source": [
    "# 🔒 The default training procedure"
   ]
  },
  {
   "cell_type": "code",
   "execution_count": 2,
   "id": "50d08abe-9bdd-44f9-ae45-1e79ee109ff1",
   "metadata": {},
   "outputs": [],
   "source": [
    "import torch\n",
    "import numpy as np\n",
    "import matplotlib.pyplot as plt\n",
    "\n",
    "from torch.nn.functional import cross_entropy\n",
    "from torch.nn.functional import softmax"
   ]
  },
  {
   "cell_type": "code",
   "execution_count": 3,
   "id": "eb433726-1ae6-45d9-84a7-908f072b866a",
   "metadata": {},
   "outputs": [],
   "source": [
    "# Load the data\n",
    "with open(\"./names.txt\", \"r\") as file:\n",
    "    names = file.read().splitlines()\n",
    "    \n",
    "# total unique characters\n",
    "characters = sorted(list(set(''.join(names))))\n",
    "\n",
    "# Builind index-to-char and char-to-index\n",
    "number_to_chr = {k:v for k, v in enumerate([\"<\", \">\"] + characters)}\n",
    "chr_to_number = {v:k for k, v in enumerate([\"<\", \">\"] + characters)}"
   ]
  },
  {
   "cell_type": "code",
   "execution_count": 4,
   "id": "7639dc10-e374-4ad6-b6df-ec374d6dadd6",
   "metadata": {},
   "outputs": [],
   "source": [
    "# This function will build the dataset and return the X, Y\n",
    "# Used when we have multiple splits :)\n",
    "block_size = 3\n",
    "def build_dataset(shuffled_names):\n",
    "    sot = chr_to_number[\"<\"]\n",
    "\n",
    "    X = []\n",
    "    y = []\n",
    "\n",
    "    for name in shuffled_names: #FOR ALL NAMES\n",
    "        window_chars = [sot] * block_size\n",
    "        name = name + \">\" \n",
    "\n",
    "        for ch in name:\n",
    "            _3chars = ''.join(\n",
    "                list(\n",
    "                    map(lambda x:number_to_chr[x], window_chars)\n",
    "                )) \n",
    "            ch_index = chr_to_number[ch]\n",
    "\n",
    "            X.append(window_chars)\n",
    "            y.append(ch_index)\n",
    "            window_chars = window_chars[1:] + [ch_index]\n",
    "\n",
    "    X = torch.tensor(X)\n",
    "    y = torch.tensor(y)\n",
    "    return X, y"
   ]
  },
  {
   "cell_type": "code",
   "execution_count": 5,
   "id": "f67ed6c0-12e6-440d-9499-d5edd3025993",
   "metadata": {},
   "outputs": [
    {
     "data": {
      "text/plain": [
       "['yuheng', 'diondre', 'xavien', 'jori', 'juanluis']"
      ]
     },
     "execution_count": 5,
     "metadata": {},
     "output_type": "execute_result"
    }
   ],
   "source": [
    "import random\n",
    "random.seed(42)\n",
    "random.shuffle(names) # In-place shuffling. No longer first word will be \"emma\"\n",
    "names[:5]"
   ]
  },
  {
   "cell_type": "code",
   "execution_count": 6,
   "id": "6aa5d533-2f2c-4003-9e6f-35b225d89be6",
   "metadata": {},
   "outputs": [
    {
     "name": "stdout",
     "output_type": "stream",
     "text": [
      "* Xtrain.shape = torch.Size([182625, 3])\n",
      "* Xval.shape = torch.Size([22655, 3])\n",
      "* Xtest.shape = torch.Size([22866, 3])\n"
     ]
    }
   ],
   "source": [
    "train_idx = int(0.8 * len(names)) # 80%\n",
    "val_idx = int(0.9 * len(names)) # 90% - 80% = 10%\n",
    "\n",
    "Xtrain, ytrain = build_dataset(names[:train_idx])\n",
    "Xval, yval = build_dataset(names[train_idx:val_idx])\n",
    "Xtest, ytest = build_dataset(names[val_idx:])\n",
    "\n",
    "print(f\"* {Xtrain.shape = }\\n* {Xval.shape = }\\n* {Xtest.shape = }\")"
   ]
  },
  {
   "cell_type": "markdown",
   "id": "5de6f44b-5474-4a43-9a9f-b01e3397e974",
   "metadata": {},
   "source": [
    "Just **the same** code from *previous* book."
   ]
  },
  {
   "cell_type": "markdown",
   "id": "e4eeb413-cae9-4729-b577-f2f44f1ce3d7",
   "metadata": {},
   "source": [
    "## 🧠 The model\n",
    "> Now, we will **not** use the **hard-coded** numbers, but use the dynamically usable numbers."
   ]
  },
  {
   "cell_type": "code",
   "execution_count": 7,
   "id": "fa091b63-63c3-4bb7-b282-d322e97ca6a1",
   "metadata": {},
   "outputs": [],
   "source": [
    "emb_dim = 10    # The size of the embedding space for each character\n",
    "n_neurons = 200 # Number of the neorons in the hidden layer (we have only one layer)\n",
    "vocab_size = len(number_to_chr) # 28"
   ]
  },
  {
   "cell_type": "code",
   "execution_count": 8,
   "id": "c6fa6c43-c291-4864-bc4c-f4643ef7f17b",
   "metadata": {},
   "outputs": [
    {
     "data": {
      "text/plain": [
       "12108"
      ]
     },
     "execution_count": 8,
     "metadata": {},
     "output_type": "execute_result"
    }
   ],
   "source": [
    "generator = torch.Generator().manual_seed(42)\n",
    "\n",
    "embeddings = torch.randn((vocab_size, emb_dim), generator=generator, requires_grad=True)\n",
    "W1 = torch.randn((block_size * emb_dim, n_neurons), generator=generator, requires_grad=True)\n",
    "b1 = torch.randn(n_neurons, generator=generator, requires_grad=True)\n",
    "\n",
    "W2 = torch.randn((n_neurons, vocab_size), generator=generator, requires_grad=True)\n",
    "b2 = torch.randn(vocab_size, generator=generator, requires_grad=True)\n",
    "\n",
    "parameters = [embeddings, W1, b1, W2, b2]\n",
    "sum(p.nelement() for p in parameters)"
   ]
  },
  {
   "cell_type": "markdown",
   "id": "70037f63-6a0c-4d82-9e8c-42bc9e983b95",
   "metadata": {},
   "source": [
    "### 🔧 Training"
   ]
  },
  {
   "cell_type": "code",
   "execution_count": 9,
   "id": "9f7db824-f4d2-4f9a-a3ec-9ca8dce449ab",
   "metadata": {},
   "outputs": [],
   "source": [
    "losses = []"
   ]
  },
  {
   "cell_type": "code",
   "execution_count": 57,
   "id": "b688d54a-0a95-41f8-9d8c-5aa43b76dab1",
   "metadata": {},
   "outputs": [],
   "source": [
    "batch_size = 32 \n",
    "epochs = 20_000\n",
    "\n",
    "for i in range(epochs):\n",
    "    # Data Sampling (FROM XTRAIN ONLY)\n",
    "    sample_idx = torch.randint(0, Xtrain.shape[0], (batch_size,), generator=generator)\n",
    "    \n",
    "    # 1️⃣ Forward pass\n",
    "    emb = embeddings[Xtrain[sample_idx]] \n",
    "    h = torch.tanh(emb.view(-1, block_size * emb_dim) @ W1 + b1)\n",
    "    logits = h @ W2 + b2 \n",
    "    loss = cross_entropy(logits, ytrain[sample_idx]) \n",
    "    \n",
    "    # 2️⃣ Backward\n",
    "    for p in parameters:\n",
    "        p.grad = None\n",
    "    loss.backward()\n",
    "    \n",
    "    # 3️⃣ Update - with decay\n",
    "    learning_rate = 0.1 if i < 10_000 else 0.01\n",
    "    for p in parameters:\n",
    "        p.data += -learning_rate * p.grad\n",
    "        \n",
    "    losses.append(loss.item()) # for better visualization"
   ]
  },
  {
   "cell_type": "code",
   "execution_count": 59,
   "id": "963c05f0-0b21-4823-8686-f6be264581a2",
   "metadata": {},
   "outputs": [
    {
     "data": {
      "image/png": "[encoded data removed]",
      "text/plain": [
       "<Figure size 432x288 with 1 Axes>"
      ]
     },
     "metadata": {
      "needs_background": "light"
     },
     "output_type": "display_data"
    }
   ],
   "source": [
    "plt.plot(losses, lw=0.1)\n",
    "plt.title(\"Training loss\");"
   ]
  },
  {
   "cell_type": "code",
   "execution_count": 8,
   "id": "7fb0851b-d28b-4f1e-a128-cc6440368bbd",
   "metadata": {},
   "outputs": [],
   "source": [
    "@torch.no_grad() # NEW - Will disable the gradient tracking temproarily - for performance sake\n",
    "def split_loss(split: str):\n",
    "    x, y = {\n",
    "        'train': (Xtrain, ytrain),\n",
    "        'test': (Xtest, ytest),\n",
    "        'val': (Xval, yval)\n",
    "    }[split]\n",
    "    \n",
    "    emb = embeddings[x]\n",
    "    h = torch.tanh(emb.view(-1, block_size * emb_dim) @ W1 + b1)\n",
    "    logits = h @ W2 + b2 \n",
    "    final_loss = cross_entropy(logits, y)\n",
    "    print(split.title(), \":\\t\", round(final_loss.item(), 5))"
   ]
  },
  {
   "cell_type": "code",
   "execution_count": 61,
   "id": "9ac127d2-265e-49fc-9f77-9da425a7771c",
   "metadata": {},
   "outputs": [
    {
     "name": "stdout",
     "output_type": "stream",
     "text": [
      "Train :\t 2.29215\n",
      "Val :\t 2.29813\n",
      "Test :\t 2.29643\n"
     ]
    }
   ],
   "source": [
    "split_loss('train')\n",
    "split_loss('val')\n",
    "split_loss('test')"
   ]
  },
  {
   "cell_type": "markdown",
   "id": "d58cda60-69a1-44d2-b238-2b4e69fb5091",
   "metadata": {},
   "source": [
    "**Okay**, almost the same loss across all sets. Which is pretty cool."
   ]
  },
  {
   "cell_type": "markdown",
   "id": "af904649-859c-41f1-9fe1-b239f7b386f3",
   "metadata": {},
   "source": [
    "### 🎨✨ Sample creation"
   ]
  },
  {
   "cell_type": "code",
   "execution_count": 62,
   "id": "c9ca18d6-5b21-4089-b16d-64c3350d0630",
   "metadata": {},
   "outputs": [],
   "source": [
    "sot = chr_to_number[\"<\"]\n",
    "eot = chr_to_number[\">\"]\n",
    "new_names = []\n",
    "\n",
    "for i in range(20):\n",
    "    new_name = []\n",
    "    window_chars = [0] * block_size\n",
    "    ch_ix = sot\n",
    "    \n",
    "    while ch_ix != eot:\n",
    "        emb = embeddings[window_chars]\n",
    "        h = torch.tanh(emb.view(1, -1) @ W1 + b1)\n",
    "        logits = h @ W2 + b2\n",
    "        probs = softmax(logits, dim=1)\n",
    "        \n",
    "        ch_ix = torch.multinomial(probs, num_samples=1, generator=generator).item()\n",
    "        ch = number_to_chr[ch_ix]\n",
    "        new_name.append(ch)\n",
    "        window_chars = window_chars[1:] + [ch_ix]\n",
    "    \n",
    "    new_names.append(''.join(new_name))"
   ]
  },
  {
   "cell_type": "code",
   "execution_count": 63,
   "id": "9ff19e73-be3e-4326-9e49-ab9e169257c5",
   "metadata": {},
   "outputs": [
    {
     "data": {
      "text/plain": [
       "['eviah>',\n",
       " 'dalis>',\n",
       " 'kaylle>',\n",
       " 'roull>',\n",
       " 'senayab>',\n",
       " 'nivik>',\n",
       " 'klikani>',\n",
       " 'loe>',\n",
       " 'daiaely>',\n",
       " 'hinllilenit>',\n",
       " 'ashawersin>',\n",
       " 'jan>',\n",
       " 'ishet>',\n",
       " 'salleanaralai>',\n",
       " 'neity>',\n",
       " 'anallo>',\n",
       " 'cylerylynda>',\n",
       " 'masi>',\n",
       " 'vadlee>',\n",
       " 'mlli>']"
      ]
     },
     "execution_count": 63,
     "metadata": {},
     "output_type": "execute_result"
    }
   ],
   "source": [
    "new_names"
   ]
  },
  {
   "cell_type": "markdown",
   "id": "24871788-a34e-48d6-a995-045f492c7324",
   "metadata": {},
   "source": [
    "# 🔍🧐 `Scrutinizing-1`: Initialization"
   ]
  },
  {
   "cell_type": "markdown",
   "id": "afd25d7f-12ed-4bcd-9889-20ae25b22d2d",
   "metadata": {},
   "source": [
    "If we look at the loss... first 20 atleast..."
   ]
  },
  {
   "cell_type": "code",
   "execution_count": 65,
   "id": "5804b8b4-a0a0-4b5c-898a-ff6de6b63cbb",
   "metadata": {},
   "outputs": [
    {
     "data": {
      "image/png": "[encoded data removed]",
      "text/plain": [
       "<Figure size 432x288 with 1 Axes>"
      ]
     },
     "metadata": {
      "needs_background": "light"
     },
     "output_type": "display_data"
    }
   ],
   "source": [
    "plt.plot(losses[:50]);"
   ]
  },
  {
   "cell_type": "code",
   "execution_count": 77,
   "id": "83d415f3-598f-4579-8f6f-06111a9eca29",
   "metadata": {},
   "outputs": [
    {
     "data": {
      "text/plain": [
       "[25.012920379638672,\n",
       " 28.34400177001953,\n",
       " 24.55800437927246,\n",
       " 26.175460815429688,\n",
       " 24.053306579589844,\n",
       " 22.821950912475586,\n",
       " 18.218374252319336,\n",
       " 20.508899688720703,\n",
       " 20.453962326049805,\n",
       " 16.42481231689453,\n",
       " 15.086261749267578,\n",
       " 19.887645721435547,\n",
       " 16.090755462646484,\n",
       " 17.011329650878906,\n",
       " 15.167033195495605,\n",
       " 15.956140518188477,\n",
       " 12.308699607849121,\n",
       " 14.528583526611328,\n",
       " 14.87022590637207,\n",
       " 14.885610580444336]"
      ]
     },
     "execution_count": 77,
     "metadata": {},
     "output_type": "execute_result"
    }
   ],
   "source": [
    "losses[:20]"
   ]
  },
  {
   "cell_type": "markdown",
   "id": "c2223336-d794-4544-b757-74c5dbb7f8f5",
   "metadata": {},
   "source": [
    "In our case... the losses aren't declining too rapidly as it did in the Karpathy's video... **but** the concept that needs to be srutinized is the same: **we need to do something** for the weights initialization.\n",
    "\n",
    "- We have some **expected** loss when we start the training\n",
    "\n",
    "Let's say at **the default** initialization when the model **doesn't** know anything about the internal relationships... then **it should ideally** assign the **same** probabilities to all characters.\n",
    "\n",
    "**BUT** assigning the random weights, we are actually making some characters more probable than others."
   ]
  },
  {
   "cell_type": "markdown",
   "id": "b66a86d8-fdae-4341-915c-c7a810861b6d",
   "metadata": {},
   "source": [
    "## 📊 Starting with the uniform distribution "
   ]
  },
  {
   "cell_type": "code",
   "execution_count": 78,
   "id": "9aeb7942-4334-43a9-b057-9343444bb792",
   "metadata": {},
   "outputs": [
    {
     "data": {
      "text/plain": [
       "tensor(3.3322)"
      ]
     },
     "execution_count": 78,
     "metadata": {},
     "output_type": "execute_result"
    }
   ],
   "source": [
    "# \"Expected\" loss when the distribution is uniform (28 since we have 28 characters)\n",
    "-torch.tensor(1 / 28).log()"
   ]
  },
  {
   "cell_type": "markdown",
   "id": "4fe4ad0d-6482-4afe-8bc4-b4934f591d41",
   "metadata": {},
   "source": [
    "That means... in the starting with the *random* weights, we were getting the high loss which could have *easily* brought down to `3.332` without any learning and could speed up the learning!"
   ]
  },
  {
   "cell_type": "markdown",
   "id": "de048ba0-1dfb-41cf-8492-551cf9569984",
   "metadata": {},
   "source": [
    "> 👉 Something to **note** that is: This lecture is more watchable than explainable here. I would highly recommend to just watch that lecture and skip this notebook :)\n",
    "\n",
    "The uniform probability is easily explained and experimented [here - clip](https://youtube.com/clip/UgkxyPXFA3cEXIDWsFixJLfyEr2quhzUG9o6)."
   ]
  },
  {
   "cell_type": "code",
   "execution_count": 79,
   "id": "24925010-14ad-4080-b883-1828a717ef65",
   "metadata": {},
   "outputs": [
    {
     "data": {
      "text/plain": [
       "tensor([0.2500, 0.2500, 0.2500, 0.2500])"
      ]
     },
     "execution_count": 79,
     "metadata": {},
     "output_type": "execute_result"
    }
   ],
   "source": [
    "# We want the \"same numbers\" at the initialization for the logits \n",
    "example_logits = torch.tensor([1., 1., 1., 1.]) #can be any number\n",
    "softmax(example_logits, dim=0)"
   ]
  },
  {
   "cell_type": "code",
   "execution_count": 80,
   "id": "48833987-67b6-47a1-907a-54788d6c6e50",
   "metadata": {},
   "outputs": [
    {
     "data": {
      "text/plain": [
       "tensor([0.2500, 0.2500, 0.2500, 0.2500])"
      ]
     },
     "execution_count": 80,
     "metadata": {},
     "output_type": "execute_result"
    }
   ],
   "source": [
    "# But to keep it symetrical, we will keep it 0.0\n",
    "example_logits = torch.tensor([.0, .0, .0, .0])\n",
    "softmax(example_logits, dim=0)"
   ]
  },
  {
   "cell_type": "markdown",
   "id": "ab14b375-c2b9-4beb-9898-cc1d38fcabed",
   "metadata": {},
   "source": [
    "Now, we need to **make** the weights as `.0` but not `.0`. *(because otherwise we could simply initialize the weight matrix with 0)*"
   ]
  },
  {
   "cell_type": "markdown",
   "id": "c4e45bc2-6916-4f93-b364-d430464d33fa",
   "metadata": {},
   "source": [
    "### ⚖️ Lowering the weights' weight! "
   ]
  },
  {
   "cell_type": "code",
   "execution_count": 151,
   "id": "68ed097a-1000-4cb4-a51b-834ca611fdc5",
   "metadata": {},
   "outputs": [
    {
     "data": {
      "text/plain": [
       "12108"
      ]
     },
     "execution_count": 151,
     "metadata": {},
     "output_type": "execute_result"
    }
   ],
   "source": [
    "generator = torch.Generator().manual_seed(42)\n",
    "embeddings = torch.randn((vocab_size, emb_dim), generator=generator, requires_grad=True)\n",
    "\n",
    "# low number `.01` but not `.0` because they will multiply\n",
    "W1 = torch.randn((block_size * emb_dim, n_neurons), generator=generator)\n",
    "# can be zero `.0` because they will be added\n",
    "b1 = torch.randn(n_neurons, generator=generator)\n",
    "\n",
    "# low number :)\n",
    "W2 = torch.randn((n_neurons, vocab_size), generator=generator) * 0.01\n",
    "# zero :)\n",
    "b2 = torch.randn(vocab_size, generator=generator) * 0.0\n",
    "\n",
    "parameters = [embeddings, W1, b1, W2, b2]\n",
    "\n",
    "for p in parameters: # need to do this time\n",
    "    p.requires_grad = True\n",
    "sum(p.nelement() for p in parameters)"
   ]
  },
  {
   "cell_type": "markdown",
   "id": "2785d2a1-07c0-4bc9-bec2-af8b15439a8a",
   "metadata": {},
   "source": [
    "Why did I use the `requires_grad=True` explicitly here? Please follow my message [on discord](https://discord.com/channels/1020383067459821711/1029849969047375882/1113124250103054346) :)"
   ]
  },
  {
   "cell_type": "code",
   "execution_count": 152,
   "id": "508dcf67-b342-44a1-ae32-c0e9f4809592",
   "metadata": {},
   "outputs": [
    {
     "data": {
      "image/png": "[encoded data removed]",
      "text/plain": [
       "<Figure size 432x288 with 1 Axes>"
      ]
     },
     "metadata": {
      "needs_background": "light"
     },
     "output_type": "display_data"
    }
   ],
   "source": [
    "losses = []\n",
    "batch_size = 32 \n",
    "epochs = 20_000\n",
    "\n",
    "for i in range(epochs):\n",
    "    # Data Sampling (FROM XTRAIN ONLY)\n",
    "    sample_idx = torch.randint(0, Xtrain.shape[0], (batch_size,), generator=generator)\n",
    "    \n",
    "    # 1️⃣ Forward pass\n",
    "    emb = embeddings[Xtrain[sample_idx]] \n",
    "    h = torch.tanh(emb.view(-1, block_size * emb_dim) @ W1 + b1)\n",
    "    logits = h @ W2 + b2 \n",
    "    loss = cross_entropy(logits, ytrain[sample_idx]) \n",
    "    \n",
    "    # 2️⃣ Backward\n",
    "    for p in parameters:\n",
    "        p.grad = None\n",
    "    loss.backward()\n",
    "    \n",
    "    # 3️⃣ Update - with decay\n",
    "    learning_rate = 0.1 if i < 10_000 else 0.01\n",
    "    for p in parameters:\n",
    "        p.data += -learning_rate * p.grad\n",
    "        \n",
    "    losses.append(loss.item()) # for better visualization\n",
    "    \n",
    "plt.plot(losses, lw=0.1)\n",
    "plt.title(\"Training log-loss\");"
   ]
  },
  {
   "cell_type": "code",
   "execution_count": 153,
   "id": "33021cff-c680-4185-83eb-645055df5e4d",
   "metadata": {},
   "outputs": [
    {
     "name": "stdout",
     "output_type": "stream",
     "text": [
      "Train :\t 2.18177\n",
      "Val :\t 2.20259\n",
      "Test :\t 2.20445\n"
     ]
    }
   ],
   "source": [
    "split_loss('train')\n",
    "split_loss('val')\n",
    "split_loss('test')"
   ]
  },
  {
   "cell_type": "markdown",
   "id": "0ecf259b-ca79-47d9-a3e7-d306cfea8862",
   "metadata": {},
   "source": [
    "A great progress! Really, wow!\n",
    "\n",
    "The reason being, the model got **an opportunity** to explore the relationship more even tough the number of epochs are the same!"
   ]
  },
  {
   "cell_type": "markdown",
   "id": "eabfd9a7-b23a-493c-8513-02ea52cf6725",
   "metadata": {},
   "source": [
    "# 🔍🧐 `Scrutinizing-2`: Dead neurons"
   ]
  },
  {
   "cell_type": "markdown",
   "id": "cdd996b9-727a-4378-b001-777f1d6100e7",
   "metadata": {},
   "source": [
    "Suppose we are running the model for only **single** epoch..."
   ]
  },
  {
   "cell_type": "code",
   "execution_count": 10,
   "id": "f6e88f9f-eaf9-4810-a5cc-bebb8780c747",
   "metadata": {},
   "outputs": [],
   "source": [
    "generator = torch.Generator().manual_seed(42)\n",
    "embeddings = torch.randn((vocab_size, emb_dim), generator=generator, requires_grad=True)\n",
    "W1 = torch.randn((block_size * emb_dim, n_neurons), generator=generator)\n",
    "b1 = torch.randn(n_neurons, generator=generator)\n",
    "W2 = torch.randn((n_neurons, vocab_size), generator=generator) * 0.01\n",
    "b2 = torch.randn(vocab_size, generator=generator) * 0.0\n",
    "parameters = [embeddings, W1, b1, W2, b2]\n",
    "\n",
    "for p in parameters:\n",
    "    p.requires_grad = True\n",
    "sum(p.nelement() for p in parameters)\n",
    "\n",
    "# ---\n",
    "batch_size = 32 \n",
    "epochs = 1\n",
    "\n",
    "for i in range(epochs):\n",
    "    sample_idx = torch.randint(0, Xtrain.shape[0], (batch_size,), generator=generator)\n",
    "    \n",
    "    # 1️⃣ Forward pass\n",
    "    emb = embeddings[Xtrain[sample_idx]] \n",
    "    h = torch.tanh(emb.view(-1, block_size * emb_dim) @ W1 + b1)\n",
    "    logits = h @ W2 + b2 \n",
    "    loss = cross_entropy(logits, ytrain[sample_idx]) \n",
    "    \n",
    "    # 2️⃣ Backward\n",
    "    for p in parameters:\n",
    "        p.grad = None\n",
    "    loss.backward()\n",
    "    \n",
    "    # 3️⃣ Update - with decay\n",
    "    learning_rate = 0.1\n",
    "    for p in parameters:\n",
    "        p.data += -learning_rate * p.grad "
   ]
  },
  {
   "cell_type": "code",
   "execution_count": 11,
   "id": "c40e26b7-5f1f-4945-afbe-52c0a143ca5f",
   "metadata": {},
   "outputs": [
    {
     "data": {
      "text/plain": [
       "(torch.Size([32, 200]),\n",
       " tensor([[-1.0000, -0.9225, -0.9999,  ..., -0.9994, -0.9998, -0.9999],\n",
       "         [-0.7315, -0.9894, -1.0000,  ...,  0.9977, -0.0872, -0.9995],\n",
       "         [-1.0000, -0.9336, -1.0000,  ..., -0.8987, -0.9939,  1.0000],\n",
       "         ...,\n",
       "         [-1.0000, -0.8461, -0.9999,  ...,  0.9997, -1.0000, -0.9989],\n",
       "         [-0.3697, -1.0000, -0.8939,  ..., -0.9913, -1.0000,  0.9742],\n",
       "         [-1.0000,  0.9999, -0.9900,  ...,  1.0000, -0.0592, -0.9999]],\n",
       "        grad_fn=<TanhBackward0>))"
      ]
     },
     "execution_count": 11,
     "metadata": {},
     "output_type": "execute_result"
    }
   ],
   "source": [
    "# After the activation is applied... we have these values\n",
    "h.shape, h"
   ]
  },
  {
   "cell_type": "code",
   "execution_count": 12,
   "id": "1114e91e-114f-4524-bef3-efc020735303",
   "metadata": {},
   "outputs": [
    {
     "data": {
      "image/png": "[encoded data removed]",
      "text/plain": [
       "<Figure size 432x288 with 1 Axes>"
      ]
     },
     "metadata": {
      "needs_background": "light"
     },
     "output_type": "display_data"
    }
   ],
   "source": [
    "# Which is...\n",
    "plt.hist(h.view(-1).detach().numpy(), bins=50);"
   ]
  },
  {
   "cell_type": "markdown",
   "id": "8e2caffc-9c62-4a51-8f93-68efea06046c",
   "metadata": {},
   "source": [
    "Recall the `tanh` function..."
   ]
  },
  {
   "cell_type": "markdown",
   "id": "45d0e298-a1bd-4999-b225-6851864a6fdb",
   "metadata": {},
   "source": [
    "<img src=\"./Images/tanh.png\" width=500 height=300>"
   ]
  },
  {
   "cell_type": "markdown",
   "id": "1c01d705-1323-4471-ae47-e9c3f89da264",
   "metadata": {},
   "source": [
    "This means... many of the values **which were too negative** or **too positive** became -1 or 1."
   ]
  },
  {
   "cell_type": "markdown",
   "id": "173ec693-2c2c-4683-bea5-d2427b6124a8",
   "metadata": {},
   "source": [
    "## 😰 Are you sweating?"
   ]
  },
  {
   "cell_type": "markdown",
   "id": "90581fce-de2c-4bc1-ba94-4198d519d965",
   "metadata": {},
   "source": [
    "Some **interpretations** of this `tanh`:\n",
    "1. The `tanh` basically *squashes* the gradient when on the backprop.\n",
    "2. The *effectiveness* of this \"squashing\" is dependent on the `tanh` value which is between -1 and 1.\n",
    "3. **The more** we are on the flat region of `tanh` (-1 or 1), **the more** the gradient will be squashed.\n",
    "4. Only when the `tanh` value is 0 or close to zero, the gradient won't be squashed.\n",
    "\n",
    "Recall the `backward()` function of the `tanh` from **micrograd**:\n",
    "```python\n",
    "def tanh(self):\n",
    "    x = self.data\n",
    "    t = ... # tanh activation calculation\n",
    "        \n",
    "    def _backward():\n",
    "        self.grad += (1 - t**2) * out.grad # this is important - explored below\n",
    "    ...\n",
    "```"
   ]
  },
  {
   "cell_type": "markdown",
   "id": "90e734da-6e3a-4ec2-95c6-15cac9df80ce",
   "metadata": {},
   "source": [
    "👉 Everything works okay until `_backward` is called. It has `self.grad += (1 - t**2) * out.grad`: Which means, if the `t` is close to `abs(1)`, the grad will become closer to 0 (or 0 when `t` is 1).\n",
    "\n",
    "👉 Alternatively, if the `t` is 0, then grad won't be affected.\n",
    "___\n",
    "\n",
    "🤯 Key takeaway:\n",
    "> The point of discussion here is **our neural net has *a lot* of -1 and 1s**, which means many of our gradients are **not learning**! <br> <br> That's why you *should* sweat 💦."
   ]
  },
  {
   "cell_type": "markdown",
   "id": "dc34b86d-948f-473d-88b5-8d738c682d04",
   "metadata": {},
   "source": [
    "### How many of them are there?"
   ]
  },
  {
   "cell_type": "code",
   "execution_count": 23,
   "id": "ce0b28b8-1a8f-47a0-93f1-e8cce94358bd",
   "metadata": {},
   "outputs": [
    {
     "data": {
      "image/png": "[encoded data removed]",
      "text/plain": [
       "<Figure size 1440x720 with 1 Axes>"
      ]
     },
     "metadata": {
      "needs_background": "light"
     },
     "output_type": "display_data"
    }
   ],
   "source": [
    "plt.figure(figsize=(20, 10))\n",
    "plt.imshow(h.abs() > 0.99, cmap=\"gray\", interpolation=\"nearest\")\n",
    "plt.xlabel(\"← tensor of length 200 →\", labelpad=20, fontdict={\"size\":15})\n",
    "plt.ylabel(\"← total 32 tensors →\", labelpad=20, fontdict={\"size\":15});"
   ]
  },
  {
   "cell_type": "markdown",
   "id": "a63384d8-127c-49dc-8c91-419a16c6ee04",
   "metadata": {},
   "source": [
    "**Legend:**\n",
    "\n",
    "⬜ White boxes are `True` (more than abs(0.99)) <br>\n",
    "⬛ Black boxes are `False` (less than abs(0.99))"
   ]
  },
  {
   "cell_type": "markdown",
   "id": "155d6543-15fd-4f1d-beee-5c580460df0c",
   "metadata": {},
   "source": [
    "**📚 Explainer:**\n",
    "\n",
    "Okay, this is the **snapshot** of what has happened once we have passed our first 32 examples to the neural net.\n",
    "- The net had **randomly initialized** weights.\n",
    "- They performed *matmul* operation and *then* applied the elementwise `tanh`.\n",
    "- This is the result.\n",
    "\n",
    "> 👉 This shows, **before** the backward pass, **how many times** - **how many nodes** out of 200 have got the `tanh` value of -1 or 1.\n",
    "\n",
    "- For each 32 examples, different times, each node will get different value because of their different position in the one hot encoding.\n",
    "\n",
    "___\n",
    "☠ ☠ ☠ <br>**So, if there is any single** neuron which has **most of the rows** white, then we can say that that neuron is the **dead neuron**.<br> 💀💀💀"
   ]
  },
  {
   "cell_type": "markdown",
   "id": "1dd51ce8-ef9a-44e8-8caa-38ee7b2707a5",
   "metadata": {},
   "source": [
    "### 🤔🔧 What can be done?\n",
    "\n",
    "1. Change the activation to something **which suffers** less for this issue (leaky ReLU)\n",
    "2. Control **how you initialize** the network.\n",
    "\n",
    "Hmm, the `2nd`  seems to be doable, because initialization is **in our** control."
   ]
  },
  {
   "cell_type": "code",
   "execution_count": 40,
   "id": "b9885dd3-f4c8-42b5-a0f2-dd949c1da701",
   "metadata": {},
   "outputs": [
    {
     "data": {
      "image/png": "[encoded data removed]",
      "text/plain": [
       "<Figure size 432x288 with 1 Axes>"
      ]
     },
     "metadata": {
      "needs_background": "light"
     },
     "output_type": "display_data"
    }
   ],
   "source": [
    "# If you see `without tanhed` values...\n",
    "before_tanh = emb.view(-1, block_size * emb_dim) @ W1 + b1\n",
    "plt.hist(before_tanh.view(-1).detach().numpy(), bins=50);"
   ]
  },
  {
   "cell_type": "markdown",
   "id": "817be444-abe2-4930-85d5-6216d7f3a02a",
   "metadata": {},
   "source": [
    "We can see:\n",
    "1. They are **normally** distributed. \n",
    "2. They have **very** large range... they are like in between -20 to 20, which leads to the values close to -1 and 1."
   ]
  },
  {
   "cell_type": "markdown",
   "id": "23393707-d8d8-4a3f-9bee-712fa309ee1a",
   "metadata": {},
   "source": [
    "## Just make the weights smaller!\n",
    "\n",
    "Since we are dealing with the spread of the initialized weights, we can \"squash\" them near to 0."
   ]
  },
  {
   "cell_type": "code",
   "execution_count": 13,
   "id": "cb95eec5-1ce6-4d39-a842-475aaec307da",
   "metadata": {},
   "outputs": [],
   "source": [
    "generator = torch.Generator().manual_seed(42)\n",
    "embeddings = torch.randn((vocab_size, emb_dim), generator=generator, requires_grad=True)\n",
    "\n",
    "W1 = torch.randn((block_size * emb_dim, n_neurons), generator=generator) * 0.01 ### ADDED HERE ###\n",
    "b1 = torch.randn(n_neurons, generator=generator) * 0.0 ### HERE TOO ###\n",
    "W2 = torch.randn((n_neurons, vocab_size), generator=generator) * 0.01\n",
    "b2 = torch.randn(vocab_size, generator=generator) * 0.0\n",
    "parameters = [embeddings, W1, b1, W2, b2]\n",
    "\n",
    "for p in parameters:\n",
    "    p.requires_grad = True\n",
    "sum(p.nelement() for p in parameters)\n",
    "\n",
    "# ---\n",
    "batch_size = 32 \n",
    "epochs = 1\n",
    "\n",
    "for i in range(epochs):\n",
    "    sample_idx = torch.randint(0, Xtrain.shape[0], (batch_size,), generator=generator)\n",
    "    \n",
    "    # 1️⃣ Forward pass\n",
    "    emb = embeddings[Xtrain[sample_idx]] \n",
    "    h = torch.tanh(emb.view(-1, block_size * emb_dim) @ W1 + b1)\n",
    "    logits = h @ W2 + b2 \n",
    "    loss = cross_entropy(logits, ytrain[sample_idx]) \n",
    "    \n",
    "    # 2️⃣ Backward\n",
    "    for p in parameters:\n",
    "        p.grad = None\n",
    "    loss.backward()\n",
    "    \n",
    "    # 3️⃣ Update - with decay\n",
    "    learning_rate = 0.1\n",
    "    for p in parameters:\n",
    "        p.data += -learning_rate * p.grad "
   ]
  },
  {
   "cell_type": "code",
   "execution_count": 14,
   "id": "8ac43e09-0a9d-49fa-b7c9-e7bf066b00db",
   "metadata": {},
   "outputs": [
    {
     "data": {
      "image/png": "[encoded data removed]",
      "text/plain": [
       "<Figure size 432x288 with 1 Axes>"
      ]
     },
     "metadata": {
      "needs_background": "light"
     },
     "output_type": "display_data"
    }
   ],
   "source": [
    "# Which is...\n",
    "plt.hist(h.view(-1).detach().numpy(), bins=50);"
   ]
  },
  {
   "cell_type": "code",
   "execution_count": 15,
   "id": "7f8028b2-2302-482b-bd78-0703ee265b18",
   "metadata": {},
   "outputs": [
    {
     "data": {
      "image/png": "[encoded data removed]",
      "text/plain": [
       "<Figure size 1440x720 with 1 Axes>"
      ]
     },
     "metadata": {
      "needs_background": "light"
     },
     "output_type": "display_data"
    }
   ],
   "source": [
    "plt.figure(figsize=(20, 10))\n",
    "plt.imshow(h.abs() > 0.99, cmap=\"gray\", interpolation=\"nearest\")\n",
    "plt.xlabel(\"← tensor of length 200 →\", labelpad=20, fontdict={\"size\":15})\n",
    "plt.ylabel(\"← total 32 tensors →\", labelpad=20, fontdict={\"size\":15});"
   ]
  },
  {
   "cell_type": "markdown",
   "id": "4b5fcbf6-9a59-4df7-b94e-a60db6429f6f",
   "metadata": {},
   "source": [
    "😲 Oh man! No more the dead neuron problem!"
   ]
  },
  {
   "cell_type": "markdown",
   "id": "1779c91a-bd78-4011-8313-4d496ef3e8f4",
   "metadata": {},
   "source": [
    "## Full Training."
   ]
  },
  {
   "cell_type": "code",
   "execution_count": 23,
   "id": "27ac118d-4992-41c5-991e-91654da676d1",
   "metadata": {},
   "outputs": [
    {
     "data": {
      "image/png": "[encoded data removed]",
      "text/plain": [
       "<Figure size 432x288 with 1 Axes>"
      ]
     },
     "metadata": {
      "needs_background": "light"
     },
     "output_type": "display_data"
    }
   ],
   "source": [
    "generator = torch.Generator().manual_seed(42)\n",
    "embeddings = torch.randn((vocab_size, emb_dim), generator=generator, requires_grad=True)\n",
    "\n",
    "W1 = torch.randn((block_size * emb_dim, n_neurons), generator=generator) * 0.01\n",
    "b1 = torch.randn(n_neurons, generator=generator) * 0.0\n",
    "W2 = torch.randn((n_neurons, vocab_size), generator=generator) * 0.01\n",
    "b2 = torch.randn(vocab_size, generator=generator) * 0.0\n",
    "parameters = [embeddings, W1, b1, W2, b2]\n",
    "\n",
    "for p in parameters: # need to do this time\n",
    "    p.requires_grad = True\n",
    "sum(p.nelement() for p in parameters)\n",
    "\n",
    "\n",
    "losses = []\n",
    "batch_size = 32 \n",
    "epochs = 20_000\n",
    "\n",
    "for i in range(epochs):\n",
    "    # Data Sampling (FROM XTRAIN ONLY)\n",
    "    sample_idx = torch.randint(0, Xtrain.shape[0], (batch_size,), generator=generator)\n",
    "    \n",
    "    # 1️⃣ Forward pass\n",
    "    emb = embeddings[Xtrain[sample_idx]] \n",
    "    h = torch.tanh(emb.view(-1, block_size * emb_dim) @ W1 + b1)\n",
    "    logits = h @ W2 + b2 \n",
    "    loss = cross_entropy(logits, ytrain[sample_idx]) \n",
    "    \n",
    "    # 2️⃣ Backward\n",
    "    for p in parameters:\n",
    "        p.grad = None\n",
    "    loss.backward()\n",
    "    \n",
    "    # 3️⃣ Update - with decay\n",
    "    learning_rate = 0.1 if i < 10_000 else 0.01\n",
    "    for p in parameters:\n",
    "        p.data += -learning_rate * p.grad\n",
    "        \n",
    "    losses.append(loss.item()) # for better visualization\n",
    "    \n",
    "plt.plot(losses, lw=0.1)\n",
    "plt.title(\"Training log-loss\");"
   ]
  },
  {
   "cell_type": "code",
   "execution_count": 24,
   "id": "0bb340aa-1d9b-49d1-9237-1e3f867e34b7",
   "metadata": {},
   "outputs": [
    {
     "name": "stdout",
     "output_type": "stream",
     "text": [
      "Train :\t 2.16281\n",
      "Val :\t 2.17577\n",
      "Test :\t 2.17581\n"
     ]
    }
   ],
   "source": [
    "split_loss('train')\n",
    "split_loss('val')\n",
    "split_loss('test')"
   ]
  },
  {
   "cell_type": "markdown",
   "id": "6841b32c-dfc2-4734-b8fb-297a01af7626",
   "metadata": {},
   "source": [
    "This is improved... hmmm..\n",
    "\n",
    "🔑 **Key takeaways**:\n",
    "- When working with **deeper** networks we need to be careful of these things\n",
    "- Take care how do you initialize the weights - the uniform weights \n",
    "- See if you are getting the **dead neurons** because of the initialization"
   ]
  },
  {
   "cell_type": "markdown",
   "id": "5be2dfe9-4769-4df0-a036-02efb517a681",
   "metadata": {},
   "source": [
    "# 🔢 No Magic Numbers (NMN)\n",
    "\n",
    "So the NMN is:\n",
    "> *The No Magic Numbers concept (NMN), introduces an approach to problem-solving and programming. By advocating against the use of arbitrary constants, NMN emphasizes the importance of creating flexible and adaptable solutions. It encourages developers to replace hardcoded values with variables or configurable settings, promoting clarity, maintainability, and scalability in software development. NMN serves as a testament to the ingenuity and forward-thinking mindset of its creator, revolutionizing the way we approach and address challenges in the world of programming.*\n",
    "\n",
    "Of course I came up with the short form, and the definition above is written by ChatGPT 😜\n",
    "___\n",
    "\n",
    "So, there are the *\"squashing\"* numbers like `0.01` and `0.0` so on, which will impact on the model's learning. <br>How do we know what to set? <br>Also when we have like 40 hidden layers!\n",
    "\n",
    "For this, we will need to work with **some initialization standards**. And we will look at the most common one **\"Kiming Initialization\"**.\n",
    "\n",
    "*(read below)*\n"
   ]
  },
  {
   "cell_type": "markdown",
   "id": "4778172e-3db9-4f9a-b55f-7517e6942e73",
   "metadata": {},
   "source": [
    "# 👥 The theory of \"Behaving Well\"."
   ]
  },
  {
   "cell_type": "markdown",
   "id": "0775c39c-18f7-4309-982d-71e834edf2aa",
   "metadata": {},
   "source": [
    "**The problem**:\n",
    "- Once we have initialized weights then we **don't have any control**.\n",
    "- The weights can get a **hell lot smaller** or **way too larger** during the training.\n",
    "\n",
    "But according to the paper written by \"Kiming\" he states, that if we *follow a standard* approach and control the initialization, then the **forward pass** will *behave* as expected and also the backward pass."
   ]
  },
  {
   "cell_type": "markdown",
   "id": "6c76062f-52e0-42d8-8cff-7dfc267c168d",
   "metadata": {},
   "source": [
    "### An intuition *(quick)*"
   ]
  },
  {
   "cell_type": "code",
   "execution_count": 65,
   "id": "b61cf159-42be-4f66-882a-7a3862d3bc0e",
   "metadata": {},
   "outputs": [],
   "source": [
    "# Suppose this is our input - just the raw data\n",
    "x = torch.randn(1000, 10)\n",
    "\n",
    "# This is the weights - also random from normal dist\n",
    "w = torch.randn(10, 100) # 10 inputs, 100 outputs\n",
    "\n",
    "# We do a forward pass ~ aka matrix multiplication\n",
    "preact = x @ w # not using `b` bias for now for simplicity"
   ]
  },
  {
   "cell_type": "code",
   "execution_count": 64,
   "id": "96fb2eed-8cb3-4159-b012-5d1106d14a1b",
   "metadata": {},
   "outputs": [],
   "source": [
    "def plot(x, preact, suptitle):\n",
    "    fig, axes = plt.subplots(1, 2, figsize=(10, 5))\n",
    "    axes[0].hist(x.view(-1).tolist(), bins=100)\n",
    "    axes[0].set_title(f\"x: mean={x.mean():.4f} | std={x.std():.4f}\")\n",
    "\n",
    "    axes[1].hist(preact.view(-1).tolist(), bins=100)\n",
    "    axes[1].set_title(f\"preact: mean={preact.mean():.4f} | std={preact.std():.4f}\")\n",
    "\n",
    "    fig.suptitle(suptitle, y=1.1, fontsize=15);"
   ]
  },
  {
   "cell_type": "code",
   "execution_count": 66,
   "id": "b45df0a6-3579-4888-ad9a-72c3e3600829",
   "metadata": {},
   "outputs": [
    {
     "data": {
      "image/png": "[encoded data removed]",
      "text/plain": [
       "<Figure size 720x360 with 2 Axes>"
      ]
     },
     "metadata": {
      "needs_background": "light"
     },
     "output_type": "display_data"
    }
   ],
   "source": [
    "plot(x, preact, 'Note with simple matmul the `preact` has\\ndifferent std than the original `x`')"
   ]
  },
  {
   "cell_type": "code",
   "execution_count": 67,
   "id": "b02f95c3-33eb-40da-8ef8-f49745d4c782",
   "metadata": {},
   "outputs": [
    {
     "data": {
      "image/png": "[encoded data removed]",
      "text/plain": [
       "<Figure size 720x360 with 2 Axes>"
      ]
     },
     "metadata": {
      "needs_background": "light"
     },
     "output_type": "display_data"
    }
   ],
   "source": [
    "x = torch.randn(1000, 10)\n",
    "w = torch.randn(10, 100) * 0.2 ### Multiply with some number ###\n",
    "preact = x @ w\n",
    "\n",
    "plot(x, preact, 'Note with a value <1, `preact` has smaller std')"
   ]
  },
  {
   "cell_type": "markdown",
   "id": "10eb5813-4161-4a42-8d3a-1054f73a7ecb",
   "metadata": {},
   "source": [
    "👉 That means, what we have seen so far (in the network architecture as well...) **the multiplication matters.** And here is the **method** to set it properly **that is matches the distribution of the source** here `x`.\n",
    "\n",
    "> And that's where the **Kiming Initialization** comes into the picture."
   ]
  },
  {
   "cell_type": "markdown",
   "id": "4b290376-85d3-4566-87e7-6d7e33e8301f",
   "metadata": {},
   "source": [
    "# 🌱 Kiming Initialization\n",
    "\n",
    "Which is **multiply the weights by $\\frac{1}{ \\sqrt{fan_n}}$**, where $fan_n$ is the number of inputs ~ here 10."
   ]
  },
  {
   "cell_type": "code",
   "execution_count": 68,
   "id": "ba22c825-11d6-4652-a366-06955bfec71f",
   "metadata": {},
   "outputs": [
    {
     "data": {
      "image/png": "[encoded data removed]",
      "text/plain": [
       "<Figure size 720x360 with 2 Axes>"
      ]
     },
     "metadata": {
      "needs_background": "light"
     },
     "output_type": "display_data"
    }
   ],
   "source": [
    "x = torch.randn(1000, 10)\n",
    "w = torch.randn(10, 100) / np.sqrt(10)\n",
    "preact = x @ w\n",
    "\n",
    "plot(x, preact, 'See how the std matches?')"
   ]
  },
  {
   "cell_type": "markdown",
   "id": "7d8bbed9-5993-4e6d-b41e-79533f6ba9e0",
   "metadata": {},
   "source": [
    "▶ **But**... it can also be **personalized** for the type of activation that you are using.\n",
    "\n",
    "Which means, $\\frac{1}{ \\sqrt{fan_n}}$ is the general function in which the \"numerator\" is `1` & is used for:\n",
    "- Linear activation\n",
    "- Conv\n",
    "- Sigmoid\n",
    "\n",
    "Activations. But if you have other activations like:\n",
    "- tanh *(as we do here)*\n",
    "- ReLU\n",
    "- Leaky ReLU\n",
    "- SELU \n",
    "\n",
    "... we can change **the numerator** respectively. And the table to do that is:\n",
    "\n",
    "<img src=\"./Images/gains.png\" height=500 width=300>"
   ]
  },
  {
   "cell_type": "markdown",
   "id": "cfde4a04-c023-4667-87aa-17a6c613599d",
   "metadata": {},
   "source": [
    "## 👍😊 Hey! That's okay, let's not worry!\n",
    "Since we are **using the simplest** version of optimization \"gradient descent\", we might have to tune these initialization properly... but there are many other optimizations & techniques available like:\n",
    "- *residual connections*\n",
    "- *batch normalizations*, *layer normalizations*, *group normalizations*\n",
    "- *RMS prop*, *adam*\n",
    "\n",
    "etc.\n",
    "\n",
    "Which are pretty advanced and we don't need to keep track of the distributions of the activations and which to apply. "
   ]
  },
  {
   "cell_type": "code",
   "execution_count": 73,
   "id": "2f4a3838-5eb9-4c66-82ab-8cea3ca58364",
   "metadata": {},
   "outputs": [
    {
     "data": {
      "text/plain": [
       "tensor(0.2997)"
      ]
     },
     "execution_count": 73,
     "metadata": {},
     "output_type": "execute_result"
    }
   ],
   "source": [
    "(torch.randn(1000, 34) * 0.3).std()"
   ]
  },
  {
   "cell_type": "markdown",
   "id": "b13401c3-55a7-40e0-9885-2bbe74c74b24",
   "metadata": {},
   "source": [
    "### 😉 Making changes accordingly, a dynamic approach"
   ]
  },
  {
   "cell_type": "code",
   "execution_count": 32,
   "id": "13bf27b2-71c1-4a62-a19f-b4351c5c6325",
   "metadata": {},
   "outputs": [
    {
     "data": {
      "text/plain": [
       "12108"
      ]
     },
     "execution_count": 32,
     "metadata": {},
     "output_type": "execute_result"
    }
   ],
   "source": [
    "generator = torch.Generator().manual_seed(42)\n",
    "embeddings = torch.randn((vocab_size, emb_dim), generator=generator, requires_grad=True)\n",
    "\n",
    "# The line below - since we are using the `tanh` we will use 5/3 as a gain\n",
    "W1 = torch.randn((block_size * emb_dim, n_neurons), generator=generator) * (5/3) / np.sqrt(block_size * emb_dim)\n",
    "b1 = torch.randn(n_neurons, generator=generator) * 0.0\n",
    "\n",
    "W2 = torch.randn((n_neurons, vocab_size), generator=generator) * 0.01\n",
    "b2 = torch.randn(vocab_size, generator=generator) * 0.0\n",
    "parameters = [embeddings, W1, b1, W2, b2]\n",
    "\n",
    "for p in parameters: # need to do this time\n",
    "    p.requires_grad = True\n",
    "sum(p.nelement() for p in parameters)"
   ]
  },
  {
   "cell_type": "code",
   "execution_count": 12,
   "id": "c20b5d30-bf90-45d3-95db-dbda2ac10e1f",
   "metadata": {},
   "outputs": [
    {
     "data": {
      "image/png": "[encoded data removed]",
      "text/plain": [
       "<Figure size 432x288 with 1 Axes>"
      ]
     },
     "metadata": {
      "needs_background": "light"
     },
     "output_type": "display_data"
    }
   ],
   "source": [
    "losses = []\n",
    "batch_size = 32 \n",
    "epochs = 20_000\n",
    "\n",
    "for i in range(epochs):\n",
    "    # Data Sampling (FROM XTRAIN ONLY)\n",
    "    sample_idx = torch.randint(0, Xtrain.shape[0], (batch_size,), generator=generator)\n",
    "    \n",
    "    # 1️⃣ Forward pass\n",
    "    emb = embeddings[Xtrain[sample_idx]] \n",
    "    h = torch.tanh(emb.view(-1, block_size * emb_dim) @ W1 + b1)\n",
    "    logits = h @ W2 + b2 \n",
    "    loss = cross_entropy(logits, ytrain[sample_idx]) \n",
    "    \n",
    "    # 2️⃣ Backward\n",
    "    for p in parameters:\n",
    "        p.grad = None\n",
    "    loss.backward()\n",
    "    \n",
    "    # 3️⃣ Update - with decay\n",
    "    learning_rate = 0.1 if i < 10_000 else 0.01\n",
    "    for p in parameters:\n",
    "        p.data += -learning_rate * p.grad\n",
    "        \n",
    "    losses.append(loss.item()) # for better visualization\n",
    "    \n",
    "plt.plot(losses, lw=0.1)\n",
    "plt.title(\"Training log-loss\");"
   ]
  },
  {
   "cell_type": "code",
   "execution_count": 15,
   "id": "86ab9502-4a9d-481b-8d51-a574512d24a3",
   "metadata": {},
   "outputs": [
    {
     "name": "stdout",
     "output_type": "stream",
     "text": [
      "Train :\t 2.15643\n",
      "Val :\t 2.17617\n",
      "Test :\t 2.17339\n"
     ]
    }
   ],
   "source": [
    "split_loss('train')\n",
    "split_loss('val')\n",
    "split_loss('test')"
   ]
  },
  {
   "cell_type": "markdown",
   "id": "768839d8-8b16-404e-9b94-54bc1025d7af",
   "metadata": {},
   "source": [
    "# 📏 Batch Normalization"
   ]
  },
  {
   "cell_type": "markdown",
   "id": "5fcaaf42-1266-4c99-ab55-cd323d50ac98",
   "metadata": {},
   "source": [
    "We actually want the `preact` to follow the **normal distribution** ~ roughly, because:\n",
    "- Too large values, sparse values will lead to the scrutinization 2 issue, dead neurons\n",
    "- Too small values will pass the gradient through, as seen before... tanh becomes in-effective.\n",
    "\n",
    "We will **convert** them to the standard normal distribution! With mean `0` and std `1`.\n",
    "<br>Same old school formulae: $\\frac{x - \\mu}{\\sigma}$"
   ]
  },
  {
   "cell_type": "markdown",
   "id": "4b761896-ca2b-41d0-8eeb-f41c8881b51e",
   "metadata": {},
   "source": [
    "### The normalization steps"
   ]
  },
  {
   "cell_type": "markdown",
   "id": "32645bf1-b115-41a1-beb8-8785b2dae258",
   "metadata": {},
   "source": [
    "<img src=\"./Images/normalization.png\" width=300 height=400>\n",
    "\n",
    "👉 The 4th step will be covered a *bit* later."
   ]
  },
  {
   "cell_type": "markdown",
   "id": "0427953f-cce1-4ee1-a75e-d33a7a5d3f28",
   "metadata": {},
   "source": [
    "### Calculating hypothetically"
   ]
  },
  {
   "cell_type": "code",
   "execution_count": 29,
   "id": "1d18e4b4-cd54-4ebe-ac78-8e9308883f63",
   "metadata": {},
   "outputs": [],
   "source": [
    "x = torch.randn(1000, 10)\n",
    "w = torch.randn(10, 100) / np.sqrt(10)\n",
    "preact = x @ w\n",
    "mean = preact.mean(0, keepdim=True)\n",
    "std = preact.std(0, keepdim=True)"
   ]
  },
  {
   "cell_type": "code",
   "execution_count": 30,
   "id": "00b53b2d-f666-495e-a37e-49b8730b5df1",
   "metadata": {},
   "outputs": [
    {
     "name": "stdout",
     "output_type": "stream",
     "text": [
      "The shape of examples @ weights: torch.Size([1000, 100])\n",
      "Shape of each example's mean: torch.Size([1, 100])\n",
      "Shape of each example's std: torch.Size([1, 100])\n"
     ]
    }
   ],
   "source": [
    "print(\"The shape of examples @ weights:\", preact.shape)\n",
    "print(\"Shape of each example's mean:\", mean.shape)\n",
    "print(\"Shape of each example's std:\", std.shape)"
   ]
  },
  {
   "cell_type": "markdown",
   "id": "afea91cc-a23e-4d78-901b-94e2fe5a6c03",
   "metadata": {},
   "source": [
    "That simply means, we have **mean** and **std** for each example in the batch once they have been matmuled with weights."
   ]
  },
  {
   "cell_type": "markdown",
   "id": "9b3ff4ff-6b58-4cc1-9595-6fe2f555d7df",
   "metadata": {},
   "source": [
    "### Changing the training code for for it "
   ]
  },
  {
   "cell_type": "markdown",
   "id": "70baf585-e405-4592-bc40-5c4fef7ffd99",
   "metadata": {},
   "source": [
    "```python\n",
    "for i in range(epochs):\n",
    "    # Omitted code ...\n",
    "    \n",
    "    # 1️⃣ Forward pass\n",
    "    emb = embeddings[Xtrain[sample_idx]] \n",
    "    preact = emb.view(-1, block_size * emb_dim) @ W1 + b1 # seperated\n",
    "    preact_mean = preact.mean(0, keepdim=True)   # preact mean\n",
    "    preact_std = preact.std(0, keepdim=True)     # preact std\n",
    "    preact = (preact - preact_mean) / preact_std # standardzation\n",
    "    \n",
    "    h = torch.tanh(preact)\n",
    "    logits = h @ W2 + b2 \n",
    "    loss = cross_entropy(logits, ytrain[sample_idx]) \n",
    "    \n",
    "    # Omitted code ...\n",
    "```\n",
    "\n",
    "Great, still we will need to **perform the 4th step** the **scale and shift**. Because:\n",
    "- Repeating this same code **for each** batch will force the weights **to be gaussian** all the time\n",
    "- We don't want to strict it. \n",
    "- We want it to **change shapes** and learn and not just be centered around `0` with std `1` all the time!\n",
    "\n",
    "*hence the 4th step 😉*."
   ]
  },
  {
   "cell_type": "markdown",
   "id": "4e61f755-7883-4bd5-aa4d-34c1b91743f6",
   "metadata": {},
   "source": [
    "#### Scale and shift\n",
    "\n",
    "1. Take the normalized inputs\n",
    "2. **Multiply** it with some number (so the scaling)\n",
    "3. **Add** it with some number (so the shifting)\n",
    "\n",
    "Now, the weights can move around and will be \"well behaved\"! \n",
    "\n",
    "> 📝 <br>**NOTE**: The scaling and shifting **will be initially 1 and 0** respectively. They will be also learnt from the training and get updated accordingly."
   ]
  },
  {
   "cell_type": "markdown",
   "id": "32afcf08-afd5-4e20-8c23-f4cfc6918ddf",
   "metadata": {},
   "source": [
    "### The updated code"
   ]
  },
  {
   "cell_type": "markdown",
   "id": "166eb4db-0366-45d4-a7cf-b846d11f63d9",
   "metadata": {},
   "source": [
    "Initialization weights + bias\n",
    "\n",
    "```python\n",
    "# Omitted code ...\n",
    "## Initializing the scaling and shifting parameters\n",
    "scaler = torch.ones(1, n_hidden)\n",
    "shifter = torch.zeros(1, n_hidden)\n",
    "\n",
    "parameters = [embeddings, W1, b1, W2, b2, scaler, shifter]\n",
    "# Omitted code... \n",
    "\n",
    "## And in training\n",
    "for i in range(epochs):\n",
    "    # Omitted code ...\n",
    "    \n",
    "    # 1️⃣ Forward pass\n",
    "    emb = embeddings[Xtrain[sample_idx]] \n",
    "    preact = emb.view(-1, block_size * emb_dim) @ W1 + b1 # seperated\n",
    "    preact_mean = preact.mean(0, keepdim=True)   # preact mean\n",
    "    preact_std = preact.std(0, keepdim=True)     # preact std\n",
    "    preact = (preact - preact_mean) / preact_std # standardzation\n",
    "    preact = (scaler * preact) + shifter         # scaling and shifting\n",
    "    \n",
    "    h = torch.tanh(preact)\n",
    "    logits = h @ W2 + b2 \n",
    "    loss = cross_entropy(logits, ytrain[sample_idx]) \n",
    "    \n",
    "    # Omitted code ...\n",
    "```"
   ]
  },
  {
   "cell_type": "markdown",
   "id": "1655f9a4-44f2-4056-9e1d-334ceefe1f13",
   "metadata": {},
   "source": [
    "### Let's try with that. "
   ]
  },
  {
   "cell_type": "code",
   "execution_count": 38,
   "id": "befb51ce-c5e4-45fe-9e63-3894aa1d6168",
   "metadata": {},
   "outputs": [
    {
     "data": {
      "text/plain": [
       "12508"
      ]
     },
     "execution_count": 38,
     "metadata": {},
     "output_type": "execute_result"
    }
   ],
   "source": [
    "generator = torch.Generator().manual_seed(42)\n",
    "embeddings = torch.randn((vocab_size, emb_dim), generator=generator, requires_grad=True)\n",
    "\n",
    "# The line below - since we are using the `tanh` we will use 5/3 as a gain\n",
    "W1 = torch.randn((block_size * emb_dim, n_neurons), generator=generator) * (5/3) / np.sqrt(block_size * emb_dim)\n",
    "b1 = torch.randn(n_neurons, generator=generator) * 0.0\n",
    "\n",
    "W2 = torch.randn((n_neurons, vocab_size), generator=generator) * 0.01\n",
    "b2 = torch.randn(vocab_size, generator=generator) * 0.0\n",
    "\n",
    "## Initializing the scaling and shifting parameters\n",
    "scaler = torch.ones(1, n_neurons)\n",
    "shifter = torch.zeros(1, n_neurons)\n",
    "\n",
    "parameters = [embeddings, W1, b1, W2, b2, scaler, shifter]\n",
    "\n",
    "for p in parameters: # need to do this time\n",
    "    p.requires_grad = True\n",
    "sum(p.nelement() for p in parameters)"
   ]
  },
  {
   "cell_type": "code",
   "execution_count": 39,
   "id": "4e89c3e9-0c2e-4434-8813-77c535a993b8",
   "metadata": {},
   "outputs": [
    {
     "data": {
      "image/png": "[encoded data removed]",
      "text/plain": [
       "<Figure size 432x288 with 1 Axes>"
      ]
     },
     "metadata": {
      "needs_background": "light"
     },
     "output_type": "display_data"
    }
   ],
   "source": [
    "losses = []\n",
    "batch_size = 32 \n",
    "epochs = 20_000\n",
    "\n",
    "for i in range(epochs):\n",
    "    # Data Sampling (FROM XTRAIN ONLY)\n",
    "    sample_idx = torch.randint(0, Xtrain.shape[0], (batch_size,), generator=generator)\n",
    "    \n",
    "    # 1️⃣ Forward pass\n",
    "    emb = embeddings[Xtrain[sample_idx]] \n",
    "    preact = emb.view(-1, block_size * emb_dim) @ W1 + b1 # seperated\n",
    "    preact_mean = preact.mean(0, keepdim=True)   # preact mean\n",
    "    preact_std = preact.std(0, keepdim=True)     # preact std\n",
    "    preact = (preact - preact_mean) / preact_std # standardzation\n",
    "    preact = (scaler * preact) + shifter         # scaling and shifting\n",
    "    \n",
    "    h = torch.tanh(preact)\n",
    "    logits = h @ W2 + b2 \n",
    "    loss = cross_entropy(logits, ytrain[sample_idx]) \n",
    "    \n",
    "    # 2️⃣ Backward\n",
    "    for p in parameters:\n",
    "        p.grad = None\n",
    "    loss.backward()\n",
    "    \n",
    "    # 3️⃣ Update - with decay\n",
    "    learning_rate = 0.1 if i < 10_000 else 0.01\n",
    "    for p in parameters:\n",
    "        p.data += -learning_rate * p.grad\n",
    "        \n",
    "    losses.append(loss.item()) # for better visualization\n",
    "    \n",
    "plt.plot(losses, lw=0.1)\n",
    "plt.title(\"Training log-loss\");"
   ]
  },
  {
   "cell_type": "code",
   "execution_count": 41,
   "id": "acd06ebc-b313-4558-9748-fcf2648d087e",
   "metadata": {},
   "outputs": [],
   "source": [
    "# UPDATED THE CODE FOR THIS BATCH-NORMALIZATION\n",
    "@torch.no_grad()\n",
    "def split_loss(split: str):\n",
    "    x, y = {\n",
    "        'train': (Xtrain, ytrain),\n",
    "        'test': (Xtest, ytest),\n",
    "        'val': (Xval, yval)\n",
    "    }[split]\n",
    "    \n",
    "    emb = embeddings[x]\n",
    "    preact = emb.view(-1, block_size * emb_dim) @ W1 + b1 # seperated\n",
    "    preact_mean = preact.mean(0, keepdim=True)   # preact mean\n",
    "    preact_std = preact.std(0, keepdim=True)     # preact std\n",
    "    preact = (preact - preact_mean) / preact_std # standardzation\n",
    "    preact = (scaler * preact) + shifter         # scaling and shifting\n",
    "    h = torch.tanh(preact)\n",
    "    logits = h @ W2 + b2 \n",
    "    final_loss = cross_entropy(logits, y)\n",
    "    print(split.title(), \":\\t\", round(final_loss.item(), 5))"
   ]
  },
  {
   "cell_type": "code",
   "execution_count": 42,
   "id": "499b689f-98d0-4364-b11b-e2124bc646ff",
   "metadata": {},
   "outputs": [
    {
     "name": "stdout",
     "output_type": "stream",
     "text": [
      "Train :\t 2.19336\n",
      "Val :\t 2.20443\n",
      "Test :\t 2.20239\n"
     ]
    }
   ],
   "source": [
    "split_loss('train')\n",
    "split_loss('val')\n",
    "split_loss('test')"
   ]
  },
  {
   "cell_type": "markdown",
   "id": "625e1214-50b2-4b20-9f95-0b6443cbd029",
   "metadata": {},
   "source": [
    "oKAY!"
   ]
  },
  {
   "cell_type": "markdown",
   "id": "8a8635e8-c394-4b22-87df-6a8d9f2794b2",
   "metadata": {},
   "source": [
    "# 📚🔼 Many things have stacked up here!\n",
    "Let me **revise** what we have added since the **vanilla** training.\n",
    "\n",
    "- **`Change - 1`** : Made the weights distribution uniform. Multiplied by `0.01` so that we can *expect* some low loss beforehand.\n",
    "- **`Change - 2`** : Made the layer weights smaller like zero so that the \"distribution\" of the weights i not *so wide* and `tanh` doesn't make any neuron *dead*.\n",
    "- **`Change - 3`** : Can't have the \"magic numbers\" inside! Calculated the `0.01` like penalizing numbers dynamic. \n",
    "- **`Change - 4`** : Perserving the distribution, used the normalization + scaling & shifting \n",
    "\n",
    "Woof! That was a lot 💦 "
   ]
  },
  {
   "cell_type": "markdown",
   "id": "127972b8-d028-404a-8d67-88336c68ccca",
   "metadata": {},
   "source": [
    "# ⚠️🔧 An Issue?\n",
    "Andrej always explains things in much more concise and accurately than I could every do, so please watch [this 2 minutes clip](https://youtube.com/clip/UgkxZmWL6HSDdI5geWU6bFuD16ENahADcpWV) to understand why we have an issue with the Batch Normalization.\n",
    "\n",
    "**Clip - summary**:\n",
    "- Batch normalization means we take some `n` examples and calculated the loss\n",
    "- Which introduces to perform mean and std across these examples and loss is calculated on that\n",
    "- The examples are random then they will impact each other\n",
    "- **But** is a good thing because it prevents the model to overfit, acts **as a** regularization.\n",
    "\n",
    "> 🧩 So the problem is, **this regularization** effect **is not removable** when we are using this batch normalization, and that's why this is the problem and there are **other methods** like:\n",
    "> - *Layer normalization* \n",
    "> - *Instance normalization*\n",
    "> - *Group normalization*\n",
    "> <br> etc... which **don't** couple the examples together so their effect is not counted across all individuals.\n"
   ]
  },
  {
   "cell_type": "markdown",
   "id": "86671a51-cdd0-4c06-833d-3b3173303d2f",
   "metadata": {},
   "source": [
    "### Which introduces many bugs, but some of them are...\n",
    "1. The **bias** is subtracted because of the \"standardization\" calculation. So, that can be turned off.\n",
    "2. Need to keep track of the **std** and **mean** while training because otherwise it will require to have examples in batch in the inference time.\n",
    "\n",
    "And more bugs counting because of the coupling of the examples together. \n",
    "\n",
    "And here is what Andrej recommends:\n",
    "> *Don't use BatchNorm as possible as you can because of these bugs and problems that it introduces, instead use other normalization techniques* <br> — Andrej"
   ]
  },
  {
   "cell_type": "markdown",
   "id": "5ac9ab22-b364-4873-9e24-20887572c3bf",
   "metadata": {},
   "source": [
    "# That's really enough for this notebook.\n",
    "Let's catch up in the second book where we will continue our discussion on \"how to write the model in **pytorch**\". Here, whatever we have presented *(including the matmul)* are all individual pieces. \n",
    "\n",
    "Good for learning purpose, but makes the code too much verbose and error prone. Let's use the pytorch APIs to do such things internally and automatically *(just like what we did in Softmax)* in the next lecture ✨ "
   ]
  },
  {
   "cell_type": "markdown",
   "id": "aad7ee61-60bc-4bee-946a-67d8dd3127d2",
   "metadata": {},
   "source": [
    "✅ Generating names with **Bigram** setting (manually) <br>\n",
    "✅ Trained a small NN to **learn** the bigram combinations <br>\n",
    "✅ Went wild with MLP, added more leayers and instead of just previous character, **generated using past 3** characters. <br>\n",
    "✅ Making MLP **mature**. <br>"
   ]
  }
 ],
 "metadata": {
  "kernelspec": {
   "display_name": "Python 3 (ipykernel)",
   "language": "python",
   "name": "python3"
  },
  "language_info": {
   "codemirror_mode": {
    "name": "ipython",
    "version": 3
   },
   "file_extension": ".py",
   "mimetype": "text/x-python",
   "name": "python",
   "nbconvert_exporter": "python",
   "pygments_lexer": "ipython3",
   "version": "3.9.12"
  }
 },
 "nbformat": 4,
 "nbformat_minor": 5
}
