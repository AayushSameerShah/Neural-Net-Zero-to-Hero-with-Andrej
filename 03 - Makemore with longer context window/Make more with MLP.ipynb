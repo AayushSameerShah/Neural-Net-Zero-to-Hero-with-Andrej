{
 "cells": [
  {
   "cell_type": "markdown",
   "id": "d3d8d1c7-6e3b-4a22-8bc2-bbe04df57156",
   "metadata": {},
   "source": [
    "# 😒 The problem with the last one\n",
    "- We created the bigram model **manually**\n",
    "- We created the **NN model** which learnt the relationships\n",
    "- We confirmed that **NN has learnt** the relationships **correctly** by setting the same random seed.\n",
    "\n",
    "The problem was *\"the next character that was going to be generated, was **only dependent on the previous** character\"*. Thus the new names generated looked *less like* the names.\n",
    "\n",
    "___\n",
    "\n",
    "> So, this time we will change the approach a bit, and we will create a **n-gram table** *(which is not bigram - 2 characters)* which takes previous say 3 characters and predicts the next one.\n",
    "\n",
    "___\n",
    "\n",
    "### Just kidding.\n",
    "This **tabular approach** isn't scalable. We can't make the table of every single possible combination for the characters, the size of the table will grow exponentially and... we will give up to this saying *\"we can't do this, whole world is a lie\".*\n",
    "\n",
    "Don't ever say that. We have the NNs. So, this time we will use them, and not the table. Table was just to understand the *behind the scenes* thing. They will no longer come in the picture.\n"
   ]
  },
  {
   "cell_type": "code",
   "execution_count": 1,
   "id": "35683bbc-78dd-44d6-9daf-4d528267b872",
   "metadata": {},
   "outputs": [],
   "source": [
    "import os    \n",
    "os.environ['KMP_DUPLICATE_LIB_OK'] = 'True'"
   ]
  },
  {
   "cell_type": "markdown",
   "id": "c7ecece8-7954-4f6a-9ce3-10797af23ee5",
   "metadata": {},
   "source": [
    "## Before:\n",
    "\n",
    "<pre>\n",
    "                 +-------------------+                \n",
    "                 |                   |                \n",
    "                 | A Neural Net      |                \n",
    "                 | Training with     |                \n",
    "+-----+          | single character  |        +------+\n",
    "|  E  ------------ in X and single   ----------  M   |\n",
    "|     |          | character in Y.   |        |      |\n",
    "+-----+          |                   |        +------+\n",
    "                 | Learning through  |                \n",
    "                 | logloss           |                \n",
    "                 |                   |                \n",
    "                 +-------------------+                \n",
    "</pre>"
   ]
  },
  {
   "cell_type": "markdown",
   "id": "773aff19-003f-4f22-883b-c6ab0088a5ab",
   "metadata": {},
   "source": [
    "## Now:\n",
    "\n",
    "<pre>\n",
    "+-----+                                               \n",
    "|  E  |                                               \n",
    "|     |--\\       +-------------------+                \n",
    "+-----+   --\\    |                   |                \n",
    "             -\\  | A Neural Net      |                \n",
    "               --| Training `n`      |                \n",
    "+-----+          | previous          |        +------+\n",
    "|  M  |----------- characters X      ----------  A   |\n",
    "|     |          | to generate next Y|        |      |\n",
    "+-----+          |                   |        +------+\n",
    "               --|                   |                \n",
    "             -/  |                   |                \n",
    "+-----+   --/    |                   |                \n",
    "|  M  |--/       +-------------------+                \n",
    "|     |                                               \n",
    "+-----+                                               \n",
    "</pre>"
   ]
  },
  {
   "cell_type": "markdown",
   "id": "3510111f-5142-4830-9da6-f090531b862d",
   "metadata": {},
   "source": [
    "> **NOTE**: As we are building this out, for the simplicity, we will *keep generating* the next single **character**. But the same method can be used for the **word** setting too. That will be done when we will build the GPT. So, hold your self till then ✊"
   ]
  },
  {
   "cell_type": "markdown",
   "id": "5694e66a-edf6-47fe-86ea-86f43dc3454a",
   "metadata": {},
   "source": [
    "# ♻ A refresher\n",
    "In the NN setting, how we did everything."
   ]
  },
  {
   "cell_type": "markdown",
   "id": "2c56b185-0c0c-48a3-b186-022df4ed1669",
   "metadata": {},
   "source": [
    "1. We had  **X** and **Y**\n",
    "2. We encoded the *a-z* into `0-26` (with 27, 28 special tokens)\n",
    "3. Then one-hot encoded the characters into the length of 27 tensor\n",
    "4. Fed all characters in one-by-one *(for whole dataaset - not batching used. Just simple)*\n",
    "5. Calculated the loss\n",
    "6. Backprop for `n` epochs"
   ]
  },
  {
   "cell_type": "markdown",
   "id": "110d41a7-e845-4821-a6e6-22e7b523813d",
   "metadata": {},
   "source": [
    "Okay, this was the story **till** now. But **from** now we need to **take a different** direction. Because now we are not using the single character to predict next. We will take `3` characters to generate next. *(This can be 4, 5, 1000 any number based upon your understanding of what you are trying to do 😉)*"
   ]
  },
  {
   "cell_type": "markdown",
   "id": "b11cdd7c-25d4-4f77-ae26-ead069f1cc74",
   "metadata": {},
   "source": [
    "# 🪕 Bengio\n",
    "*Not Banjo*!\n",
    "\n",
    "Ok, sorry Bengio. Here, we will use the technique used in the paper that Bengio wrote. Let's have a look how that goes."
   ]
  },
  {
   "cell_type": "markdown",
   "id": "af337e6f-4232-46b3-b278-2edcf6d34787",
   "metadata": {},
   "source": [
    "## 🤔 How is this different?\n",
    "See, now we are progressing towards the \"real\" stuff. So, whatever we learnt in the past notebooks were basics which helps us understand what is coming next. But from now on we will *keep shifting* gears towards the real-life structure.\n",
    "___\n",
    "In the real model training, **we train the model to learn the similarity** between the words. Thus, if you ask the model \"dog\" and \"cat\" the similarity will be high, but \"dog\" and \"moon\" will have low similarity.\n",
    "\n",
    "Now, this has to be learnt with **\"embeddings\"**. \n",
    "\n",
    "> **KEY**: Instead of directly passing the encoded values into the network, we will pass the embeddings. The embeddings will be updated later based on the training."
   ]
  },
  {
   "cell_type": "markdown",
   "id": "86465ee7-619c-4707-9345-76b943cc2f05",
   "metadata": {},
   "source": [
    "<img src=\"./Images/NN_Diagram.png\">"
   ]
  },
  {
   "cell_type": "markdown",
   "id": "9b426e9b-2a25-47db-ad7b-a5a83ed255ce",
   "metadata": {},
   "source": [
    "**Long story short**:\n",
    "- We will use some kind of **window** of size `3` to generate the next character until the stop token is hit.\n",
    "- Each of these three character will be of some vector size. We will take `2`. We will call it \"embedding\".\n",
    "- We will feed these embeddings, get the generation, calculate the loss, update weights **and also the embeddings**.\n",
    "\n",
    "Let's see these in action."
   ]
  },
  {
   "cell_type": "code",
   "execution_count": 2,
   "id": "7d151de7-81aa-4755-99a6-6ba4982e253d",
   "metadata": {},
   "outputs": [],
   "source": [
    "import torch\n",
    "import numpy as np\n",
    "import matplotlib.pyplot as plt"
   ]
  },
  {
   "cell_type": "code",
   "execution_count": 3,
   "id": "6df8ca0a-fd96-4621-b82c-7b8b1107b1de",
   "metadata": {},
   "outputs": [],
   "source": [
    "# loading the dataset\n",
    "with open(\"./names.txt\", \"r\") as file:\n",
    "    names = file.read().splitlines()"
   ]
  },
  {
   "cell_type": "code",
   "execution_count": 4,
   "id": "6ee5ca07-de9b-4642-97ba-202e01b86dc6",
   "metadata": {},
   "outputs": [
    {
     "data": {
      "text/plain": [
       "['a',\n",
       " 'b',\n",
       " 'c',\n",
       " 'd',\n",
       " 'e',\n",
       " 'f',\n",
       " 'g',\n",
       " 'h',\n",
       " 'i',\n",
       " 'j',\n",
       " 'k',\n",
       " 'l',\n",
       " 'm',\n",
       " 'n',\n",
       " 'o',\n",
       " 'p',\n",
       " 'q',\n",
       " 'r',\n",
       " 's',\n",
       " 't',\n",
       " 'u',\n",
       " 'v',\n",
       " 'w',\n",
       " 'x',\n",
       " 'y',\n",
       " 'z']"
      ]
     },
     "execution_count": 4,
     "metadata": {},
     "output_type": "execute_result"
    }
   ],
   "source": [
    "# total unique characters\n",
    "characters = sorted(list(set(''.join(names))))\n",
    "characters"
   ]
  },
  {
   "cell_type": "code",
   "execution_count": 5,
   "id": "260e1eb5-98d1-42ce-96f5-cf1be2db0c44",
   "metadata": {},
   "outputs": [],
   "source": [
    "# Builind index-to-char and char-to-index\n",
    "number_to_chr = {k:v for k, v in enumerate([\"<\", \">\"] + characters)}\n",
    "chr_to_number = {v:k for k, v in enumerate([\"<\", \">\"] + characters)}"
   ]
  },
  {
   "cell_type": "markdown",
   "id": "1647cf05-45ef-41d4-8735-3324082a64d0",
   "metadata": {},
   "source": [
    "Let's see how our data will look like."
   ]
  },
  {
   "cell_type": "markdown",
   "id": "39c23095-098b-4c63-b909-5a10e30119ff",
   "metadata": {},
   "source": [
    "###  A straight approach, not working code."
   ]
  },
  {
   "cell_type": "code",
   "execution_count": 6,
   "id": "35d93099-534c-4907-9bbf-c3d465ac5020",
   "metadata": {},
   "outputs": [
    {
     "name": "stdout",
     "output_type": "stream",
     "text": [
      "\n",
      "--- emma ---\n",
      "<em → m\n",
      "emm → a\n",
      "mma → >\n",
      "\n",
      "--- olivia ---\n",
      "<ol → i\n",
      "oli → v\n",
      "liv → i\n",
      "ivi → a\n",
      "via → >\n",
      "\n",
      "--- ava ---\n",
      "<av → a\n",
      "ava → >\n",
      "\n",
      "--- isabella ---\n",
      "<is → a\n",
      "isa → b\n",
      "sab → e\n",
      "abe → l\n",
      "bel → l\n",
      "ell → a\n",
      "lla → >\n",
      "\n",
      "--- sophia ---\n",
      "<so → p\n",
      "sop → h\n",
      "oph → i\n",
      "phi → a\n",
      "hia → >\n"
     ]
    }
   ],
   "source": [
    "# A not working code for the window based operation\n",
    "block_size = 3\n",
    "\n",
    "for name in names[:5]:\n",
    "    print(\"\\n---\", name, \"---\")\n",
    "    name = \"<\" + name + \">\"\n",
    "    for i in range(len(name) - block_size):\n",
    "        print(name[i:i+block_size], \"→\", name[i+block_size])"
   ]
  },
  {
   "cell_type": "markdown",
   "id": "0ffbe84d-4c12-4cb6-89d6-af9689b1cf31",
   "metadata": {},
   "source": [
    "But this code will fail if the name is less than 3 characters."
   ]
  },
  {
   "cell_type": "code",
   "execution_count": 7,
   "id": "4b8902f3-4aca-4b13-b6e7-e6f85b9d1537",
   "metadata": {},
   "outputs": [
    {
     "name": "stdout",
     "output_type": "stream",
     "text": [
      "\n",
      "--- A ---\n"
     ]
    }
   ],
   "source": [
    "# Given a name of just a single character \"A\".\n",
    "block_size = 3\n",
    "\n",
    "for name in [\"A\"]:\n",
    "    print(\"\\n---\", name, \"---\")\n",
    "    name = \"<\" + name + \">\"\n",
    "    for i in range(len(name) - block_size):\n",
    "        print(name[i:i+block_size], \"→\", name[i+block_size])"
   ]
  },
  {
   "cell_type": "markdown",
   "id": "4dbebd21-9862-4979-9773-ee50ffbaa4c8",
   "metadata": {},
   "source": [
    "### Working code\n",
    "Here we will need to \"append\" the **special start token** `<` multiple times so that we can suffice any length of names."
   ]
  },
  {
   "cell_type": "code",
   "execution_count": 8,
   "id": "9ab64e96-5af5-471a-9f03-6f5b388bfe1d",
   "metadata": {},
   "outputs": [
    {
     "data": {
      "text/plain": [
       "0"
      ]
     },
     "execution_count": 8,
     "metadata": {},
     "output_type": "execute_result"
    }
   ],
   "source": [
    "# The start of word token has `0` index, okay?\n",
    "chr_to_number[\"<\"]"
   ]
  },
  {
   "cell_type": "code",
   "execution_count": 9,
   "id": "3d599034-2206-43cd-bc00-511781850ab7",
   "metadata": {},
   "outputs": [
    {
     "name": "stdout",
     "output_type": "stream",
     "text": [
      "\n",
      "--- emma ---\n",
      "<<< → e\n",
      "<<e → m\n",
      "<em → m\n",
      "emm → a\n",
      "mma → >\n",
      "\n",
      "--- olivia ---\n",
      "<<< → o\n",
      "<<o → l\n",
      "<ol → i\n",
      "oli → v\n",
      "liv → i\n",
      "ivi → a\n",
      "via → >\n",
      "\n",
      "--- ava ---\n",
      "<<< → a\n",
      "<<a → v\n",
      "<av → a\n",
      "ava → >\n",
      "\n",
      "--- isabella ---\n",
      "<<< → i\n",
      "<<i → s\n",
      "<is → a\n",
      "isa → b\n",
      "sab → e\n",
      "abe → l\n",
      "bel → l\n",
      "ell → a\n",
      "lla → >\n",
      "\n",
      "--- sophia ---\n",
      "<<< → s\n",
      "<<s → o\n",
      "<so → p\n",
      "sop → h\n",
      "oph → i\n",
      "phi → a\n",
      "hia → >\n"
     ]
    }
   ],
   "source": [
    "# Working code\n",
    "block_size = 3\n",
    "sot = chr_to_number[\"<\"]\n",
    "\n",
    "for name in names[:5]:\n",
    "    window_chars = [sot] * block_size\n",
    "    print(\"\\n---\", name, \"---\")\n",
    "    name = name + \">\" # removed \"<\" from the start of the name because added before\n",
    "    \n",
    "    for ch in name:\n",
    "        _3chars = ''.join(\n",
    "            list(\n",
    "                map(lambda x:number_to_chr[x], window_chars)\n",
    "            )) # just converted [0, 0, 0] → [<, <, <] → <<<\n",
    "        \n",
    "        print(_3chars, \"→\", ch)\n",
    "        ch_index = chr_to_number[ch]\n",
    "        \n",
    "        # we will keep updating the last index and shift the ones before that\n",
    "        # you can use the np.roll() function here as well.\n",
    "        window_chars = window_chars[1:] + [ch_index]"
   ]
  },
  {
   "cell_type": "markdown",
   "id": "3d39d3fd-7e05-4ebb-8024-589a4ebe7dd5",
   "metadata": {},
   "source": [
    "> **NOTE**: If you keep the `block_size=1`, the result will be the same as in the bigram."
   ]
  },
  {
   "cell_type": "markdown",
   "id": "1b8fa6dc-077a-4b83-97d9-ddb1fa8ffb70",
   "metadata": {},
   "source": [
    "## Making the dataset"
   ]
  },
  {
   "cell_type": "code",
   "execution_count": 10,
   "id": "966a09ab-486f-4045-b7c0-c24e9d36d77a",
   "metadata": {},
   "outputs": [],
   "source": [
    "### MAKING THE DATASET ###\n",
    "block_size = 3\n",
    "sot = chr_to_number[\"<\"]\n",
    "\n",
    "X = []\n",
    "y = []\n",
    "\n",
    "for name in names[:5]:\n",
    "    window_chars = [sot] * block_size\n",
    "    name = name + \">\" # removed \"<\" from the start of the name because added before\n",
    "    \n",
    "    for ch in name:\n",
    "        _3chars = ''.join(\n",
    "            list(\n",
    "                map(lambda x:number_to_chr[x], window_chars)\n",
    "            )) # just converted [0, 0, 0] → [<, <, <] → <<<\n",
    "        ch_index = chr_to_number[ch]\n",
    "        \n",
    "        X.append(window_chars)\n",
    "        y.append(ch_index)\n",
    "        \n",
    "        # we will keep updating the last index and shift the ones before that\n",
    "        # you can use the np.roll() function here as well.\n",
    "        window_chars = window_chars[1:] + [ch_index]"
   ]
  },
  {
   "cell_type": "code",
   "execution_count": 11,
   "id": "36b9fe44-5146-4187-92b5-c8057bbd7ed8",
   "metadata": {},
   "outputs": [],
   "source": [
    "X = torch.tensor(X)\n",
    "y = torch.tensor(y)"
   ]
  },
  {
   "cell_type": "code",
   "execution_count": 12,
   "id": "acbbec92-324a-4b0d-b029-ed5381c86ce6",
   "metadata": {},
   "outputs": [
    {
     "data": {
      "text/plain": [
       "tensor([[ 0,  0,  0],\n",
       "        [ 0,  0,  6],\n",
       "        [ 0,  6, 14],\n",
       "        [ 6, 14, 14],\n",
       "        [14, 14,  2],\n",
       "        [ 0,  0,  0],\n",
       "        [ 0,  0, 16],\n",
       "        [ 0, 16, 13],\n",
       "        [16, 13, 10],\n",
       "        [13, 10, 23],\n",
       "        [10, 23, 10],\n",
       "        [23, 10,  2],\n",
       "        [ 0,  0,  0],\n",
       "        [ 0,  0,  2],\n",
       "        [ 0,  2, 23],\n",
       "        [ 2, 23,  2],\n",
       "        [ 0,  0,  0],\n",
       "        [ 0,  0, 10],\n",
       "        [ 0, 10, 20],\n",
       "        [10, 20,  2],\n",
       "        [20,  2,  3],\n",
       "        [ 2,  3,  6],\n",
       "        [ 3,  6, 13],\n",
       "        [ 6, 13, 13],\n",
       "        [13, 13,  2],\n",
       "        [ 0,  0,  0],\n",
       "        [ 0,  0, 20],\n",
       "        [ 0, 20, 16],\n",
       "        [20, 16, 17],\n",
       "        [16, 17,  9],\n",
       "        [17,  9, 10],\n",
       "        [ 9, 10,  2]])"
      ]
     },
     "execution_count": 12,
     "metadata": {},
     "output_type": "execute_result"
    }
   ],
   "source": [
    "X"
   ]
  },
  {
   "cell_type": "code",
   "execution_count": 13,
   "id": "620db96e-d09f-4149-9a06-b91d0a22e3f9",
   "metadata": {},
   "outputs": [
    {
     "data": {
      "text/plain": [
       "tensor([ 6, 14, 14,  2,  1, 16, 13, 10, 23, 10,  2,  1,  2, 23,  2,  1, 10, 20,\n",
       "         2,  3,  6, 13, 13,  2,  1, 20, 16, 17,  9, 10,  2,  1])"
      ]
     },
     "execution_count": 13,
     "metadata": {},
     "output_type": "execute_result"
    }
   ],
   "source": [
    "y"
   ]
  },
  {
   "cell_type": "markdown",
   "id": "e36f590e-d93a-4409-a85b-b53da725c5ea",
   "metadata": {},
   "source": [
    "Cool. Now, let's create the **embeddings**."
   ]
  },
  {
   "cell_type": "code",
   "execution_count": 14,
   "id": "ad9481e2-8dd6-497f-b6a0-e476401ad7bb",
   "metadata": {},
   "outputs": [
    {
     "data": {
      "text/plain": [
       "tensor([[ 0.9918,  1.1556],\n",
       "        [ 0.1089,  0.1830],\n",
       "        [-1.3392,  1.2606],\n",
       "        [ 0.5458, -0.6414],\n",
       "        [-0.1967, -0.7047],\n",
       "        [ 2.0866, -1.0059],\n",
       "        [ 0.3734,  1.3685],\n",
       "        [-0.3765,  1.0569],\n",
       "        [-1.1213, -1.6820],\n",
       "        [-0.1687, -1.6064],\n",
       "        [-0.6210, -0.0761],\n",
       "        [ 0.0389, -0.6792],\n",
       "        [ 0.9774, -0.7255],\n",
       "        [-1.7353, -0.5881],\n",
       "        [-0.0547,  0.8624],\n",
       "        [-0.1494,  0.6852],\n",
       "        [-1.3502, -1.1788],\n",
       "        [ 1.2902,  1.5954],\n",
       "        [-0.5923, -0.1446],\n",
       "        [ 0.2941,  0.2218],\n",
       "        [ 0.8183, -0.4591],\n",
       "        [-2.4333, -1.0451],\n",
       "        [-0.2752, -1.6687],\n",
       "        [-1.8985,  0.3699],\n",
       "        [ 2.0820, -0.0420],\n",
       "        [-0.7028,  0.8669],\n",
       "        [-0.8526,  0.2169],\n",
       "        [-2.2359,  1.8599]])"
      ]
     },
     "execution_count": 14,
     "metadata": {},
     "output_type": "execute_result"
    }
   ],
   "source": [
    "generator = torch.Generator().manual_seed(42)\n",
    "embeddings = torch.randn((28, 2))\n",
    "embeddings"
   ]
  },
  {
   "cell_type": "markdown",
   "id": "1f4987df-a49d-4d2c-ab2c-3eeb1b34dc0c",
   "metadata": {},
   "source": [
    "As said in the lecture, we will be assigning all characters the **embeddings** here, the size of `2`. But in the paper, for each unique 17,000 words they tested on different 30, 50, etc embeddings. Here, instead of 17,000 words, we have 28 unique characters."
   ]
  },
  {
   "cell_type": "markdown",
   "id": "f9bb2144-2661-43c1-90b5-7b758e38e71e",
   "metadata": {},
   "source": [
    "# 📸 A snapshot of characters\n",
    "We would like to see, **how and which characters are closer to each other *before* and *after*** the training."
   ]
  },
  {
   "cell_type": "code",
   "execution_count": 15,
   "id": "e8d7ff03-9b20-42ff-89d8-49250b5286e4",
   "metadata": {},
   "outputs": [
    {
     "data": {
      "image/png": "[encoded data removed]",
      "text/plain": [
       "<Figure size 576x360 with 1 Axes>"
      ]
     },
     "metadata": {
      "needs_background": "light"
     },
     "output_type": "display_data"
    }
   ],
   "source": [
    "plt.figure(figsize=(8, 5))\n",
    "plt.scatter(embeddings[:, 0], embeddings[:, 1], marker='.')\n",
    "for i in range(28):\n",
    "    chr_ = number_to_chr[i]\n",
    "    embd = embeddings[i]\n",
    "    plt.text(embd[0], embd[1], chr_, fontdict={\"size\":12})\n",
    "    \n",
    "plt.title(\"Character distance before training [random]\");"
   ]
  },
  {
   "cell_type": "markdown",
   "id": "f94a8abe-5be8-4052-8da1-ed86c92e2ded",
   "metadata": {},
   "source": [
    "## ♏ Accessing the embeddings\n",
    "Here, Andrej goes ahead one step further to demonstrate 2 ways to access the embeddings.\n",
    "1. Just use indexing\n",
    "2. Matrix multiplication\n",
    "\n",
    "Now, the 2nd way we didn't use in the makemore with bigram, but that just helped us to pluck out the weights for *that* character where the one hot encoding had `1`. \n",
    "\n",
    "Here, instead of going for that stuff, let's simple use the index because at the EOD, what matters is how do we access the embeddings. Allow me to skip that process."
   ]
  },
  {
   "cell_type": "markdown",
   "id": "792cd602-50b7-4052-b529-90cd42780553",
   "metadata": {},
   "source": [
    "## How do we prepare the data?\n",
    "We will be sending `3` characters at the time. Thus, there will be `2 + 2 + 2 = 6` float will be sent at the time. Because we have `2` dimension for the embedding per character.\n",
    "\n",
    "Let's take the example of first `<<<` → `e` datapoint."
   ]
  },
  {
   "cell_type": "code",
   "execution_count": 16,
   "id": "4c3f2a19-3402-47a6-ac0d-4bb06a903c71",
   "metadata": {},
   "outputs": [
    {
     "data": {
      "text/plain": [
       "tensor([[0.9918, 1.1556],\n",
       "        [0.9918, 1.1556],\n",
       "        [0.9918, 1.1556]])"
      ]
     },
     "execution_count": 16,
     "metadata": {},
     "output_type": "execute_result"
    }
   ],
   "source": [
    "# because < has the index 0\n",
    "embeddings[[0, 0, 0]]"
   ]
  },
  {
   "cell_type": "markdown",
   "id": "72019ae7-3cc9-4f4a-9a0b-3c42e1411a75",
   "metadata": {},
   "source": [
    "👉 But to pass it **at once** we will need to flatten it out."
   ]
  },
  {
   "cell_type": "code",
   "execution_count": 17,
   "id": "e1dbcc21-019f-4899-8725-906fd9205c75",
   "metadata": {},
   "outputs": [
    {
     "data": {
      "text/plain": [
       "tensor([[0.9918, 1.1556, 0.9918, 1.1556, 0.9918, 1.1556]])"
      ]
     },
     "execution_count": 17,
     "metadata": {},
     "output_type": "execute_result"
    }
   ],
   "source": [
    "# Re-shapping the tensor so that this example can be sent at once\n",
    "embeddings[[0, 0, 0]].view((-1, 6))"
   ]
  },
  {
   "cell_type": "markdown",
   "id": "14e25271-e12d-45a1-8e52-739c038152ad",
   "metadata": {},
   "source": [
    "___\n",
    "> ⚠ Numpy has: `array.reshape` method to do the same.\n",
    "___"
   ]
  },
  {
   "cell_type": "markdown",
   "id": "5f796857-72fa-4d9f-b8de-5202ad277298",
   "metadata": {},
   "source": [
    "Simple indexing, okay. <br>\n",
    "**But** for whole data `X`?"
   ]
  },
  {
   "cell_type": "code",
   "execution_count": 18,
   "id": "5829f2d2-acae-4f92-814a-3882476d0024",
   "metadata": {},
   "outputs": [
    {
     "data": {
      "text/plain": [
       "torch.Size([32, 3])"
      ]
     },
     "execution_count": 18,
     "metadata": {},
     "output_type": "execute_result"
    }
   ],
   "source": [
    "X.shape"
   ]
  },
  {
   "cell_type": "markdown",
   "id": "3c0785e2-9a00-467b-aabc-a07845471ae6",
   "metadata": {},
   "source": [
    "It has `32` character *sets* (of 3 characters each). So, we will need some logic to **automate** the indexing."
   ]
  },
  {
   "cell_type": "code",
   "execution_count": 19,
   "id": "8d3ef850-f27c-4580-bb65-523d564d89b4",
   "metadata": {},
   "outputs": [
    {
     "data": {
      "text/plain": [
       "tensor([[[ 0.9918,  1.1556],\n",
       "         [ 0.9918,  1.1556],\n",
       "         [ 0.9918,  1.1556]],\n",
       "\n",
       "        [[ 0.9918,  1.1556],\n",
       "         [ 0.9918,  1.1556],\n",
       "         [ 0.3734,  1.3685]],\n",
       "\n",
       "        [[ 0.9918,  1.1556],\n",
       "         [ 0.3734,  1.3685],\n",
       "         [-0.0547,  0.8624]],\n",
       "\n",
       "        [[ 0.3734,  1.3685],\n",
       "         [-0.0547,  0.8624],\n",
       "         [-0.0547,  0.8624]],\n",
       "\n",
       "        [[-0.0547,  0.8624],\n",
       "         [-0.0547,  0.8624],\n",
       "         [-1.3392,  1.2606]],\n",
       "\n",
       "        [[ 0.9918,  1.1556],\n",
       "         [ 0.9918,  1.1556],\n",
       "         [ 0.9918,  1.1556]],\n",
       "\n",
       "        [[ 0.9918,  1.1556],\n",
       "         [ 0.9918,  1.1556],\n",
       "         [-1.3502, -1.1788]],\n",
       "\n",
       "        [[ 0.9918,  1.1556],\n",
       "         [-1.3502, -1.1788],\n",
       "         [-1.7353, -0.5881]],\n",
       "\n",
       "        [[-1.3502, -1.1788],\n",
       "         [-1.7353, -0.5881],\n",
       "         [-0.6210, -0.0761]],\n",
       "\n",
       "        [[-1.7353, -0.5881],\n",
       "         [-0.6210, -0.0761],\n",
       "         [-1.8985,  0.3699]],\n",
       "\n",
       "        [[-0.6210, -0.0761],\n",
       "         [-1.8985,  0.3699],\n",
       "         [-0.6210, -0.0761]],\n",
       "\n",
       "        [[-1.8985,  0.3699],\n",
       "         [-0.6210, -0.0761],\n",
       "         [-1.3392,  1.2606]],\n",
       "\n",
       "        [[ 0.9918,  1.1556],\n",
       "         [ 0.9918,  1.1556],\n",
       "         [ 0.9918,  1.1556]],\n",
       "\n",
       "        [[ 0.9918,  1.1556],\n",
       "         [ 0.9918,  1.1556],\n",
       "         [-1.3392,  1.2606]],\n",
       "\n",
       "        [[ 0.9918,  1.1556],\n",
       "         [-1.3392,  1.2606],\n",
       "         [-1.8985,  0.3699]],\n",
       "\n",
       "        [[-1.3392,  1.2606],\n",
       "         [-1.8985,  0.3699],\n",
       "         [-1.3392,  1.2606]],\n",
       "\n",
       "        [[ 0.9918,  1.1556],\n",
       "         [ 0.9918,  1.1556],\n",
       "         [ 0.9918,  1.1556]],\n",
       "\n",
       "        [[ 0.9918,  1.1556],\n",
       "         [ 0.9918,  1.1556],\n",
       "         [-0.6210, -0.0761]],\n",
       "\n",
       "        [[ 0.9918,  1.1556],\n",
       "         [-0.6210, -0.0761],\n",
       "         [ 0.8183, -0.4591]],\n",
       "\n",
       "        [[-0.6210, -0.0761],\n",
       "         [ 0.8183, -0.4591],\n",
       "         [-1.3392,  1.2606]],\n",
       "\n",
       "        [[ 0.8183, -0.4591],\n",
       "         [-1.3392,  1.2606],\n",
       "         [ 0.5458, -0.6414]],\n",
       "\n",
       "        [[-1.3392,  1.2606],\n",
       "         [ 0.5458, -0.6414],\n",
       "         [ 0.3734,  1.3685]],\n",
       "\n",
       "        [[ 0.5458, -0.6414],\n",
       "         [ 0.3734,  1.3685],\n",
       "         [-1.7353, -0.5881]],\n",
       "\n",
       "        [[ 0.3734,  1.3685],\n",
       "         [-1.7353, -0.5881],\n",
       "         [-1.7353, -0.5881]],\n",
       "\n",
       "        [[-1.7353, -0.5881],\n",
       "         [-1.7353, -0.5881],\n",
       "         [-1.3392,  1.2606]],\n",
       "\n",
       "        [[ 0.9918,  1.1556],\n",
       "         [ 0.9918,  1.1556],\n",
       "         [ 0.9918,  1.1556]],\n",
       "\n",
       "        [[ 0.9918,  1.1556],\n",
       "         [ 0.9918,  1.1556],\n",
       "         [ 0.8183, -0.4591]],\n",
       "\n",
       "        [[ 0.9918,  1.1556],\n",
       "         [ 0.8183, -0.4591],\n",
       "         [-1.3502, -1.1788]],\n",
       "\n",
       "        [[ 0.8183, -0.4591],\n",
       "         [-1.3502, -1.1788],\n",
       "         [ 1.2902,  1.5954]],\n",
       "\n",
       "        [[-1.3502, -1.1788],\n",
       "         [ 1.2902,  1.5954],\n",
       "         [-0.1687, -1.6064]],\n",
       "\n",
       "        [[ 1.2902,  1.5954],\n",
       "         [-0.1687, -1.6064],\n",
       "         [-0.6210, -0.0761]],\n",
       "\n",
       "        [[-0.1687, -1.6064],\n",
       "         [-0.6210, -0.0761],\n",
       "         [-1.3392,  1.2606]]])"
      ]
     },
     "execution_count": 19,
     "metadata": {},
     "output_type": "execute_result"
    }
   ],
   "source": [
    "embeddings[X]"
   ]
  },
  {
   "cell_type": "markdown",
   "id": "96116907-6811-491c-a2ee-05f6e1041c97",
   "metadata": {},
   "source": [
    "This one is correct, I have tested it 😉"
   ]
  },
  {
   "cell_type": "code",
   "execution_count": 20,
   "id": "69e184e6-214a-416b-ba63-020cbea234d6",
   "metadata": {},
   "outputs": [
    {
     "data": {
      "text/plain": [
       "torch.Size([32, 3, 2])"
      ]
     },
     "execution_count": 20,
     "metadata": {},
     "output_type": "execute_result"
    }
   ],
   "source": [
    "embeddings[X].shape"
   ]
  },
  {
   "cell_type": "code",
   "execution_count": 21,
   "id": "3d91ea7c-ea97-4719-9ee7-3303bbfcf763",
   "metadata": {},
   "outputs": [
    {
     "data": {
      "text/plain": [
       "tensor([[ 0.9918,  1.1556,  0.9918,  1.1556,  0.9918,  1.1556],\n",
       "        [ 0.9918,  1.1556,  0.9918,  1.1556,  0.3734,  1.3685],\n",
       "        [ 0.9918,  1.1556,  0.3734,  1.3685, -0.0547,  0.8624],\n",
       "        [ 0.3734,  1.3685, -0.0547,  0.8624, -0.0547,  0.8624],\n",
       "        [-0.0547,  0.8624, -0.0547,  0.8624, -1.3392,  1.2606],\n",
       "        [ 0.9918,  1.1556,  0.9918,  1.1556,  0.9918,  1.1556],\n",
       "        [ 0.9918,  1.1556,  0.9918,  1.1556, -1.3502, -1.1788],\n",
       "        [ 0.9918,  1.1556, -1.3502, -1.1788, -1.7353, -0.5881],\n",
       "        [-1.3502, -1.1788, -1.7353, -0.5881, -0.6210, -0.0761],\n",
       "        [-1.7353, -0.5881, -0.6210, -0.0761, -1.8985,  0.3699],\n",
       "        [-0.6210, -0.0761, -1.8985,  0.3699, -0.6210, -0.0761],\n",
       "        [-1.8985,  0.3699, -0.6210, -0.0761, -1.3392,  1.2606],\n",
       "        [ 0.9918,  1.1556,  0.9918,  1.1556,  0.9918,  1.1556],\n",
       "        [ 0.9918,  1.1556,  0.9918,  1.1556, -1.3392,  1.2606],\n",
       "        [ 0.9918,  1.1556, -1.3392,  1.2606, -1.8985,  0.3699],\n",
       "        [-1.3392,  1.2606, -1.8985,  0.3699, -1.3392,  1.2606],\n",
       "        [ 0.9918,  1.1556,  0.9918,  1.1556,  0.9918,  1.1556],\n",
       "        [ 0.9918,  1.1556,  0.9918,  1.1556, -0.6210, -0.0761],\n",
       "        [ 0.9918,  1.1556, -0.6210, -0.0761,  0.8183, -0.4591],\n",
       "        [-0.6210, -0.0761,  0.8183, -0.4591, -1.3392,  1.2606],\n",
       "        [ 0.8183, -0.4591, -1.3392,  1.2606,  0.5458, -0.6414],\n",
       "        [-1.3392,  1.2606,  0.5458, -0.6414,  0.3734,  1.3685],\n",
       "        [ 0.5458, -0.6414,  0.3734,  1.3685, -1.7353, -0.5881],\n",
       "        [ 0.3734,  1.3685, -1.7353, -0.5881, -1.7353, -0.5881],\n",
       "        [-1.7353, -0.5881, -1.7353, -0.5881, -1.3392,  1.2606],\n",
       "        [ 0.9918,  1.1556,  0.9918,  1.1556,  0.9918,  1.1556],\n",
       "        [ 0.9918,  1.1556,  0.9918,  1.1556,  0.8183, -0.4591],\n",
       "        [ 0.9918,  1.1556,  0.8183, -0.4591, -1.3502, -1.1788],\n",
       "        [ 0.8183, -0.4591, -1.3502, -1.1788,  1.2902,  1.5954],\n",
       "        [-1.3502, -1.1788,  1.2902,  1.5954, -0.1687, -1.6064],\n",
       "        [ 1.2902,  1.5954, -0.1687, -1.6064, -0.6210, -0.0761],\n",
       "        [-0.1687, -1.6064, -0.6210, -0.0761, -1.3392,  1.2606]])"
      ]
     },
     "execution_count": 21,
     "metadata": {},
     "output_type": "execute_result"
    }
   ],
   "source": [
    "# Reshaping\n",
    "embeddings[X].view(-1, 6)"
   ]
  },
  {
   "cell_type": "markdown",
   "id": "c159a586-7539-4b27-b898-7fb998aaeab9",
   "metadata": {},
   "source": [
    "So, now **each row** from above will be passed through the NN one by one and we will then keep monitoring for the loss."
   ]
  },
  {
   "cell_type": "markdown",
   "id": "f4cf16db-3952-4457-91a6-04fafa0f6cf1",
   "metadata": {},
   "source": [
    "# ⛏ Training time!"
   ]
  },
  {
   "cell_type": "markdown",
   "id": "2bc2424f-db35-47b7-9691-b3aa5feba0d1",
   "metadata": {},
   "source": [
    "Have a look at this structure."
   ]
  },
  {
   "cell_type": "markdown",
   "id": "ed3308ec-3413-4548-b5fe-aa93a4591077",
   "metadata": {},
   "source": [
    "<img src=\"./Images/NN_Diagram.png\" height=500 width=600>"
   ]
  },
  {
   "cell_type": "markdown",
   "id": "02e46a80-2f22-40c7-ad75-af56adb61c4e",
   "metadata": {},
   "source": [
    "The network is of `2` layers in total.\n",
    "1. The first one has several nodes which has input of `2 + 2 + 2 = 6` for each node.\n",
    "2. It outputs some value by **applying `tanh`** activation function.\n",
    "3. At the last we have the second *output* layer which has the shape of `28` nodes which is fixed because we will predict the next token.\n",
    "\n",
    "> The **only difference** between the NN used in the last notebook is that, this time the NN has an *extra* layer which can learn some more patterns in the data. Otherwise the last *output* layer is exactly the same as in the previous notebook 😊\n",
    "\n"
   ]
  },
  {
   "cell_type": "markdown",
   "id": "dbdd3a80-3bc4-42c5-9110-be09ead81852",
   "metadata": {},
   "source": [
    "### 🏋️‍♂️ We need to initialize the weights"
   ]
  },
  {
   "cell_type": "markdown",
   "id": "b12bd9f7-45fd-44ca-9ed6-85a075a523ca",
   "metadata": {},
   "source": [
    "### `1.` First layer"
   ]
  },
  {
   "cell_type": "code",
   "execution_count": 22,
   "id": "b7704e06-dc38-4051-8f38-e606a2516f71",
   "metadata": {},
   "outputs": [],
   "source": [
    "# W1 for the data + first layer (tanh)\n",
    "W1 = torch.randn((6, 100), generator=generator)\n",
    "b1 = torch.randn(100, generator=generator)"
   ]
  },
  {
   "cell_type": "markdown",
   "id": "4cbff63b-2a11-40a4-bf51-a49cea1ffcd5",
   "metadata": {},
   "source": [
    "Why `(6, 100)`?\n",
    "```python\n",
    "W1 = torch.randn((6, 100))\n",
    "\n",
    "# 6 = Number if input data dimension \n",
    "# 100 = Number of nodes in that layer\n",
    "```\n",
    "\n",
    "So, final number of weights will be `600` in that layer because we are creating a **pure** dance NN. Each node out of 100 nodes is connected to all 6 *nodes* of the data. So, total weights will be 600."
   ]
  },
  {
   "cell_type": "code",
   "execution_count": 23,
   "id": "ff6ae7c7-06b2-4183-be4f-7f9bb360dfc0",
   "metadata": {},
   "outputs": [
    {
     "data": {
      "text/plain": [
       "torch.Size([6, 100])"
      ]
     },
     "execution_count": 23,
     "metadata": {},
     "output_type": "execute_result"
    }
   ],
   "source": [
    "W1.shape"
   ]
  },
  {
   "cell_type": "markdown",
   "id": "0f1276f6-ab3b-414e-9f22-febc195196fd",
   "metadata": {},
   "source": [
    "### `2.` Last layer *(output)*"
   ]
  },
  {
   "cell_type": "code",
   "execution_count": 24,
   "id": "1d401a74-fe5b-45db-a7fa-580b44d10703",
   "metadata": {},
   "outputs": [],
   "source": [
    "# W2\n",
    "W2 = torch.randn((100, 28), generator=generator)\n",
    "b2 = torch.randn(28, generator=generator)"
   ]
  },
  {
   "cell_type": "markdown",
   "id": "83f95bfd-1e1d-40e7-aade-0e1310922be7",
   "metadata": {},
   "source": [
    "## 👼 The forward pass dry run"
   ]
  },
  {
   "cell_type": "markdown",
   "id": "b8088532-67c3-4ccd-b7e9-cdb51ab5abb8",
   "metadata": {},
   "source": [
    "### Data @ First Layer"
   ]
  },
  {
   "cell_type": "code",
   "execution_count": 25,
   "id": "94909f61-f8d0-43a5-9656-8a4f37f49454",
   "metadata": {},
   "outputs": [
    {
     "data": {
      "text/plain": [
       "torch.Size([32, 100])"
      ]
     },
     "execution_count": 25,
     "metadata": {},
     "output_type": "execute_result"
    }
   ],
   "source": [
    "# Calculate the values for the first layer + data\n",
    "\n",
    "# shape = (32, 6) @ (6, 100)\n",
    "_1 = embeddings[X].view(-1, 6) @ W1\n",
    "_1.shape"
   ]
  },
  {
   "cell_type": "markdown",
   "id": "e01c431e-ad3f-4aa4-8638-f9f14084604b",
   "metadata": {},
   "source": [
    "Cool!\n",
    "> This means there are: *100 output tensors for all 32 characters in this tiny training data of 5 names*.\n",
    "\n",
    "Next:\n",
    "- We will add the bias `b1`\n",
    "- Apply the activation function `tanh`\n"
   ]
  },
  {
   "cell_type": "code",
   "execution_count": 26,
   "id": "f6b06f4e-c7c9-46f4-90a4-ea989066b968",
   "metadata": {},
   "outputs": [
    {
     "data": {
      "text/plain": [
       "torch.Size([32, 100])"
      ]
     },
     "execution_count": 26,
     "metadata": {},
     "output_type": "execute_result"
    }
   ],
   "source": [
    "_2 = torch.tanh(_1 + b1)\n",
    "_2.shape"
   ]
  },
  {
   "cell_type": "markdown",
   "id": "95adf003-c91e-42cf-bc06-e7aab35726b7",
   "metadata": {},
   "source": [
    "**Great!** This, whole step could be done in the single step like below and that what we will use from now on."
   ]
  },
  {
   "cell_type": "code",
   "execution_count": 27,
   "id": "0da30e01-014d-4f68-96ef-51f52fe49a67",
   "metadata": {},
   "outputs": [
    {
     "data": {
      "text/plain": [
       "tensor([[ 0.7612,  0.9915,  0.0935,  ...,  0.9641,  0.0485,  0.9986],\n",
       "        [ 0.6771,  0.9970,  0.2830,  ...,  0.9745, -0.4415,  0.9984],\n",
       "        [ 0.6972,  0.9918,  0.9539,  ...,  0.9741, -0.8383,  0.9973],\n",
       "        ...,\n",
       "        [-0.9929,  0.9185,  0.3388,  ...,  0.6425, -0.9741,  0.8049],\n",
       "        [ 0.9767,  0.9967,  0.4864,  ...,  0.9987,  0.8590,  0.7965],\n",
       "        [-0.9993, -0.9389, -0.9957,  ...,  0.8343, -0.9996, -0.9874]])"
      ]
     },
     "execution_count": 27,
     "metadata": {},
     "output_type": "execute_result"
    }
   ],
   "source": [
    "h = torch.tanh(embeddings[X].view(-1, 6) @ W1 + b1)\n",
    "h"
   ]
  },
  {
   "cell_type": "markdown",
   "id": "f55a25f9-f694-45ef-9813-1007aae27014",
   "metadata": {},
   "source": [
    "### First Layer @ Output Layer"
   ]
  },
  {
   "cell_type": "code",
   "execution_count": 28,
   "id": "d5c273a0-fde0-418e-8492-2e137e57e654",
   "metadata": {},
   "outputs": [
    {
     "data": {
      "text/plain": [
       "torch.Size([32, 28])"
      ]
     },
     "execution_count": 28,
     "metadata": {},
     "output_type": "execute_result"
    }
   ],
   "source": [
    "# shape = (32, 100) @ (100, 28)\n",
    "logits = h @ W2 + b2\n",
    "logits.shape"
   ]
  },
  {
   "cell_type": "markdown",
   "id": "812ddbaa-9235-4bb7-b47b-a7f1ecf92b6d",
   "metadata": {},
   "source": [
    "> This means: *For all 32 sets of 3 character, the predicted logits are in the shape of 28.*"
   ]
  },
  {
   "cell_type": "markdown",
   "id": "4f3d1946-7803-467f-9fa8-a44dedaf52d7",
   "metadata": {},
   "source": [
    "### 🔄 Conversion of logits into probability"
   ]
  },
  {
   "cell_type": "code",
   "execution_count": 29,
   "id": "a3e4a253-be74-4775-a28a-d6ac034b18b1",
   "metadata": {},
   "outputs": [],
   "source": [
    "# Just as followed in the last book\n",
    "counts = logits.exp() # to get the \"fake\" counts\n",
    "prob = counts / counts.sum(1, keepdims=True)"
   ]
  },
  {
   "cell_type": "markdown",
   "id": "e9f03910-5ab7-46e4-86fb-be54f4cd16fb",
   "metadata": {},
   "source": [
    "### 📉 Calculating the loss"
   ]
  },
  {
   "cell_type": "code",
   "execution_count": 30,
   "id": "23c44e0e-3bec-4635-b7b9-9a912dab6101",
   "metadata": {},
   "outputs": [
    {
     "data": {
      "text/plain": [
       "tensor([2.9857e-14, 1.0155e-13, 5.0859e-12, 2.1538e-09, 1.8265e-07, 3.6388e-15,\n",
       "        7.4642e-03, 2.0648e-07, 3.7912e-02, 1.6653e-05, 3.4287e-08, 1.0728e-06,\n",
       "        2.9255e-09, 8.3277e-11, 9.8566e-04, 4.2593e-06, 1.4135e-12, 1.5755e-14,\n",
       "        4.8950e-09, 3.8370e-10, 3.4157e-14, 1.2417e-10, 9.4124e-01, 4.9344e-04,\n",
       "        8.4881e-06, 1.1709e-12, 1.2482e-08, 2.3180e-10, 1.8247e-05, 1.8984e-07,\n",
       "        4.7189e-03, 7.2453e-06])"
      ]
     },
     "execution_count": 30,
     "metadata": {},
     "output_type": "execute_result"
    }
   ],
   "source": [
    "# Again, just as before\n",
    "loss = prob[range(X.shape[0]), y]\n",
    "loss"
   ]
  },
  {
   "cell_type": "markdown",
   "id": "c730057f-476d-4f05-8168-7f8e48ba1f45",
   "metadata": {},
   "source": [
    "> Which is, *from all probability, for each 32 character sets, we have plucked out the \"expected\" character's probability `y`.*"
   ]
  },
  {
   "cell_type": "code",
   "execution_count": 31,
   "id": "97fabe96-731e-4055-9163-b68e8177df0f",
   "metadata": {},
   "outputs": [
    {
     "data": {
      "text/plain": [
       "tensor(17.7475)"
      ]
     },
     "execution_count": 31,
     "metadata": {},
     "output_type": "execute_result"
    }
   ],
   "source": [
    "# Not done still... \n",
    "loss = -loss.log().mean()\n",
    "loss"
   ]
  },
  {
   "cell_type": "markdown",
   "id": "c7f28f22-92c7-4247-8fb0-bccd432d3a9d",
   "metadata": {},
   "source": [
    "Finally we have a single number which can be optimized."
   ]
  },
  {
   "cell_type": "markdown",
   "id": "e9c15d44-89ac-4736-b782-7b555aa1a00a",
   "metadata": {},
   "source": [
    "# 🔥 Boom Boom 🔥"
   ]
  },
  {
   "cell_type": "markdown",
   "id": "67288a7e-cb86-4485-b7de-2797ca84072b",
   "metadata": {},
   "source": [
    "Have you ever tried to read some paper and come across the loss function called **\"binary cross entropy loss\"**? Seriously that makes one feel anxious, worried, stressful... \n",
    "\n",
    "Even try ChatGPT for an instance:\n",
    "\n",
    "<img src=\"./Images/binary-c-entropy.png\">"
   ]
  },
  {
   "cell_type": "markdown",
   "id": "8d1fd184-ce70-4bfe-9a36-6df44ac1208e",
   "metadata": {},
   "source": [
    "Then you go to wikipedia:\n",
    "\n",
    "<img src=\"./Images/wiki.png\" width=400 height=600>"
   ]
  },
  {
   "cell_type": "markdown",
   "id": "0b8ee8fa-7906-421e-8373-58b6a1f2fc4d",
   "metadata": {},
   "source": [
    "And... you loose all hope."
   ]
  },
  {
   "cell_type": "markdown",
   "id": "cb3c3ad1-d7b8-4105-aeae-bc8da388692f",
   "metadata": {},
   "source": [
    "### 🤨 Okay, why to bring up now?\n",
    "It really gave me the roller coaster emotions, when I came to know about \"binary cross entropy\" is what we have just done. 😮\n",
    "\n",
    "> *It is just the conversion of `logits → exp → probability → log → negation → mean = binary-cross-entropy`.*\n",
    "\n",
    "**In torch, there is the single function call** which does all these in the single line - ***and faster*** - because it doesn't store the intermediary steps like *log*, *mean*, *exp* etc. "
   ]
  },
  {
   "cell_type": "code",
   "execution_count": 32,
   "id": "3924104e-1e70-4a0e-a1c8-2f95cb34446d",
   "metadata": {},
   "outputs": [],
   "source": [
    "from torch.nn.functional import cross_entropy"
   ]
  },
  {
   "cell_type": "code",
   "execution_count": 33,
   "id": "2b24df25-eed6-4c99-bd80-795b516c8855",
   "metadata": {},
   "outputs": [
    {
     "data": {
      "text/plain": [
       "torch.Size([32, 28])"
      ]
     },
     "execution_count": 33,
     "metadata": {},
     "output_type": "execute_result"
    }
   ],
   "source": [
    "# The final output of the NN, okay?\n",
    "logits.shape"
   ]
  },
  {
   "cell_type": "code",
   "execution_count": 34,
   "id": "00d46d97-29b5-4225-a56d-efa33362ae09",
   "metadata": {},
   "outputs": [
    {
     "data": {
      "text/plain": [
       "torch.Size([32])"
      ]
     },
     "execution_count": 34,
     "metadata": {},
     "output_type": "execute_result"
    }
   ],
   "source": [
    "# The target\n",
    "y.shape"
   ]
  },
  {
   "cell_type": "code",
   "execution_count": 35,
   "id": "4550d8e9-731b-4b2e-ba68-a71cd7a7e1bc",
   "metadata": {},
   "outputs": [
    {
     "data": {
      "text/plain": [
       "tensor(17.7475)"
      ]
     },
     "execution_count": 35,
     "metadata": {},
     "output_type": "execute_result"
    }
   ],
   "source": [
    "# Exactly the same! 😍✨ \n",
    "cross_entropy(logits, y)"
   ]
  },
  {
   "cell_type": "markdown",
   "id": "53a14308-47fe-4a0c-9f0c-53be0403d499",
   "metadata": {},
   "source": [
    "Better to use it instead 😉"
   ]
  },
  {
   "cell_type": "markdown",
   "id": "6aa5771a-1897-4a74-af47-f0560648c944",
   "metadata": {},
   "source": [
    "# 🚂 Training. Really. Promise."
   ]
  },
  {
   "cell_type": "code",
   "execution_count": 36,
   "id": "e02cc1d1-435b-4295-b9f8-74922f6e0570",
   "metadata": {},
   "outputs": [],
   "source": [
    "### MAKING THE DATASET ###\n",
    "block_size = 3\n",
    "sot = chr_to_number[\"<\"]\n",
    "\n",
    "X = []\n",
    "y = []\n",
    "\n",
    "for name in names[:5]: # Again, for 5 names for now.\n",
    "    window_chars = [sot] * block_size\n",
    "    name = name + \">\" # removed \"<\" from the start of the name because added before\n",
    "    \n",
    "    for ch in name:\n",
    "        _3chars = ''.join(\n",
    "            list(\n",
    "                map(lambda x:number_to_chr[x], window_chars)\n",
    "            )) # just converted [0, 0, 0] → [<, <, <] → <<<\n",
    "        ch_index = chr_to_number[ch]\n",
    "        \n",
    "        X.append(window_chars)\n",
    "        y.append(ch_index)\n",
    "        \n",
    "        # we will keep updating the last index and shift the ones before that\n",
    "        # you can use the np.roll() function here as well.\n",
    "        window_chars = window_chars[1:] + [ch_index]\n",
    "\n",
    "X = torch.tensor(X)\n",
    "y = torch.tensor(y)"
   ]
  },
  {
   "cell_type": "code",
   "execution_count": 37,
   "id": "856f0bec-af88-4781-b599-631817fd74c4",
   "metadata": {},
   "outputs": [
    {
     "data": {
      "text/plain": [
       "(torch.Size([32, 3]), torch.Size([32]))"
      ]
     },
     "execution_count": 37,
     "metadata": {},
     "output_type": "execute_result"
    }
   ],
   "source": [
    "X.shape, y.shape"
   ]
  },
  {
   "cell_type": "code",
   "execution_count": 38,
   "id": "3038a52d-d62d-4238-9af9-dd9dabbce2ea",
   "metadata": {},
   "outputs": [
    {
     "data": {
      "text/plain": [
       "tensor([[ 0.9918,  1.1556],\n",
       "        [ 0.1089,  0.1830],\n",
       "        [-1.3392,  1.2606],\n",
       "        [ 0.5458, -0.6414],\n",
       "        [-0.1967, -0.7047],\n",
       "        [ 2.0866, -1.0059],\n",
       "        [ 0.3734,  1.3685],\n",
       "        [-0.3765,  1.0569],\n",
       "        [-1.1213, -1.6820],\n",
       "        [-0.1687, -1.6064],\n",
       "        [-0.6210, -0.0761],\n",
       "        [ 0.0389, -0.6792],\n",
       "        [ 0.9774, -0.7255],\n",
       "        [-1.7353, -0.5881],\n",
       "        [-0.0547,  0.8624],\n",
       "        [-0.1494,  0.6852],\n",
       "        [-1.3502, -1.1788],\n",
       "        [ 1.2902,  1.5954],\n",
       "        [-0.5923, -0.1446],\n",
       "        [ 0.2941,  0.2218],\n",
       "        [ 0.8183, -0.4591],\n",
       "        [-2.4333, -1.0451],\n",
       "        [-0.2752, -1.6687],\n",
       "        [-1.8985,  0.3699],\n",
       "        [ 2.0820, -0.0420],\n",
       "        [-0.7028,  0.8669],\n",
       "        [-0.8526,  0.2169],\n",
       "        [-2.2359,  1.8599]])"
      ]
     },
     "execution_count": 38,
     "metadata": {},
     "output_type": "execute_result"
    }
   ],
   "source": [
    "# The same `embeddings`\n",
    "embeddings"
   ]
  },
  {
   "cell_type": "code",
   "execution_count": 39,
   "id": "9273ff3d-f645-42df-8b40-bf6f61bd52c8",
   "metadata": {},
   "outputs": [],
   "source": [
    "generator = torch.Generator().manual_seed(42)\n",
    "W1 = torch.randn((6, 100), generator=generator, requires_grad=True)\n",
    "b1 = torch.randn(100, generator=generator, requires_grad=True)\n",
    "\n",
    "W2 = torch.randn((100, 28), generator=generator, requires_grad=True)\n",
    "b2 = torch.randn(28, generator=generator, requires_grad=True)"
   ]
  },
  {
   "cell_type": "code",
   "execution_count": 40,
   "id": "dd26c4c4-77fc-4d0a-a09a-5e3d8efebd28",
   "metadata": {},
   "outputs": [],
   "source": [
    "parameters = [embeddings, W1, b1, W2, b2]"
   ]
  },
  {
   "cell_type": "code",
   "execution_count": 41,
   "id": "f588b4b2-dbd1-41b8-b560-126b87b1d4d9",
   "metadata": {},
   "outputs": [
    {
     "data": {
      "text/plain": [
       "3584"
      ]
     },
     "execution_count": 41,
     "metadata": {},
     "output_type": "execute_result"
    }
   ],
   "source": [
    "sum(p.nelement() for p in parameters)"
   ]
  },
  {
   "cell_type": "markdown",
   "id": "ef27cbc6-56c6-4ef9-aea1-b776e72e35e3",
   "metadata": {},
   "source": [
    "Alright? Total these many weights are there. **Yes,** we will take the **embeddings** as the weights here. Because that will act as our first layer."
   ]
  },
  {
   "cell_type": "markdown",
   "id": "399c5939-950b-461a-86c4-b0651963e8de",
   "metadata": {},
   "source": [
    "#### But, `embeddings` doesn't have the `reuiqres_grad=True`\n",
    "So, we will update it."
   ]
  },
  {
   "cell_type": "code",
   "execution_count": 42,
   "id": "cd73346c-7441-40be-a3b3-a3ba2b6b85d1",
   "metadata": {},
   "outputs": [],
   "source": [
    "embeddings.requires_grad = True"
   ]
  },
  {
   "cell_type": "markdown",
   "id": "a4a4c430-475f-4e7d-9a92-b8814ce7aaca",
   "metadata": {},
   "source": [
    "### All set to train."
   ]
  },
  {
   "cell_type": "code",
   "execution_count": 43,
   "id": "08333a64-5029-4392-8921-e7272cc10019",
   "metadata": {},
   "outputs": [
    {
     "name": "stdout",
     "output_type": "stream",
     "text": [
      "[0] Loss: 17.747495651245117\n",
      "[1] Loss: 14.87502384185791\n",
      "[2] Loss: 12.944549560546875\n",
      "[3] Loss: 10.998205184936523\n",
      "[4] Loss: 9.523370742797852\n",
      "[5] Loss: 8.687643051147461\n",
      "[6] Loss: 7.806678771972656\n",
      "[7] Loss: 6.521985054016113\n",
      "[8] Loss: 6.093925952911377\n",
      "[9] Loss: 5.54010009765625\n"
     ]
    }
   ],
   "source": [
    "epochs = 10\n",
    "for i in range(epochs):\n",
    "    # 1️⃣ Forward pass\n",
    "    emb = embeddings[X]\n",
    "    h = torch.tanh(emb.view(-1, 6) @ W1 + b1) # first layer\n",
    "    logits = h @ W2 + b2 # second layer\n",
    "    loss = cross_entropy(logits, y)\n",
    "    \n",
    "    # 2️⃣ Backward\n",
    "    for p in parameters:\n",
    "        p.grad = None\n",
    "    loss.backward()\n",
    "    \n",
    "    # 3️⃣ Update\n",
    "    learning_rate = 0.1\n",
    "    for p in parameters:\n",
    "        p.data += -learning_rate * p.grad\n",
    "        \n",
    "    \n",
    "    print(f\"[{i}] Loss: {loss.item()}\")"
   ]
  },
  {
   "cell_type": "markdown",
   "id": "e6cc3a4e-cf57-4ea0-9c4a-15b7c6383c29",
   "metadata": {},
   "source": [
    "Wow! Cool! Now, let's do this for **whole dataset**. Because for just 5 names, it is way too easy for the NN to learn. So, it will overfit and actually **remembers** those names."
   ]
  },
  {
   "cell_type": "markdown",
   "id": "cce53637-10e5-4718-b949-0da5bca02c38",
   "metadata": {},
   "source": [
    "## 🌎 For whole dataset"
   ]
  },
  {
   "cell_type": "code",
   "execution_count": 45,
   "id": "c44dfbaf-3f2e-460c-b8dd-7c048bab807e",
   "metadata": {},
   "outputs": [],
   "source": [
    "block_size = 3\n",
    "sot = chr_to_number[\"<\"]\n",
    "\n",
    "X = []\n",
    "y = []\n",
    "\n",
    "for name in names: #FOR ALL NAMES\n",
    "    window_chars = [sot] * block_size\n",
    "    name = name + \">\" \n",
    "    \n",
    "    for ch in name:\n",
    "        _3chars = ''.join(\n",
    "            list(\n",
    "                map(lambda x:number_to_chr[x], window_chars)\n",
    "            )) \n",
    "        ch_index = chr_to_number[ch]\n",
    "        \n",
    "        X.append(window_chars)\n",
    "        y.append(ch_index)\n",
    "        window_chars = window_chars[1:] + [ch_index]\n",
    "\n",
    "X = torch.tensor(X)\n",
    "y = torch.tensor(y)"
   ]
  },
  {
   "cell_type": "code",
   "execution_count": 46,
   "id": "249d60a8-6744-4b89-b766-f2f8149ed79c",
   "metadata": {},
   "outputs": [
    {
     "data": {
      "text/plain": [
       "(torch.Size([228146, 3]), torch.Size([228146]))"
      ]
     },
     "execution_count": 46,
     "metadata": {},
     "output_type": "execute_result"
    }
   ],
   "source": [
    "X.shape, y.shape"
   ]
  },
  {
   "cell_type": "code",
   "execution_count": 47,
   "id": "17ff4bc7-ae90-41f1-999c-5c846ab50f0f",
   "metadata": {},
   "outputs": [
    {
     "data": {
      "text/plain": [
       "tensor([[ 0.2803,  0.1146],\n",
       "        [ 0.1089,  0.1830],\n",
       "        [-1.1470,  1.1857],\n",
       "        [ 0.9748, -0.4756],\n",
       "        [-0.1967, -0.7047],\n",
       "        [ 2.0866, -1.0059],\n",
       "        [ 0.2622,  0.9332],\n",
       "        [-0.3765,  1.0569],\n",
       "        [-1.1213, -1.6820],\n",
       "        [-0.0872, -1.9114],\n",
       "        [-0.7489,  0.0975],\n",
       "        [ 0.0389, -0.6792],\n",
       "        [ 0.9774, -0.7255],\n",
       "        [-1.7160, -0.5941],\n",
       "        [-0.3791,  0.6850],\n",
       "        [-0.1494,  0.6852],\n",
       "        [-1.3895, -1.2126],\n",
       "        [ 1.3950,  1.4033],\n",
       "        [-0.5923, -0.1446],\n",
       "        [ 0.2941,  0.2218],\n",
       "        [ 0.7794, -0.2856],\n",
       "        [-2.4333, -1.0451],\n",
       "        [-0.2752, -1.6687],\n",
       "        [-1.9082,  0.2821],\n",
       "        [ 2.0820, -0.0420],\n",
       "        [-0.7028,  0.8669],\n",
       "        [-0.8526,  0.2169],\n",
       "        [-2.2359,  1.8599]], requires_grad=True)"
      ]
     },
     "execution_count": 47,
     "metadata": {},
     "output_type": "execute_result"
    }
   ],
   "source": [
    "# The same `embeddings`\n",
    "# They have changed, because of the last training. But still we will use it.\n",
    "embeddings"
   ]
  },
  {
   "cell_type": "code",
   "execution_count": 48,
   "id": "35f4013d-fb27-4579-88c3-57b5b89976d2",
   "metadata": {},
   "outputs": [],
   "source": [
    "generator = torch.Generator().manual_seed(42)\n",
    "W1 = torch.randn((6, 100), generator=generator, requires_grad=True)\n",
    "b1 = torch.randn(100, generator=generator, requires_grad=True)\n",
    "\n",
    "W2 = torch.randn((100, 28), generator=generator, requires_grad=True)\n",
    "b2 = torch.randn(28, generator=generator, requires_grad=True)\n",
    "\n",
    "parameters = [embeddings, W1, b1, W2, b2]"
   ]
  },
  {
   "cell_type": "code",
   "execution_count": 56,
   "id": "90923aa8-4fc5-4e25-8736-796ef61cd70b",
   "metadata": {},
   "outputs": [
    {
     "name": "stdout",
     "output_type": "stream",
     "text": [
      "[0] Loss: 3.148758888244629\n",
      "[1] Loss: 3.0787291526794434\n",
      "[2] Loss: 3.096921920776367\n",
      "[3] Loss: 3.105207920074463\n",
      "[4] Loss: 3.1489291191101074\n",
      "[5] Loss: 3.072467088699341\n",
      "[6] Loss: 3.073084592819214\n",
      "[7] Loss: 3.086663007736206\n",
      "[8] Loss: 3.131025791168213\n",
      "[9] Loss: 3.044574499130249\n"
     ]
    }
   ],
   "source": [
    "epochs = 10\n",
    "for i in range(epochs):\n",
    "    # 1️⃣ Forward pass\n",
    "    emb = embeddings[X]\n",
    "    h = torch.tanh(emb.view(-1, 6) @ W1 + b1) # first layer\n",
    "    logits = h @ W2 + b2 # second layer\n",
    "    loss = cross_entropy(logits, y)\n",
    "    \n",
    "    # 2️⃣ Backward\n",
    "    for p in parameters:\n",
    "        p.grad = None\n",
    "    loss.backward()\n",
    "    \n",
    "    # 3️⃣ Update\n",
    "    learning_rate = 0.3 # [Started with 0.5 then changed to 0.3, 0.2]\n",
    "    for p in parameters:\n",
    "        p.data += -learning_rate * p.grad\n",
    "        \n",
    "    \n",
    "    print(f\"[{i}] Loss: {loss.item()}\")"
   ]
  },
  {
   "cell_type": "markdown",
   "id": "6dc957d2-33bf-481b-8047-d5d4588bbbe2",
   "metadata": {},
   "source": [
    "Alright, now we have something really good loss here. After 6-7 training loops of 10 epochs, we have this loss."
   ]
  },
  {
   "cell_type": "markdown",
   "id": "e40e339f-262a-4d62-9075-bb38212fdaba",
   "metadata": {},
   "source": [
    "# 📸 A snapshot of characters\n",
    "Finally now, we are **ready** to see how and which characters are similar and come together. *(\"similar\" isn't the right word to use when talking about the characters)*."
   ]
  },
  {
   "cell_type": "code",
   "execution_count": 55,
   "id": "00623c6e-9659-4557-973d-ee31914f00af",
   "metadata": {},
   "outputs": [
    {
     "data": {
      "image/png": "[encoded data removed]",
      "text/plain": [
       "<Figure size 576x360 with 1 Axes>"
      ]
     },
     "metadata": {
      "needs_background": "light"
     },
     "output_type": "display_data"
    }
   ],
   "source": [
    "plt.figure(figsize=(8, 5))\n",
    "plt.scatter(embeddings[:, 0].detach().numpy(), \n",
    "            embeddings[:, 1].detach().numpy(), marker='.')\n",
    "\n",
    "for i in range(28):\n",
    "    chr_ = number_to_chr[i]\n",
    "    embd = embeddings[i]\n",
    "    plt.text(embd[0], embd[1], chr_, fontdict={\"size\":12})\n",
    "    \n",
    "plt.title(\"Character distance after training [not-random]\");"
   ]
  },
  {
   "cell_type": "markdown",
   "id": "2e4796d2-07e4-49f1-bd13-8ae7533a4113",
   "metadata": {},
   "source": [
    "**Interesting!**\n",
    "\n",
    "- We have the characters like `a`, `c`, `n`, `f` which are similar and often come together\n",
    "- While the `<` and `>` are the farthest!\n",
    "- `<` and `b` are also nearby with `q` and `d`.\n",
    "\n",
    "👉 Of course, this chart of characters isn't that much interpretable enough than what we would have done **for the words**. That will be much more interesting to see!"
   ]
  },
  {
   "cell_type": "markdown",
   "id": "8593d9dc-45aa-4813-b998-f483bd88a2bc",
   "metadata": {},
   "source": [
    "# 📦 Batching!\n",
    "▶ Whole flow is like *(currently)*: \n",
    "- Give all `228146` sets of 3 to the network\n",
    "- Predict their next token (all 228146)\n",
    "- Compare with the expected\n",
    "- Calculate the loss and then do the back prop.\n",
    "\n",
    "**Suppose** instead of this 228146 training only, have billion, even trillion of data? Which is the reality of the GPT-3 and other LLMs. They have been trained on trillions of tokens. \n",
    "\n",
    "Doing this, on all dataset for multiple epochs will take much much longer to compute. *(In the GPT-3 type of LLMs, the epochs are not this crazy 10, 100 they are in a smaller number 😉)*.\n",
    "\n",
    "So, we will perform the training in **batches**.\n",
    "\n",
    "> **NOTE**: What Andrej shows in his [clip](https://youtube.com/clip/UgkxMv-qyfYde5ADR_IZToPBbYuHTdzKmANa) is the **mini-batch** approach. It is where **we randomly** select some `n` rows from the data `X` and use those only in the training. <br><br> While another approach is **not to use rows at random** but partition the data in `n` chunks, and use them for training. For each partition we will perform the backprop.\n",
    "\n",
    "But, for this lecture, let's focus on the **mini-batch** approach ✌\n",
    "\n",
    "▶ Whole flow *will* be like: \n",
    "- From all `228146` sets of 3 training data, sample `n` rows and give to the network.\n",
    "- Predict their next token (all `n` samples)\n",
    "- Compare with the expected\n",
    "- Calculate the loss and then do the back prop."
   ]
  },
  {
   "cell_type": "code",
   "execution_count": 59,
   "id": "fc14faa5-9fb1-4104-af22-36b21c95552a",
   "metadata": {},
   "outputs": [],
   "source": [
    "generator = torch.Generator().manual_seed(42)\n",
    "\n",
    "# Starting with the fresh embeddings 😏\n",
    "embeddings = torch.randn((28, 2), generator=generator, requires_grad=True)\n",
    "W1 = torch.randn((6, 100), generator=generator, requires_grad=True)\n",
    "b1 = torch.randn(100, generator=generator, requires_grad=True)\n",
    "\n",
    "W2 = torch.randn((100, 28), generator=generator, requires_grad=True)\n",
    "b2 = torch.randn(28, generator=generator, requires_grad=True)\n",
    "\n",
    "parameters = [embeddings, W1, b1, W2, b2]"
   ]
  },
  {
   "cell_type": "code",
   "execution_count": 60,
   "id": "04bfa70a-f2c4-4571-9340-b5030d1ddf5b",
   "metadata": {},
   "outputs": [],
   "source": [
    "losses = []"
   ]
  },
  {
   "cell_type": "code",
   "execution_count": 103,
   "id": "cb9823ce-60e0-4dbb-9882-7e4e5c769f17",
   "metadata": {},
   "outputs": [
    {
     "name": "stdout",
     "output_type": "stream",
     "text": [
      "[0] Loss: 2.618518590927124\n",
      "[1] Loss: 2.6600446701049805\n",
      "[2] Loss: 2.485013723373413\n",
      "[3] Loss: 2.722689628601074\n",
      "[4] Loss: 2.399287462234497\n",
      "[5] Loss: 2.7644758224487305\n",
      "[6] Loss: 2.677192449569702\n",
      "[7] Loss: 2.4680988788604736\n",
      "[8] Loss: 2.918463706970215\n",
      "[9] Loss: 2.615480422973633\n"
     ]
    }
   ],
   "source": [
    "batch_size = 32 # just any number - but smaller than 228146 ;)\n",
    "epochs = 10\n",
    "\n",
    "for i in range(epochs):\n",
    "    # Data Sampling\n",
    "    sample_idx = torch.randint(0, X.shape[0], (32,), generator=generator)\n",
    "    \n",
    "    # 1️⃣ Forward pass\n",
    "    emb = embeddings[X[sample_idx]] ### CHANGE HERE ###\n",
    "    h = torch.tanh(emb.view(-1, 6) @ W1 + b1)\n",
    "    logits = h @ W2 + b2 \n",
    "    loss = cross_entropy(logits, y[sample_idx]) ### CHANGE HERE ###\n",
    "    \n",
    "    # 2️⃣ Backward\n",
    "    for p in parameters:\n",
    "        p.grad = None\n",
    "    loss.backward()\n",
    "    \n",
    "    # 3️⃣ Update\n",
    "    learning_rate = 0.02 \n",
    "    for p in parameters:\n",
    "        p.data += -learning_rate * p.grad\n",
    "        \n",
    "    \n",
    "    print(f\"[{i}] Loss: {loss.item()}\")\n",
    "    losses.append(loss.item())"
   ]
  },
  {
   "cell_type": "markdown",
   "id": "2db812ce-c941-46a1-9cc4-af9a2377a787",
   "metadata": {},
   "source": [
    "After so many re-reuns, we have this loss."
   ]
  },
  {
   "cell_type": "code",
   "execution_count": 104,
   "id": "32ce1f01-47e6-4fb5-ae01-b5be8ca04f0c",
   "metadata": {},
   "outputs": [
    {
     "data": {
      "image/png": "[encoded data removed]",
      "text/plain": [
       "<Figure size 432x288 with 1 Axes>"
      ]
     },
     "metadata": {
      "needs_background": "light"
     },
     "output_type": "display_data"
    }
   ],
   "source": [
    "plt.plot(losses)\n",
    "plt.title(\"See, the losses are not descending smoothly\");"
   ]
  },
  {
   "cell_type": "markdown",
   "id": "11bf6c6c-56fe-4aad-b7e8-76706cd8995e",
   "metadata": {},
   "source": [
    "**But** the process was really quick! Once more, let's check the embeddings."
   ]
  },
  {
   "cell_type": "code",
   "execution_count": 105,
   "id": "3951132d-6d98-4c6a-b5e8-988791452597",
   "metadata": {},
   "outputs": [
    {
     "data": {
      "image/png": "[encoded data removed]",
      "text/plain": [
       "<Figure size 576x360 with 1 Axes>"
      ]
     },
     "metadata": {
      "needs_background": "light"
     },
     "output_type": "display_data"
    }
   ],
   "source": [
    "plt.figure(figsize=(8, 5))\n",
    "plt.scatter(embeddings[:, 0].detach().numpy(), \n",
    "            embeddings[:, 1].detach().numpy(), marker='.')\n",
    "\n",
    "for i in range(28):\n",
    "    chr_ = number_to_chr[i]\n",
    "    embd = embeddings[i]\n",
    "    plt.text(embd[0], embd[1], chr_, fontdict={\"size\":12})\n",
    "    \n",
    "plt.title(\"Character distance after training [not-random]\");"
   ]
  },
  {
   "cell_type": "markdown",
   "id": "b1c6c7b1-62ea-45ed-ae5b-f1a0e119b220",
   "metadata": {},
   "source": [
    "Alright, this time... we have a different picture. But still the model has managed to **seperate** the special tokens!"
   ]
  },
  {
   "cell_type": "code",
   "execution_count": 106,
   "id": "dbffa69d-5642-434e-a375-be3d7a610242",
   "metadata": {},
   "outputs": [
    {
     "data": {
      "text/plain": [
       "tensor(2.6728, grad_fn=<NllLossBackward0>)"
      ]
     },
     "execution_count": 106,
     "metadata": {},
     "output_type": "execute_result"
    }
   ],
   "source": [
    "# And on WHOLE dataset? What is the loss? Should we stop now?\n",
    "emb = embeddings[X]\n",
    "h = torch.tanh(emb.view(-1, 6) @ W1 + b1)\n",
    "logits = h @ W2 + b2 \n",
    "loss = cross_entropy(logits, y)\n",
    "loss"
   ]
  },
  {
   "cell_type": "markdown",
   "id": "4d36b152-68a5-43e4-b31a-0fbb7e4dcb3f",
   "metadata": {},
   "source": [
    "It is `3` ish... loss."
   ]
  },
  {
   "cell_type": "markdown",
   "id": "41a01ad0-8c93-4725-984d-6b7e6731d1fc",
   "metadata": {},
   "source": [
    "## When to know it is enough?\n",
    "Here Andrej shows one of the ways that can be used — try all of them and see what works best.\n",
    "\n",
    "1. **Define what is the lowest learning rate**: the one which doesn't improve the loss *(very very tiny improvement)*.\n",
    "2. **Define what is the high learning rate**:  the one which blasts the loss, sometime the loss is too low while too high other times\n",
    "3. **Get different learning rates**: between these low and high intervals\n",
    "4. **Try all of them**: so that we get some \"elbow\" chart.\n",
    "\n",
    "> I belive his trials for finding the optimal learning rate is very well explained in [this](https://youtube.com/clip/UgkxQ2H09n2AK-tKvpV4o9A5Y_EvPRAU4yEC) clip. However, we will try that as well in our code."
   ]
  },
  {
   "cell_type": "code",
   "execution_count": 111,
   "id": "eca7f589-896b-404c-ae60-6bccf8b57e8a",
   "metadata": {},
   "outputs": [],
   "source": [
    "generator = torch.Generator().manual_seed(42)\n",
    "\n",
    "# Starting with the fresh embeddings 😏\n",
    "embeddings = torch.randn((28, 2), generator=generator, requires_grad=True)\n",
    "W1 = torch.randn((6, 100), generator=generator, requires_grad=True)\n",
    "b1 = torch.randn(100, generator=generator, requires_grad=True)\n",
    "\n",
    "W2 = torch.randn((100, 28), generator=generator, requires_grad=True)\n",
    "b2 = torch.randn(28, generator=generator, requires_grad=True)\n",
    "\n",
    "parameters = [embeddings, W1, b1, W2, b2]"
   ]
  },
  {
   "cell_type": "code",
   "execution_count": 112,
   "id": "5c49d819-7805-4847-957c-12ca8cf2bb11",
   "metadata": {},
   "outputs": [
    {
     "name": "stdout",
     "output_type": "stream",
     "text": [
      "[0] Loss: 14.782527923583984\n",
      "[1] Loss: 13.998558044433594\n",
      "[2] Loss: 12.48405647277832\n",
      "[3] Loss: 8.488659858703613\n",
      "[4] Loss: 8.61085033416748\n",
      "[5] Loss: 9.467575073242188\n",
      "[6] Loss: 12.204753875732422\n",
      "[7] Loss: 11.550914764404297\n",
      "[8] Loss: 10.060081481933594\n",
      "[9] Loss: 12.084990501403809\n",
      "[10] Loss: 14.216203689575195\n",
      "[11] Loss: 11.00980281829834\n",
      "[12] Loss: 10.187737464904785\n",
      "[13] Loss: 10.34494400024414\n",
      "[14] Loss: 7.457319259643555\n",
      "[15] Loss: 10.349586486816406\n",
      "[16] Loss: 11.416388511657715\n",
      "[17] Loss: 9.988653182983398\n",
      "[18] Loss: 10.212839126586914\n",
      "[19] Loss: 9.120953559875488\n",
      "[20] Loss: 10.300275802612305\n",
      "[21] Loss: 8.229862213134766\n",
      "[22] Loss: 7.1749348640441895\n",
      "[23] Loss: 7.8229899406433105\n",
      "[24] Loss: 8.310338020324707\n",
      "[25] Loss: 9.062294960021973\n",
      "[26] Loss: 9.73953914642334\n",
      "[27] Loss: 12.004658699035645\n",
      "[28] Loss: 14.401727676391602\n",
      "[29] Loss: 9.142486572265625\n",
      "[30] Loss: 8.813543319702148\n",
      "[31] Loss: 9.314979553222656\n",
      "[32] Loss: 9.155377388000488\n",
      "[33] Loss: 7.9735822677612305\n",
      "[34] Loss: 7.510129928588867\n",
      "[35] Loss: 5.834676265716553\n",
      "[36] Loss: 8.154004096984863\n",
      "[37] Loss: 8.091146469116211\n",
      "[38] Loss: 6.933279037475586\n",
      "[39] Loss: 5.47251558303833\n",
      "[40] Loss: 6.8321533203125\n",
      "[41] Loss: 8.927688598632812\n",
      "[42] Loss: 7.415924072265625\n",
      "[43] Loss: 7.776941776275635\n",
      "[44] Loss: 6.865298271179199\n",
      "[45] Loss: 7.598659038543701\n",
      "[46] Loss: 6.929754734039307\n",
      "[47] Loss: 7.098118782043457\n",
      "[48] Loss: 10.06579303741455\n",
      "[49] Loss: 7.153841495513916\n"
     ]
    }
   ],
   "source": [
    "batch_size = 32 # just any number - but smaller than 228146 ;)\n",
    "epochs = 50\n",
    "\n",
    "for i in range(epochs):\n",
    "    # Data Sampling\n",
    "    sample_idx = torch.randint(0, X.shape[0], (32,), generator=generator)\n",
    "    \n",
    "    # 1️⃣ Forward pass\n",
    "    emb = embeddings[X[sample_idx]] \n",
    "    h = torch.tanh(emb.view(-1, 6) @ W1 + b1)\n",
    "    logits = h @ W2 + b2 \n",
    "    loss = cross_entropy(logits, y[sample_idx]) \n",
    "    \n",
    "    # 2️⃣ Backward\n",
    "    for p in parameters:\n",
    "        p.grad = None\n",
    "    loss.backward()\n",
    "    \n",
    "    # 3️⃣ Update\n",
    "    learning_rate = 1 # Too low or too high change here.\n",
    "    for p in parameters:\n",
    "        p.data += -learning_rate * p.grad\n",
    "        \n",
    "    \n",
    "    print(f\"[{i}] Loss: {loss.item()}\")"
   ]
  },
  {
   "cell_type": "markdown",
   "id": "9afa88c8-a08a-49d2-8431-52029dbf1218",
   "metadata": {},
   "source": [
    "Low learning rate = `0.001` and high is `1`. So we will get *linearly* spaced numbers which represent the learning rates."
   ]
  },
  {
   "cell_type": "code",
   "execution_count": 120,
   "id": "386dbd1a-7ae2-4c23-87b1-3eb9a9d148e1",
   "metadata": {},
   "outputs": [
    {
     "data": {
      "text/plain": [
       "tensor([0.0010, 0.0020, 0.0030, 0.0040, 0.0050])"
      ]
     },
     "execution_count": 120,
     "metadata": {},
     "output_type": "execute_result"
    }
   ],
   "source": [
    "linear_learning_rates = torch.linspace(0.001, 1, 1000)\n",
    "linear_learning_rates[:5]"
   ]
  },
  {
   "cell_type": "code",
   "execution_count": 122,
   "id": "ce796a0e-7908-4fd8-a0de-e03272c74ea4",
   "metadata": {},
   "outputs": [
    {
     "data": {
      "image/png": "[encoded data removed]",
      "text/plain": [
       "<Figure size 432x288 with 1 Axes>"
      ]
     },
     "metadata": {
      "needs_background": "light"
     },
     "output_type": "display_data"
    }
   ],
   "source": [
    "plt.plot(linear_learning_rates);"
   ]
  },
  {
   "cell_type": "markdown",
   "id": "48b433db-c5ac-43dc-9b42-196d4b112455",
   "metadata": {},
   "source": [
    "___\n",
    "> ⚠ **Numpy alternative:** `np.linspace(0.001, 1, 1000)`\n",
    "___"
   ]
  },
  {
   "cell_type": "code",
   "execution_count": 123,
   "id": "613002c7-3e5f-420b-b4ac-672355b9c20a",
   "metadata": {},
   "outputs": [
    {
     "data": {
      "image/png": "[encoded data removed]",
      "text/plain": [
       "<Figure size 432x288 with 1 Axes>"
      ]
     },
     "metadata": {
      "needs_background": "light"
     },
     "output_type": "display_data"
    }
   ],
   "source": [
    "exp_learning_rates = torch.linspace(-3, 0, 1000)\n",
    "exp_learning_rates = 10**exp_learning_rates\n",
    "plt.plot(exp_learning_rates);"
   ]
  },
  {
   "cell_type": "markdown",
   "id": "5c7d1fdd-ff07-4a58-add6-c31c5b551eef",
   "metadata": {},
   "source": [
    "> Using the **exp** learning rates will benefit because the magnitude of them will rise slowly and we will be able to see how progress we are making on each step."
   ]
  },
  {
   "cell_type": "code",
   "execution_count": 130,
   "id": "98653398-2eac-422c-a858-5965bd38da69",
   "metadata": {},
   "outputs": [],
   "source": [
    "generator = torch.Generator().manual_seed(42)\n",
    "\n",
    "# Starting with the fresh embeddings 😏\n",
    "embeddings = torch.randn((28, 2), generator=generator, requires_grad=True)\n",
    "W1 = torch.randn((6, 100), generator=generator, requires_grad=True)\n",
    "b1 = torch.randn(100, generator=generator, requires_grad=True)\n",
    "\n",
    "W2 = torch.randn((100, 28), generator=generator, requires_grad=True)\n",
    "b2 = torch.randn(28, generator=generator, requires_grad=True)\n",
    "\n",
    "parameters = [embeddings, W1, b1, W2, b2]"
   ]
  },
  {
   "cell_type": "code",
   "execution_count": 131,
   "id": "dc0efa45-098a-4cc4-a414-d492efbbba47",
   "metadata": {
    "tags": []
   },
   "outputs": [],
   "source": [
    "batch_size = 32 \n",
    "epochs = 1000 # this should be the sames as total learning rates defined :)\n",
    "losses = []\n",
    "\n",
    "for i in range(epochs):\n",
    "    # Data Sampling\n",
    "    sample_idx = torch.randint(0, X.shape[0], (32,), generator=generator)\n",
    "    \n",
    "    # 1️⃣ Forward pass\n",
    "    emb = embeddings[X[sample_idx]] \n",
    "    h = torch.tanh(emb.view(-1, 6) @ W1 + b1)\n",
    "    logits = h @ W2 + b2 \n",
    "    loss = cross_entropy(logits, y[sample_idx]) \n",
    "    \n",
    "    # 2️⃣ Backward\n",
    "    for p in parameters:\n",
    "        p.grad = None\n",
    "    loss.backward()\n",
    "    \n",
    "    # 3️⃣ Update\n",
    "    learning_rate = exp_learning_rates[i]\n",
    "    for p in parameters:\n",
    "        p.data += -learning_rate * p.grad\n",
    "        \n",
    "    losses.append(loss.item())"
   ]
  },
  {
   "cell_type": "code",
   "execution_count": 164,
   "id": "390e1143-3902-455b-a19a-c9683bed18ba",
   "metadata": {},
   "outputs": [
    {
     "data": {
      "image/png": "[encoded data removed]",
      "text/plain": [
       "<Figure size 2000x600 with 1 Axes>"
      ]
     },
     "metadata": {
      "needs_background": "light"
     },
     "output_type": "display_data"
    }
   ],
   "source": [
    "plt.figure(figsize=(10, 3), dpi=200)\n",
    "plt.plot(exp_learning_rates, losses, lw=.6)\n",
    "plt.xticks(np.arange(0.0, 1.0, 0.03), rotation=45, fontsize=6)\n",
    "plt.yticks(fontsize=6);"
   ]
  },
  {
   "cell_type": "markdown",
   "id": "df3549e7-6ff5-4fa5-8e32-e5f2f2045602",
   "metadata": {},
   "source": [
    "It seems to be a good learning rate is between `0.01` to `0.03`. "
   ]
  },
  {
   "cell_type": "markdown",
   "id": "7ff706fc-9099-4577-9f59-c399df472909",
   "metadata": {},
   "source": [
    "### Assuming 0.01 is good one..."
   ]
  },
  {
   "cell_type": "code",
   "execution_count": 165,
   "id": "85e6ac5a-d923-4270-93f0-49aede2ec6da",
   "metadata": {},
   "outputs": [],
   "source": [
    "batch_size = 32 \n",
    "epochs = 50_000\n",
    "losses = []\n",
    "\n",
    "for i in range(epochs):\n",
    "    # Data Sampling\n",
    "    sample_idx = torch.randint(0, X.shape[0], (32,), generator=generator)\n",
    "    \n",
    "    # 1️⃣ Forward pass\n",
    "    emb = embeddings[X[sample_idx]] \n",
    "    h = torch.tanh(emb.view(-1, 6) @ W1 + b1)\n",
    "    logits = h @ W2 + b2 \n",
    "    loss = cross_entropy(logits, y[sample_idx]) \n",
    "    \n",
    "    # 2️⃣ Backward\n",
    "    for p in parameters:\n",
    "        p.grad = None\n",
    "    loss.backward()\n",
    "    \n",
    "    # 3️⃣ Update\n",
    "    learning_rate = 0.01\n",
    "    for p in parameters:\n",
    "        p.data += -learning_rate * p.grad\n",
    "        \n",
    "    losses.append(loss.item())"
   ]
  },
  {
   "cell_type": "markdown",
   "id": "ac413c05-e9a3-4ae9-8863-d85d8d8ed0b7",
   "metadata": {},
   "source": [
    "Went too far for `50_000` epochs!"
   ]
  },
  {
   "cell_type": "code",
   "execution_count": 174,
   "id": "cf5b7cfe-1d85-4018-9c0c-e1df999460cd",
   "metadata": {},
   "outputs": [
    {
     "data": {
      "image/png": "[encoded data removed]",
      "text/plain": [
       "<Figure size 2000x600 with 1 Axes>"
      ]
     },
     "metadata": {
      "needs_background": "light"
     },
     "output_type": "display_data"
    }
   ],
   "source": [
    "plt.figure(figsize=(10, 3), dpi=200)\n",
    "plt.plot(losses, lw=0.1)\n",
    "\n",
    "\n",
    "# And on WHOLE dataset? What is the loss? Should we stop now?\n",
    "emb = embeddings[X]\n",
    "h = torch.tanh(emb.view(-1, 6) @ W1 + b1)\n",
    "logits = h @ W2 + b2 \n",
    "final_loss = cross_entropy(logits, y)\n",
    "final_loss\n",
    "\n",
    "plt.title(f\"The final loss on the whole dataset is {round(final_loss.item(), 3)}\")\n",
    "plt.xlabel(\"← epoch →\")\n",
    "plt.ylabel(\"← loss →\");"
   ]
  },
  {
   "cell_type": "markdown",
   "id": "ffc9f871-2999-4ded-8b23-27c992913b08",
   "metadata": {},
   "source": [
    "ALright, the loss is low `2.499`."
   ]
  },
  {
   "cell_type": "markdown",
   "id": "891fa3c5-25fe-422d-8d68-1a685224d3ae",
   "metadata": {},
   "source": [
    "# 🪓 Recall Train - Test - Split!?"
   ]
  },
  {
   "cell_type": "markdown",
   "id": "6a935dae-b50f-45ec-9164-5a4924cbdb80",
   "metadata": {},
   "source": [
    "> Please access \"the trouble with\" using whole dataset [in this clip](https://youtube.com/clip/Ugkx2lP1nJzI7jhfPA7pEvmnNbLSwHXIrfHF).\n",
    "\n",
    "We will start by splitting the dataset directly :)"
   ]
  },
  {
   "cell_type": "code",
   "execution_count": 175,
   "id": "7139056a-5090-4603-9526-577dd34c1792",
   "metadata": {},
   "outputs": [],
   "source": [
    "def build_dataset(shuffled_names):\n",
    "    block_size = 3\n",
    "    sot = chr_to_number[\"<\"]\n",
    "\n",
    "    X = []\n",
    "    y = []\n",
    "\n",
    "    for name in shuffled_names: #FOR ALL NAMES\n",
    "        window_chars = [sot] * block_size\n",
    "        name = name + \">\" \n",
    "\n",
    "        for ch in name:\n",
    "            _3chars = ''.join(\n",
    "                list(\n",
    "                    map(lambda x:number_to_chr[x], window_chars)\n",
    "                )) \n",
    "            ch_index = chr_to_number[ch]\n",
    "\n",
    "            X.append(window_chars)\n",
    "            y.append(ch_index)\n",
    "            window_chars = window_chars[1:] + [ch_index]\n",
    "\n",
    "    X = torch.tensor(X)\n",
    "    y = torch.tensor(y)\n",
    "    return X, y"
   ]
  },
  {
   "cell_type": "code",
   "execution_count": 183,
   "id": "273e1152-ef2c-4da3-815e-4e075ca0b09c",
   "metadata": {},
   "outputs": [],
   "source": [
    "import random\n",
    "random.seed(42)\n",
    "random.shuffle(names) # In-place shuffling. No longer first word will be \"emma\""
   ]
  },
  {
   "cell_type": "code",
   "execution_count": 184,
   "id": "333d11bc-a6af-4c44-8c0d-c3514c0ee049",
   "metadata": {},
   "outputs": [
    {
     "data": {
      "text/plain": [
       "['yuheng', 'diondre', 'xavien', 'jori', 'juanluis']"
      ]
     },
     "execution_count": 184,
     "metadata": {},
     "output_type": "execute_result"
    }
   ],
   "source": [
    "names[:5]"
   ]
  },
  {
   "cell_type": "code",
   "execution_count": 187,
   "id": "98c071e5-b7c5-4a69-b2cf-70c1fe052f6e",
   "metadata": {},
   "outputs": [
    {
     "data": {
      "text/plain": [
       "(25626, 28829)"
      ]
     },
     "execution_count": 187,
     "metadata": {},
     "output_type": "execute_result"
    }
   ],
   "source": [
    "train_idx = int(0.8 * len(names)) # 80%\n",
    "val_idx = int(0.9 * len(names)) # 90% - 80% = 10%\n",
    "\n",
    "train_idx, val_idx"
   ]
  },
  {
   "cell_type": "code",
   "execution_count": 188,
   "id": "02f4bb35-2c3b-440c-8c20-4a5d3aa758d9",
   "metadata": {},
   "outputs": [],
   "source": [
    "Xtrain, ytrain = build_dataset(names[:train_idx])\n",
    "Xval, yval = build_dataset(names[train_idx:val_idx])\n",
    "Xtest, ytest = build_dataset(names[val_idx:])"
   ]
  },
  {
   "cell_type": "code",
   "execution_count": 201,
   "id": "b95fd07e-3f23-4a91-9c61-06301124485c",
   "metadata": {},
   "outputs": [
    {
     "name": "stdout",
     "output_type": "stream",
     "text": [
      "* Xtrain.shape = torch.Size([182625, 3])\n",
      "* Xval.shape = torch.Size([22655, 3])\n",
      "* Xtest.shape = torch.Size([22866, 3])\n"
     ]
    }
   ],
   "source": [
    "print(f\"* {Xtrain.shape = }\\n* {Xval.shape = }\\n* {Xtest.shape = }\")"
   ]
  },
  {
   "cell_type": "markdown",
   "id": "0de45ebe-cff0-4ab9-84c2-509d2104884d",
   "metadata": {},
   "source": [
    "# 👷‍♂️Training with Train-Test-Val split!"
   ]
  },
  {
   "cell_type": "markdown",
   "id": "11167996-2831-4e31-b480-9aea5e9d3d4c",
   "metadata": {},
   "source": [
    "### 1️⃣ Train using `Xtrain`"
   ]
  },
  {
   "cell_type": "code",
   "execution_count": 225,
   "id": "d617f297-d015-4ca5-9766-255e73b3cdf4",
   "metadata": {},
   "outputs": [],
   "source": [
    "generator = torch.Generator().manual_seed(42)\n",
    "\n",
    "# Starting with the fresh embeddings 😏\n",
    "embeddings = torch.randn((28, 2), generator=generator, requires_grad=True)\n",
    "W1 = torch.randn((6, 100), generator=generator, requires_grad=True)\n",
    "b1 = torch.randn(100, generator=generator, requires_grad=True)\n",
    "\n",
    "W2 = torch.randn((100, 28), generator=generator, requires_grad=True)\n",
    "b2 = torch.randn(28, generator=generator, requires_grad=True)\n",
    "\n",
    "parameters = [embeddings, W1, b1, W2, b2]"
   ]
  },
  {
   "cell_type": "code",
   "execution_count": 226,
   "id": "bb2fe5bf-a5d2-41e5-97f3-941053899f38",
   "metadata": {},
   "outputs": [],
   "source": [
    "losses = []"
   ]
  },
  {
   "cell_type": "code",
   "execution_count": 230,
   "id": "5f382481-a53b-48be-b48a-b9c62c915d9d",
   "metadata": {},
   "outputs": [],
   "source": [
    "batch_size = 32 \n",
    "epochs = 10_000\n",
    "\n",
    "\n",
    "for i in range(epochs):\n",
    "    # Data Sampling (FROM XTRAIN ONLY)\n",
    "    sample_idx = torch.randint(0, Xtrain.shape[0], (32,), generator=generator)\n",
    "    \n",
    "    # 1️⃣ Forward pass\n",
    "    emb = embeddings[Xtrain[sample_idx]] \n",
    "    h = torch.tanh(emb.view(-1, 6) @ W1 + b1)\n",
    "    logits = h @ W2 + b2 \n",
    "    loss = cross_entropy(logits, ytrain[sample_idx]) \n",
    "    \n",
    "    # 2️⃣ Backward\n",
    "    for p in parameters:\n",
    "        p.grad = None\n",
    "    loss.backward()\n",
    "    \n",
    "    # 3️⃣ Update\n",
    "    learning_rate = 0.01\n",
    "    for p in parameters:\n",
    "        p.data += -learning_rate * p.grad\n",
    "        \n",
    "    losses.append(loss.item())"
   ]
  },
  {
   "cell_type": "code",
   "execution_count": 231,
   "id": "ff1f29a1-716f-4fc3-858a-bd599ab588d4",
   "metadata": {},
   "outputs": [
    {
     "data": {
      "image/png": "[encoded data removed]",
      "text/plain": [
       "<Figure size 432x288 with 1 Axes>"
      ]
     },
     "metadata": {
      "needs_background": "light"
     },
     "output_type": "display_data"
    }
   ],
   "source": [
    "plt.plot(losses, lw=0.1)\n",
    "plt.title(\"Training loss\");"
   ]
  },
  {
   "cell_type": "code",
   "execution_count": 232,
   "id": "fc8513c4-e29c-4df3-a11a-bb67e5a0d22f",
   "metadata": {},
   "outputs": [
    {
     "data": {
      "text/plain": [
       "2.2008938789367676"
      ]
     },
     "execution_count": 232,
     "metadata": {},
     "output_type": "execute_result"
    }
   ],
   "source": [
    "losses[-1]"
   ]
  },
  {
   "cell_type": "markdown",
   "id": "42228ed1-eff9-44d9-8c02-db1d839e823b",
   "metadata": {},
   "source": [
    "### 2️⃣ Evaluate using `Xval`"
   ]
  },
  {
   "cell_type": "code",
   "execution_count": 233,
   "id": "ddc1e357-0fc5-4580-8060-879b4aea2951",
   "metadata": {},
   "outputs": [
    {
     "data": {
      "text/plain": [
       "tensor(2.3927, grad_fn=<NllLossBackward0>)"
      ]
     },
     "execution_count": 233,
     "metadata": {},
     "output_type": "execute_result"
    }
   ],
   "source": [
    "emb = embeddings[Xval]\n",
    "h = torch.tanh(emb.view(-1, 6) @ W1 + b1)\n",
    "logits = h @ W2 + b2 \n",
    "final_loss = cross_entropy(logits, yval)\n",
    "final_loss"
   ]
  },
  {
   "cell_type": "markdown",
   "id": "e9b0b64d-d6fd-4c8e-9aa2-e08ebcf8430d",
   "metadata": {},
   "source": [
    "Good!"
   ]
  },
  {
   "cell_type": "markdown",
   "id": "01c1a116-ff74-439d-8fdf-cdf3ef47983e",
   "metadata": {},
   "source": [
    "## Woa, woa, woa!\n",
    "We are **underfitting**!?\n",
    "\n",
    "The losses on the training and dev sets are equal. Andrej gives the reason that \"the model isn't able to purely memorize\" the data. So we can expect more from the model by **increasing** the size of the model.\n",
    "\n",
    "*(At this point, I am not sure why to increase the size because model seems to do a decent job. But let's get along with the lecture)*."
   ]
  },
  {
   "cell_type": "markdown",
   "id": "7ca71143-0e16-4c20-bcc5-c253b4c16fc2",
   "metadata": {},
   "source": [
    "### 1️⃣ Train using `Xtrain` - Changed model architecture"
   ]
  },
  {
   "cell_type": "code",
   "execution_count": 240,
   "id": "24b96758-d158-4156-aabd-7b5a6eb575c7",
   "metadata": {},
   "outputs": [],
   "source": [
    "generator = torch.Generator().manual_seed(42)\n",
    "\n",
    "# Starting with the fresh embeddings 😏\n",
    "embeddings = torch.randn((28, 2), generator=generator, requires_grad=True)\n",
    "W1 = torch.randn((6, 300), generator=generator, requires_grad=True) # Changed the output params 300\n",
    "b1 = torch.randn(300, generator=generator, requires_grad=True) # Here as well\n",
    "\n",
    "W2 = torch.randn((300, 28), generator=generator, requires_grad=True) # Here as well\n",
    "b2 = torch.randn(28, generator=generator, requires_grad=True)\n",
    "\n",
    "parameters = [embeddings, W1, b1, W2, b2]"
   ]
  },
  {
   "cell_type": "code",
   "execution_count": 241,
   "id": "57dbce82-4216-4ed7-9c8f-c070e4064eac",
   "metadata": {},
   "outputs": [
    {
     "data": {
      "text/plain": [
       "10584"
      ]
     },
     "execution_count": 241,
     "metadata": {},
     "output_type": "execute_result"
    }
   ],
   "source": [
    "# Now the model is...\n",
    "sum(p.nelement() for p in parameters)"
   ]
  },
  {
   "cell_type": "markdown",
   "id": "06900c33-834b-4fde-8a05-4bed4541648e",
   "metadata": {},
   "source": [
    "We have now `10.5K` parameters in the neural net!"
   ]
  },
  {
   "cell_type": "code",
   "execution_count": 242,
   "id": "f23cc8c6-8966-46da-b89b-31ac86f0fd9f",
   "metadata": {},
   "outputs": [],
   "source": [
    "losses = []"
   ]
  },
  {
   "cell_type": "code",
   "execution_count": 246,
   "id": "5860f671-0e0d-4500-a774-91a206d8e23f",
   "metadata": {},
   "outputs": [],
   "source": [
    "batch_size = 32 \n",
    "epochs = 30_000\n",
    "\n",
    "\n",
    "for i in range(epochs):\n",
    "    # Data Sampling (FROM XTRAIN ONLY)\n",
    "    sample_idx = torch.randint(0, Xtrain.shape[0], (32,), generator=generator)\n",
    "    \n",
    "    # 1️⃣ Forward pass\n",
    "    emb = embeddings[Xtrain[sample_idx]] \n",
    "    h = torch.tanh(emb.view(-1, 6) @ W1 + b1)\n",
    "    logits = h @ W2 + b2 \n",
    "    loss = cross_entropy(logits, ytrain[sample_idx]) \n",
    "    \n",
    "    # 2️⃣ Backward\n",
    "    for p in parameters:\n",
    "        p.grad = None\n",
    "    loss.backward()\n",
    "    \n",
    "    # 3️⃣ Update\n",
    "    learning_rate = 0.1\n",
    "    for p in parameters:\n",
    "        p.data += -learning_rate * p.grad\n",
    "        \n",
    "    losses.append(loss.item())"
   ]
  },
  {
   "cell_type": "code",
   "execution_count": 247,
   "id": "5789260b-f708-4419-a925-c00015065072",
   "metadata": {},
   "outputs": [
    {
     "data": {
      "image/png": "[encoded data removed]",
      "text/plain": [
       "<Figure size 432x288 with 1 Axes>"
      ]
     },
     "metadata": {
      "needs_background": "light"
     },
     "output_type": "display_data"
    }
   ],
   "source": [
    "plt.plot(losses, lw=0.1)\n",
    "plt.title(\"Training loss\");"
   ]
  },
  {
   "cell_type": "code",
   "execution_count": 248,
   "id": "66325a71-76d4-414d-a183-961d8171a92a",
   "metadata": {},
   "outputs": [
    {
     "data": {
      "text/plain": [
       "2.6395883560180664"
      ]
     },
     "execution_count": 248,
     "metadata": {},
     "output_type": "execute_result"
    }
   ],
   "source": [
    "losses[-1]"
   ]
  },
  {
   "cell_type": "markdown",
   "id": "932b5dc3-3fd3-4d01-973b-8e9ea6423817",
   "metadata": {},
   "source": [
    "### 2️⃣ Evaluate using `Xval`"
   ]
  },
  {
   "cell_type": "code",
   "execution_count": 249,
   "id": "1394f3ea-b088-4029-a837-0a3a08896523",
   "metadata": {},
   "outputs": [
    {
     "data": {
      "text/plain": [
       "tensor(2.5335, grad_fn=<NllLossBackward0>)"
      ]
     },
     "execution_count": 249,
     "metadata": {},
     "output_type": "execute_result"
    }
   ],
   "source": [
    "emb = embeddings[Xval]\n",
    "h = torch.tanh(emb.view(-1, 6) @ W1 + b1)\n",
    "logits = h @ W2 + b2 \n",
    "final_loss = cross_entropy(logits, yval)\n",
    "final_loss"
   ]
  },
  {
   "cell_type": "markdown",
   "id": "714358dd-28fc-415e-8e5c-69f77d61782c",
   "metadata": {},
   "source": [
    "## Hey, before going forward\n",
    "2 really **helpful** notes given in the lecture **if the performance is not improving**:\n",
    "1. **Check the mini-batch size**: Because smaller batch will not let the model to learn much, so the loss tends to jagger a and won't converge.\n",
    "2. **The bottleneck**: We are still playing with the embeddings `2`. That might not be enough for the model to learn.\n",
    "\n",
    "There can be ***many*** moving parts in the model. That's why we need to understand the hyperparameters and what to touch and what not to. But otherwise **the model** is big enought that **should** overfit the training data!"
   ]
  },
  {
   "cell_type": "markdown",
   "id": "f4536d80-27c8-4248-aab9-38b17d6099a9",
   "metadata": {},
   "source": [
    "# 😰 Embeddings are going to get crazy!"
   ]
  },
  {
   "cell_type": "code",
   "execution_count": 276,
   "id": "e689efa7-d9c0-425b-a74f-58765e930f1c",
   "metadata": {},
   "outputs": [],
   "source": [
    "generator = torch.Generator().manual_seed(42)\n",
    "\n",
    "# EMBEDDINGS OF SIZE 10\n",
    "embeddings = torch.randn((28, 10), generator=generator, requires_grad=True)\n",
    "W1 = torch.randn((30, 200), generator=generator, requires_grad=True) # Changed the output params 200\n",
    "b1 = torch.randn(200, generator=generator, requires_grad=True) # Here as well\n",
    "\n",
    "W2 = torch.randn((200, 28), generator=generator, requires_grad=True) # Here as well\n",
    "b2 = torch.randn(28, generator=generator, requires_grad=True)\n",
    "\n",
    "parameters = [embeddings, W1, b1, W2, b2]"
   ]
  },
  {
   "cell_type": "code",
   "execution_count": 277,
   "id": "ac13d4f7-68ae-4579-a441-5c0195a39fd0",
   "metadata": {},
   "outputs": [
    {
     "data": {
      "text/plain": [
       "12108"
      ]
     },
     "execution_count": 277,
     "metadata": {},
     "output_type": "execute_result"
    }
   ],
   "source": [
    "# Now the model is...\n",
    "sum(p.nelement() for p in parameters)"
   ]
  },
  {
   "cell_type": "markdown",
   "id": "14bc8931-3658-4982-9b50-28decb5630f3",
   "metadata": {},
   "source": [
    "We have now `12K` parameters in the neural net!"
   ]
  },
  {
   "cell_type": "code",
   "execution_count": 278,
   "id": "41dcf661-db9b-4cdd-b5ec-997b1a6d16ad",
   "metadata": {},
   "outputs": [],
   "source": [
    "losses = []"
   ]
  },
  {
   "cell_type": "markdown",
   "id": "a98455a9-78c9-40ab-8817-94b6a1a392a2",
   "metadata": {},
   "source": [
    "👉 Since the size of the embeddings is `10`, we will have to change the `emb.view(-1, 6)`  to `emb.view(-1, 30)` for obvious reasons."
   ]
  },
  {
   "cell_type": "code",
   "execution_count": 294,
   "id": "3321a633-0c54-46cf-9cfb-4eb5da2ae38c",
   "metadata": {},
   "outputs": [],
   "source": [
    "batch_size = 32 \n",
    "epochs = 200_000\n",
    "\n",
    "\n",
    "for i in range(epochs):\n",
    "    # Data Sampling (FROM XTRAIN ONLY)\n",
    "    sample_idx = torch.randint(0, Xtrain.shape[0], (32,), generator=generator)\n",
    "    \n",
    "    # 1️⃣ Forward pass\n",
    "    emb = embeddings[Xtrain[sample_idx]] \n",
    "    h = torch.tanh(emb.view(-1, 30) @ W1 + b1) ### CAREFUL! USE PROPER VIEW. ###\n",
    "    logits = h @ W2 + b2 \n",
    "    loss = cross_entropy(logits, ytrain[sample_idx]) \n",
    "    \n",
    "    # 2️⃣ Backward\n",
    "    for p in parameters:\n",
    "        p.grad = None\n",
    "    loss.backward()\n",
    "    \n",
    "    # 3️⃣ Update\n",
    "    learning_rate = 0.01\n",
    "    for p in parameters:\n",
    "        p.data += -learning_rate * p.grad\n",
    "        \n",
    "    losses.append(loss.log10().item()) # for better visualization"
   ]
  },
  {
   "cell_type": "code",
   "execution_count": 295,
   "id": "4b4fbece-049c-453d-a2bf-e1be8fb77cd2",
   "metadata": {},
   "outputs": [
    {
     "data": {
      "image/png": "[encoded data removed]",
      "text/plain": [
       "<Figure size 432x288 with 1 Axes>"
      ]
     },
     "metadata": {
      "needs_background": "light"
     },
     "output_type": "display_data"
    }
   ],
   "source": [
    "plt.plot(losses, lw=0.1)\n",
    "plt.title(\"Training loss\");"
   ]
  },
  {
   "cell_type": "markdown",
   "id": "72ca468c-b0b4-455c-adf7-d1953eabef11",
   "metadata": {},
   "source": [
    "### 2️⃣ Evaluate using `Xval`"
   ]
  },
  {
   "cell_type": "code",
   "execution_count": 297,
   "id": "4df7d76b-5fea-40ca-8d96-b28eeee7f526",
   "metadata": {},
   "outputs": [
    {
     "data": {
      "text/plain": [
       "tensor(2.2037, grad_fn=<NllLossBackward0>)"
      ]
     },
     "execution_count": 297,
     "metadata": {},
     "output_type": "execute_result"
    }
   ],
   "source": [
    "emb = embeddings[Xval]\n",
    "h = torch.tanh(emb.view(-1, 30) @ W1 + b1)\n",
    "logits = h @ W2 + b2 \n",
    "final_loss = cross_entropy(logits, yval)\n",
    "final_loss"
   ]
  },
  {
   "cell_type": "markdown",
   "id": "61a8d415-7051-40b5-84f6-95548c838501",
   "metadata": {},
   "source": [
    "### 3️⃣ Finally on the test set!?"
   ]
  },
  {
   "cell_type": "code",
   "execution_count": 298,
   "id": "504ee4c5-3d13-4c54-b3a7-18d71e177fbd",
   "metadata": {},
   "outputs": [
    {
     "data": {
      "text/plain": [
       "tensor(2.2017, grad_fn=<NllLossBackward0>)"
      ]
     },
     "execution_count": 298,
     "metadata": {},
     "output_type": "execute_result"
    }
   ],
   "source": [
    "emb = embeddings[Xtest]\n",
    "h = torch.tanh(emb.view(-1, 30) @ W1 + b1)\n",
    "logits = h @ W2 + b2 \n",
    "final_loss = cross_entropy(logits, ytest)\n",
    "final_loss"
   ]
  },
  {
   "cell_type": "markdown",
   "id": "0a7aafd6-7070-4a10-aa74-f4f7b5687a41",
   "metadata": {},
   "source": [
    "Good!"
   ]
  },
  {
   "cell_type": "markdown",
   "id": "84f55be1-94cf-474a-baeb-deb4a4cf8f57",
   "metadata": {},
   "source": [
    "# Making-more! 🎉"
   ]
  },
  {
   "cell_type": "code",
   "execution_count": null,
   "id": "b55d6d01-2997-4960-8d9d-92f8fc30e89a",
   "metadata": {},
   "outputs": [],
   "source": [
    "block_size = 3\n",
    "sot = chr_to_number[\"<\"]\n",
    "\n",
    "for name in shuffled_names: #FOR ALL NAMES\n",
    "    window_chars = [sot] * block_size\n",
    "    name = name + \">\" \n",
    "\n",
    "    for ch in name:\n",
    "        _3chars = ''.join(\n",
    "            list(\n",
    "                map(lambda x:number_to_chr[x], window_chars)\n",
    "            )) \n",
    "        ch_index = chr_to_number[ch]\n",
    "\n",
    "        X.append(window_chars)\n",
    "        y.append(ch_index)\n",
    "        window_chars = window_chars[1:] + [ch_index]"
   ]
  },
  {
   "cell_type": "code",
   "execution_count": 309,
   "id": "9bcfa4bf-4638-4ccb-a83d-3b02bdb98186",
   "metadata": {},
   "outputs": [],
   "source": [
    "from torch.nn.functional import softmax"
   ]
  },
  {
   "cell_type": "code",
   "execution_count": 310,
   "id": "36e29508-80fe-442c-9837-f0f57695fed1",
   "metadata": {},
   "outputs": [],
   "source": [
    "emb = embeddings[[0,0,0]]\n",
    "h = torch.tanh(emb.view(1, -1) @ W1 + b1)\n",
    "logits = h @ W2 + b2\n",
    "probs = softmax(logits, dim=1)"
   ]
  },
  {
   "cell_type": "code",
   "execution_count": 314,
   "id": "3f287715-6f8c-4cef-84ea-7999c44d295e",
   "metadata": {},
   "outputs": [
    {
     "data": {
      "text/plain": [
       "tensor([[1.4356e-05, 3.1706e-06, 1.1582e-01, 4.1477e-02, 5.2057e-02, 5.1377e-02,\n",
       "         5.7331e-02, 1.2289e-02, 1.9954e-02, 3.4209e-02, 1.6486e-02, 7.6566e-02,\n",
       "         9.2696e-02, 6.1814e-02, 7.4182e-02, 3.7534e-02, 9.5969e-03, 1.8014e-02,\n",
       "         2.7535e-03, 4.0450e-02, 5.8364e-02, 4.4855e-02, 2.1251e-03, 1.5514e-02,\n",
       "         1.0298e-02, 3.8403e-03, 1.8634e-02, 3.1746e-02]],\n",
       "       grad_fn=<SoftmaxBackward0>)"
      ]
     },
     "execution_count": 314,
     "metadata": {},
     "output_type": "execute_result"
    }
   ],
   "source": [
    "probs"
   ]
  },
  {
   "cell_type": "code",
   "execution_count": 323,
   "id": "e29d5853-a4f7-4ff2-9b17-3966a98b237f",
   "metadata": {},
   "outputs": [],
   "source": [
    "block_size = 3\n",
    "sot = chr_to_number[\"<\"]\n",
    "eot = chr_to_number[\">\"]\n",
    "new_names = []\n",
    "\n",
    "for i in range(20):\n",
    "    new_name = []\n",
    "    window_chars = [0] * block_size\n",
    "    ch_ix = sot\n",
    "    \n",
    "    while ch_ix != eot:\n",
    "        emb = embeddings[window_chars]\n",
    "        h = torch.tanh(emb.view(1, -1) @ W1 + b1)\n",
    "        logits = h @ W2 + b2\n",
    "        probs = softmax(logits, dim=1)\n",
    "        \n",
    "        ch_ix = torch.multinomial(probs, num_samples=1, generator=generator).item()\n",
    "        ch = number_to_chr[ch_ix]\n",
    "        new_name.append(ch)\n",
    "        window_chars = window_chars[1:] + [ch_ix]\n",
    "    \n",
    "    new_names.append(''.join(new_name))"
   ]
  },
  {
   "cell_type": "code",
   "execution_count": 324,
   "id": "f30a5f8e-106a-47a6-9fa2-8f5cfb6326e1",
   "metadata": {},
   "outputs": [
    {
     "data": {
      "text/plain": [
       "['hia>',\n",
       " 'kaidestov>',\n",
       " 'ahmelen>',\n",
       " 'corhakni>',\n",
       " 'zhia>',\n",
       " 'eksisti>',\n",
       " 'feminlee>',\n",
       " 'khiane>',\n",
       " 'zai>',\n",
       " 'oleann>',\n",
       " 'nalalainylie>',\n",
       " 'chriy>',\n",
       " 'chari>',\n",
       " 'jamarda>',\n",
       " 'ashiveleortha>',\n",
       " 'makbili>',\n",
       " 'kaybarnie>',\n",
       " 'eser>',\n",
       " 'zristabtun>',\n",
       " 'akenleyah>']"
      ]
     },
     "execution_count": 324,
     "metadata": {},
     "output_type": "execute_result"
    }
   ],
   "source": [
    "new_names"
   ]
  },
  {
   "cell_type": "code",
   "execution_count": 329,
   "id": "9f428695-aca4-4806-8e18-cbb7ba24be9d",
   "metadata": {},
   "outputs": [],
   "source": [
    "model = dict(\n",
    "    embeddings=embeddings,\n",
    "    W1=W1,\n",
    "    b1=b1,\n",
    "    W2=W2,\n",
    "    b2=b2\n",
    ")"
   ]
  },
  {
   "cell_type": "code",
   "execution_count": 330,
   "id": "0fd9a35b-a1e4-4ba5-8ca6-317285155285",
   "metadata": {},
   "outputs": [],
   "source": [
    "# Storing the model for future use.\n",
    "import pickle\n",
    "with open(\"makemore_mlp.pkl\", \"wb\") as file:\n",
    "    pickle.dump(model, file)"
   ]
  },
  {
   "cell_type": "markdown",
   "id": "7676fac0-d19f-48c2-ab0e-4cbcde0a4f8f",
   "metadata": {},
   "source": [
    "# Amazing! 🙌\n",
    "Thankfully we are heading towards a better names! Keep some of them in your mind for your future generation 😉"
   ]
  }
 ],
 "metadata": {
  "kernelspec": {
   "display_name": "Python 3 (ipykernel)",
   "language": "python",
   "name": "python3"
  },
  "language_info": {
   "codemirror_mode": {
    "name": "ipython",
    "version": 3
   },
   "file_extension": ".py",
   "mimetype": "text/x-python",
   "name": "python",
   "nbconvert_exporter": "python",
   "pygments_lexer": "ipython3",
   "version": "3.9.12"
  }
 },
 "nbformat": 4,
 "nbformat_minor": 5
}
